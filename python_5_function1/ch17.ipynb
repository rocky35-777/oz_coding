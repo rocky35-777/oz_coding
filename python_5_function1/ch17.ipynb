{
 "cells": [
  {
   "cell_type": "code",
   "execution_count": 1,
   "metadata": {},
   "outputs": [
    {
     "name": "stdout",
     "output_type": "stream",
     "text": [
      "6300 원입니다.\n"
     ]
    }
   ],
   "source": [
    "def 계산(a, b, c) : \n",
    "    합계 = (a * 1000) + (b * 500) + (c * 100)\n",
    "    return 합계\n",
    "\n",
    "print(계산(5, 2, 3), \"원입니다.\")\n"
   ]
  },
  {
   "cell_type": "code",
   "execution_count": 34,
   "metadata": {},
   "outputs": [
    {
     "name": "stdout",
     "output_type": "stream",
     "text": [
      "100\n"
     ]
    }
   ],
   "source": [
    "a = 100 # 전역변수\n",
    "\n",
    "def f():\n",
    "    global a # 전역변수 가져오기\n",
    "    a = a + 1 # a += 1\n",
    "    return a\n",
    "\n",
    "print(a)\n",
    "\n",
    "# print(a) #100이 나오는 이유는 \n"
   ]
  },
  {
   "cell_type": "code",
   "execution_count": null,
   "metadata": {},
   "outputs": [],
   "source": [
    "# 등급별 가격을 dict로 정의합니다. # 전역변수\n",
    "won = {\"A등급\": 1000, \"B등급\": 500, \"C등급\": 100}\n",
    "\n",
    "# 등급별 가격을 합산하여 반환하는 함수를 정의합니다.\n",
    "def 계산(a, b, c):\n",
    "    # 딕셔너리의 값들을 합하여 등급별 가격의 합계를 계산합니다. #지역변수 가져왔는데 딕트 타입 한해서만 응용이 가능하다!!! \n",
    "    합계 = won['A등급'] * a + won['B등급'] * b + won['C등급'] * c\n",
    "    return 합계\n",
    "    \n",
    "# 계산 함수를 호출하여 등급별 가격의 합계를 출력합니다.\n",
    "print(계산(5, 2, 3), '원입니다.')\n",
    "\n",
    "#출력\n",
    "6300원입니다."
   ]
  },
  {
   "cell_type": "code",
   "execution_count": null,
   "metadata": {},
   "outputs": [
    {
     "name": "stdout",
     "output_type": "stream",
     "text": [
      "314.0\n"
     ]
    }
   ],
   "source": [
    "# 상수 = 변하지 않는 수 \n",
    "# 전역 변수로 원주율을 정의합니다.\n",
    "PI = 3.14\n",
    "\n",
    "# 원의 넓이를 계산하는 함수를 정의합니다. 함수는 원의 반지름과 원주율을 매개변수로 받습니다.\n",
    "def circle(r, inputpi):\n",
    "    # 원의 넓이를 계산하여 변수 z에 저장합니다.\n",
    "    z = r * r * inputpi\n",
    "    # 계산된 넓이 값을 반환합니다.\n",
    "    return z\n",
    "\n",
    "# circle 함수를 호출하여 반지름이 10인 원의 넓이를 계산합니다. 이때 사용할 원주율을 전역 변수 PI로 지정합니다.\n",
    "result = circle(10, PI) # 전역변수를 아큐먼트에 넣어서 사용하는 것은 가능함. 이렇게 많이 사용하길!!!\n",
    "\n",
    "# 계산된 넓이를 출력합니다.\n",
    "print(result)"
   ]
  },
  {
   "cell_type": "code",
   "execution_count": null,
   "metadata": {},
   "outputs": [],
   "source": [
    "# 항상 호출을 확인해야 한다. \n",
    "\n",
    "\n",
    "# 각각의 수확물을 저장할 전역 변수를 초기화합니다.\n",
    "A = 0  # 감자\n",
    "B = 0  # 양파\n",
    "C = 0  # 옥수수\n",
    "유물 = 0  # 기타 수확물\n",
    "\n",
    "# 감자를 수확하는 함수를 정의합니다.\n",
    "def 감자():\n",
    "    # 전역 변수 A에 1을 더합니다.\n",
    "    global A\n",
    "    A += 1\n",
    "\n",
    "# 양파를 수확하는 함수를 정의합니다.\n",
    "def 양파():\n",
    "    # 전역 변수 A, B, C에 각각 3, 3, 4를 더합니다.\n",
    "    global A, B, C\n",
    "    A += 3\n",
    "    B += 3\n",
    "    C += 4\n",
    "\n",
    "# 옥수수를 수확하는 함수를 정의합니다.\n",
    "def 옥수수():\n",
    "    # 전역 변수 유물에 1을 더합니다.\n",
    "    global 유물\n",
    "    유물 += 1\n",
    "\n",
    "# 각각의 수확 함수를 호출하여 수확량을 누적합니다.\n",
    "감자()\n",
    "양파()\n",
    "옥수수()\n",
    "\n",
    "# 총 수확량을 계산합니다.\n",
    "합계 = A + B + C + 유물\n",
    "\n",
    "# 총 수확량을 출력합니다.\n",
    "print('오늘 수확한 수확물:', 합계)\n",
    "\n",
    "#출력\n",
    "오늘 수확한 수확물 : 12"
   ]
  },
  {
   "cell_type": "code",
   "execution_count": 38,
   "metadata": {},
   "outputs": [
    {
     "name": "stdout",
     "output_type": "stream",
     "text": [
      "콩콩팥팥 수확의 기쁨\n"
     ]
    }
   ],
   "source": [
    "def print_text():\n",
    "\t\t# text 변수에 문자열 할당\n",
    "    text = \"콩콩팥팥 수확의 기쁨\" \n",
    "\t\t\n",
    "\t\t# 중첩 함수 txt 정의\n",
    "    def txt():\n",
    "\t\t    # 바깥쪽 함수인 print_text의 변수인 text를 출력\n",
    "        print(text)\n",
    "\t\t\n",
    "\t\t# 중첩 함수 호출\n",
    "    txt()\n",
    "print_text()\n",
    "\n",
    "# print_text 함수 호출\n",
    "# print_text()\n"
   ]
  },
  {
   "cell_type": "code",
   "execution_count": 40,
   "metadata": {},
   "outputs": [
    {
     "name": "stdout",
     "output_type": "stream",
     "text": [
      "12\n"
     ]
    }
   ],
   "source": [
    "# 수확철 함수 정의\n",
    "def 수확철():\n",
    "    # 야채 딕셔너리 초기화\n",
    "    야채 = {'A등급': 0, 'B등급': 0, 'C등급': 0}\n",
    "\n",
    "    # 양파 함수 정의\n",
    "    def 양파():\n",
    "        # A등급 야채 개수 증가\n",
    "        야채['A등급'] += 1  \n",
    "\n",
    "    # 대파 함수 정의\n",
    "    def 대파():\n",
    "        # A등급, B등급, C등급 야채 개수 증가\n",
    "        야채['A등급'] += 3  \n",
    "        야채['B등급'] += 3  \n",
    "        야채['C등급'] += 4  \n",
    "\n",
    "    # 쪽파 함수 정의\n",
    "    def 쪽파():\n",
    "        # 금 등급 야채 추가\n",
    "        야채['금'] = 1  \n",
    "\n",
    "    # 양파, 대파, 쪽파 함수 호출\n",
    "    양파()  \n",
    "    대파()  \n",
    "    쪽파()  \n",
    "\n",
    "    # 야채 딕셔너리 반환\n",
    "    return 야채  \n",
    "\n",
    "# 수확철 함수 호출 및 결과 출력\n",
    "# print(수확철())\n",
    "print(sum(수확철().values()))  \n",
    "\n"
   ]
  },
  {
   "cell_type": "code",
   "execution_count": null,
   "metadata": {},
   "outputs": [],
   "source": [
    "# 마이크로 단위로 함수를 작성하고 있다. 3줄까지... \n",
    "# 연산자 우선순위 중요함! 함수가 꼬일 수도 있어서. "
   ]
  }
 ],
 "metadata": {
  "kernelspec": {
   "display_name": "Python 3",
   "language": "python",
   "name": "python3"
  },
  "language_info": {
   "codemirror_mode": {
    "name": "ipython",
    "version": 3
   },
   "file_extension": ".py",
   "mimetype": "text/x-python",
   "name": "python",
   "nbconvert_exporter": "python",
   "pygments_lexer": "ipython3",
   "version": "3.12.6"
  }
 },
 "nbformat": 4,
 "nbformat_minor": 2
}
