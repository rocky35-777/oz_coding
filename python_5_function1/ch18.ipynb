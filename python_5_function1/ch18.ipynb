{
 "cells": [
  {
   "cell_type": "code",
   "execution_count": null,
   "metadata": {},
   "outputs": [],
   "source": [
    "class 클래스 이름:\n",
    "\t\tdef 메서드(self): #self 함수 = 초기화시키는\n",
    "\t\t\t\t코드"
   ]
  },
  {
   "cell_type": "code",
   "execution_count": 7,
   "metadata": {},
   "outputs": [
    {
     "name": "stdout",
     "output_type": "stream",
     "text": [
      "수강생 여러분\n"
     ]
    },
    {
     "data": {
      "text/plain": [
       "'\\nclass Car:\\n    def __init__(self, color):\\n        self.color = color\\n\\n# 인스턴스 생성\\nmy_car = Car(\"red\")\\nCar: 클래스 (설계도)\\nmy_car: 변수 (인스턴스를 참조함)\\nCar(\"red\"): 인스턴스 (클래스를 기반으로 생성된 객체)\\n'"
      ]
     },
     "execution_count": 7,
     "metadata": {},
     "output_type": "execute_result"
    }
   ],
   "source": [
    "class Person:\n",
    "    def hello(self):\n",
    "           print('수강생 여러분')\n",
    "\n",
    "호출 = Person()\n",
    "호출.hello()\n",
    "#메서드의 예시\n",
    "# .index(), .count()\n",
    "\n",
    "\"\"\"\n",
    "class Car:\n",
    "    def __init__(self, color):\n",
    "        self.color = color\n",
    "\n",
    "# 인스턴스 생성\n",
    "my_car = Car(\"red\")\n",
    "Car: 클래스 (설계도)\n",
    "my_car: 변수 (인스턴스를 참조함)\n",
    "Car(\"red\"): 인스턴스 (클래스를 기반으로 생성된 객체)\n",
    "\"\"\""
   ]
  },
  {
   "cell_type": "code",
   "execution_count": null,
   "metadata": {},
   "outputs": [
    {
     "name": "stdout",
     "output_type": "stream",
     "text": [
      "10\n",
      "[0, 1, 2, 3, 4, 5, 6, 7, 8, 9]\n"
     ]
    }
   ],
   "source": [
    "a = int(10) #a 인스턴스입니다.\n",
    "print(a)\n",
    "b = list(range(10)) #b 인스턴스입니다.\n",
    "print(b)\n",
    "\n",
    "# 인스턴스 + 클래그 = 인스턴스라고 말한다. 객체 자체는 언급할 때는 객체라고 한다. \n",
    "# 인스턴스 = 객체"
   ]
  },
  {
   "cell_type": "code",
   "execution_count": null,
   "metadata": {},
   "outputs": [],
   "source": [
    "class 클래스이름:\n",
    "\t\tdef __init__(self): # __ 매직메소드 \n",
    "\t\t\t\tself.속성 = 값\n",
    "\t\t\t\t\n",
    "# Person 클래스를 정의합니다.\n",
    "class Person:\n",
    "    def __init__(self):\n",
    "        self.hello = \"안녕하세요\"\n",
    "        \n",
    "    # greeting 메서드를 정의합니다.\n",
    "    def greeting(self):\n",
    "        print(self.hello)\n",
    "        \n",
    "# Person 클래스의 인스턴스를 생성합니다.\n",
    "호출 = Person()\n",
    "\n",
    "# greeting 메서드를 호출합니다.\n",
    "호출.greeting()\n",
    "\n",
    "#출력\n",
    "안녕하세요"
   ]
  },
  {
   "cell_type": "code",
   "execution_count": null,
   "metadata": {},
   "outputs": [],
   "source": [
    "# 매직메서드 \n",
    "print(dir(int))\n",
    "\n",
    "# 장고에서 많이 사용함 __\n",
    "`self` = **인스턴스 자기 자신**을 의미합니다.\n",
    "\n",
    "이 함수에서 `__init__` 의 매개변수 self에 들어가는 값은 Person()입니다.\n"
   ]
  },
  {
   "cell_type": "code",
   "execution_count": null,
   "metadata": {},
   "outputs": [
    {
     "data": {
      "text/plain": [
       "300"
      ]
     },
     "execution_count": 13,
     "metadata": {},
     "output_type": "execute_result"
    }
   ],
   "source": [
    "\n",
    "class Car:\n",
    "    maxspeed = 300  # 최대 속도를 설정합니다.\n",
    "    maxpeople = 5   # 최대 탑승인원을 설정합니다.\n",
    "    def move(self, x):\n",
    "        print(\"스피드로 달리고 있습니다.\")\n",
    "    def stop(self):\n",
    "        print(\"멈췄습니다.\") \n",
    "\n",
    "class HybridCar(Car):\n",
    "    battery = 1000     # 배터리 용량을 설정합니다.\n",
    "    batteryKM = 300    # 배터리 주행 거리를 설정합니다.\n",
    "\n",
    "\n",
    "k5 = HybridCar()\n",
    "k5.maxspeed\n",
    "\n",
    "# 메서드 오버레이딩 _ 중복된 매서드는 가장 아래에 있는 메서드만 실행된다. \n",
    "\n"
   ]
  },
  {
   "cell_type": "code",
   "execution_count": null,
   "metadata": {},
   "outputs": [],
   "source": []
  }
 ],
 "metadata": {
  "kernelspec": {
   "display_name": "Python 3",
   "language": "python",
   "name": "python3"
  },
  "language_info": {
   "codemirror_mode": {
    "name": "ipython",
    "version": 3
   },
   "file_extension": ".py",
   "mimetype": "text/x-python",
   "name": "python",
   "nbconvert_exporter": "python",
   "pygments_lexer": "ipython3",
   "version": "3.12.6"
  }
 },
 "nbformat": 4,
 "nbformat_minor": 2
}
