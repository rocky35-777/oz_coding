{
 "cells": [
  {
   "cell_type": "markdown",
   "metadata": {},
   "source": [
    "### 사칙연산\n",
    "\n",
    "##사칙연산\n",
    "더하기 : +\n",
    "\n",
    "빼기 : -\n",
    "\n",
    "곱하기 : *\n",
    "\n",
    "나누기 :  \n",
    "*  / 우리가 알고 있는 나누기와 동일한 기능 5/2 = 2.5\n",
    "*  // 몫을 반환 5/2 = 2\n",
    "* % 나머지를 반환 5/2 = 1\n",
    "\n",
    "거듭제곱 : **"
   ]
  },
  {
   "cell_type": "markdown",
   "metadata": {},
   "source": [
    "#더하기\n",
    "print(3+2)"
   ]
  },
  {
   "cell_type": "code",
   "execution_count": null,
   "metadata": {
    "vscode": {
     "languageId": "plaintext"
    }
   },
   "outputs": [],
   "source": []
  }
 ],
 "metadata": {
  "language_info": {
   "name": "python"
  }
 },
 "nbformat": 4,
 "nbformat_minor": 2
}
