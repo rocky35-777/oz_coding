{
 "cells": [
  {
   "cell_type": "code",
   "execution_count": null,
   "metadata": {},
   "outputs": [],
   "source": [
    "# 기본 매개변수 활용\n",
    "\n",
    "def oz(value, n=2):\n",
    "    # value: 출력할 문자열을 나타내는 일반 매개변수입니다.\n",
    "    # n: 출력할 횟수를 나타내는 기본 매개변수입니다. 만약 명시되지 않으면 기본값으로 2가 사용됩니다.\n",
    "    for i in range(n):\n",
    "        # value를 n번 출력합니다.\n",
    "        print(value)\n",
    "\n",
    "# oz 함수를 호출하고 \"일반 매개변수 다음에 기본 매개변수를 배치해야 합니다.\" 문자열을 전달합니다.\n",
    "# n이 명시되지 않았으므로 기본값으로 2가 사용됩니다.\n",
    "oz(\"일반 매개변수 다음에 기본 매개변수를 배치해야 합니다.\")\n",
    "\n",
    "#출력\n",
    "일반 매개변수 다음에 기본 매개변수를 배치해야 합니다.\n",
    "일반 매개변수 다음에 기본 매개변수를 배치해야 합니다."
   ]
  },
  {
   "cell_type": "code",
   "execution_count": null,
   "metadata": {},
   "outputs": [],
   "source": [
    "# 기본 매개변수 값을 지정해 놓아도, 함수를 호출할 때 매개변수 값을 변경할 수 있음 \n",
    "\n",
    "def oz(value, n=2):\n",
    "    # value: 출력할 문자열을 나타내는 일반 매개변수입니다.\n",
    "    # n: 출력할 횟수를 나타내는 기본 매개변수입니다. 명시되지 않을 경우 기본값은 2입니다.\n",
    "    for i in range(n):\n",
    "        # value를 n번 출력합니다.\n",
    "        print(value)\n",
    "\n",
    "# oz 함수를 호출하고 \"일반 매개변수 다음에 기본 매개변수를 배치해야 합니다.\" 문자열을 전달합니다.\n",
    "# n 매개변수에 10을 전달하여 해당 문자열을 10번 출력합니다.\n",
    "oz(\"일반 매개변수 다음에 기본 매개변수를 배치해야 합니다.\", n=10)\n",
    "\n",
    "#출력\n",
    "일반 매개변수 다음에 기본 매개변수를 배치해야 합니다. * 10"
   ]
  },
  {
   "cell_type": "code",
   "execution_count": null,
   "metadata": {},
   "outputs": [],
   "source": [
    "# 기본 매개변수 뒤에는 일반 매개변수가 올 수 없습니다.\n",
    "\n",
    "def oz(n=2, value):\n",
    "    # 함수 oz 정의 시, 기본 매개변수를 일반 매개변수보다 뒤에 위치시켜야 합니다.\n",
    "    for i in range(n):\n",
    "        print(value)\n",
    "\n",
    "oz(\"일반 매개변수 다음에 기본 매개변수를 배치해야 합니다.\")\n",
    "\n",
    "\n",
    "#출력\n",
    "SyntaxError: non-default argument follows default argument"
   ]
  }
 ],
 "metadata": {
  "language_info": {
   "name": "python"
  }
 },
 "nbformat": 4,
 "nbformat_minor": 2
}
