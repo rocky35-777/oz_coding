{
 "cells": [
  {
   "metadata": {},
   "cell_type": "markdown",
   "source": "두 숫자를 더하는 람다 함수를 작성하고, 이를 변수에 할당한 후 사용하세요."
  },
  {
   "metadata": {},
   "cell_type": "markdown",
   "source": [
    "b## lambda함수\n",
    "\n",
    "한줄로 간단하게 만드는 함수.\n",
    "def 대신에 짧게 간단한 함수 빠르게 만들 때 사용"
   ]
  },
  {
   "metadata": {
    "ExecuteTime": {
     "end_time": "2025-04-28T00:55:00.292946Z",
     "start_time": "2025-04-28T00:55:00.289643Z"
    }
   },
   "cell_type": "code",
   "source": [
    "add = lambda x, y: x + y\n",
    "print(add(1, 2))\n"
   ],
   "outputs": [
    {
     "name": "stdout",
     "output_type": "stream",
     "text": [
      "3\n"
     ]
    }
   ],
   "execution_count": 1
  },
  {
   "metadata": {},
   "cell_type": "code",
   "outputs": [],
   "execution_count": null,
   "source": ""
  }
 ],
 "metadata": {
  "language_info": {
   "name": "python"
  }
 },
 "nbformat": 4,
 "nbformat_minor": 2
}
