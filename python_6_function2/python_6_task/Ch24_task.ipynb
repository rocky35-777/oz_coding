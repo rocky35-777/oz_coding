{
 "cells": [
  {
   "cell_type": "markdown",
   "metadata": {},
   "source": [
    "사용자의 이름, 나이, 성별을 출력하는 함수 print_info를 작성하세요. 이 때, 모든 매개변수는 키워드 매개변수로만 받도록 하세요."
   ]
  },
  {
   "cell_type": "markdown",
   "metadata": {},
   "source": []
  },
  {
   "metadata": {
    "ExecuteTime": {
     "end_time": "2025-04-24T15:36:18.735178Z",
     "start_time": "2025-04-24T15:36:18.731165Z"
    }
   },
   "cell_type": "code",
   "source": [
    "# 키워드 매개변수는 매개변수를 지정할 때 매개변수의 이름을 사용하여 값을 전달하는 것.\n",
    "\n",
    "def print_info(*, name, age, gender):\n",
    "    print(f\"이름: {name}\")\n",
    "    print(f\"나이: {age}\")\n",
    "    print(f\"성별: {gender}\")\n",
    "\n",
    "print_info(name=\"록키\", age=20, gender=\"여성\")\n"
   ],
   "outputs": [
    {
     "name": "stdout",
     "output_type": "stream",
     "text": [
      "이름: 록키\n",
      "나이: 20\n",
      "성별: 여성\n"
     ]
    }
   ],
   "execution_count": 8
  },
  {
   "metadata": {},
   "cell_type": "code",
   "outputs": [],
   "execution_count": null,
   "source": ""
  }
 ],
 "metadata": {
  "language_info": {
   "name": "python"
  }
 },
 "nbformat": 4,
 "nbformat_minor": 2
}
