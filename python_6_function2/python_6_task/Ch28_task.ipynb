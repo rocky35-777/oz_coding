{
 "cells": [
  {
   "cell_type": "markdown",
   "metadata": {},
   "source": [
    "사용자로부터 3개의 숫자를 입력받아, 이를 튜플로 만든 후 최소값과 최대값을 출력하는 함수 min_max를 작성하세요."
   ]
  },
  {
   "cell_type": "markdown",
   "metadata": {},
   "source": []
  },
  {
   "metadata": {
    "ExecuteTime": {
     "end_time": "2025-04-28T01:06:15.227449Z",
     "start_time": "2025-04-28T01:06:15.223973Z"
    }
   },
   "cell_type": "code",
   "source": [
    "def min_max(*numbers):\n",
    "    num_tuple = tuple(numbers)\n",
    "    print(\"최소값:\", min(num_tuple), \"최대값:\", max(num_tuple))\n",
    "\n",
    "min_max(10, 4, 6)\n"
   ],
   "outputs": [
    {
     "name": "stdout",
     "output_type": "stream",
     "text": [
      "최소값: 4 최대값: 10\n"
     ]
    }
   ],
   "execution_count": 1
  },
  {
   "metadata": {},
   "cell_type": "code",
   "outputs": [],
   "execution_count": null,
   "source": ""
  }
 ],
 "metadata": {
  "language_info": {
   "name": "python"
  }
 },
 "nbformat": 4,
 "nbformat_minor": 2
}
