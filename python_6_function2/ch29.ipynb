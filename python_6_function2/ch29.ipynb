{
 "cells": [
  {
   "metadata": {
    "ExecuteTime": {
     "end_time": "2025-04-24T04:02:27.580572Z",
     "start_time": "2025-04-24T04:02:27.577515Z"
    }
   },
   "cell_type": "code",
   "source": [
    "oz_tuple = (1, 2, 3)\n",
    "\n",
    "print(oz_tuple)\n",
    "print(oz_tuple[0])\n",
    "print(oz_tuple[1])\n",
    "print(oz_tuple[2])"
   ],
   "id": "f7dde71238275fc9",
   "outputs": [
    {
     "name": "stdout",
     "output_type": "stream",
     "text": [
      "(1, 2, 3)\n",
      "1\n",
      "2\n",
      "3\n"
     ]
    }
   ],
   "execution_count": 1
  },
  {
   "metadata": {},
   "cell_type": "markdown",
   "source": [
    "튜플은 list와 비슷한 시퀸스 자료형입니다.\n",
    "\n",
    "단, list와의 차이점은 요소를 바꿀 수 없다는 점입니다.\n",
    "\n",
    "튜플을 생성할 때는 소괄호”()”를 이용합니다.\n",
    "\n",
    "ex) 변수명 = (데이터1, 데이터2, 데이터3)\n",
    "\n",
    "memo = {\n",
    "1: 1,\n",
    "2: 1\n",
    "}\n",
    "\n",
    "count = 0\n",
    "\n",
    "def oz_fibo(n):\n",
    "print(f'피보나치 수열 {n}을 구하는 중입니다.\")\n",
    "global count\n",
    "count += 1"
   ],
   "id": "febc8ffbb2a09f94"
  },
  {
   "metadata": {},
   "cell_type": "code",
   "outputs": [],
   "execution_count": null,
   "source": [
    "if n in memo:\n",
    "\treturn memo[n]\n",
    "else:\n",
    "\toutput = oz_fibo(n - 1) + oz_fibo(n - 2)\n",
    "\tmemo[n] = output\n",
    "\treturn output"
   ],
   "id": "1d099caa24e17ad2"
  },
  {
   "metadata": {},
   "cell_type": "markdown",
   "source": "괄호 없이도 사용 가능, 그러나 데이터는 변경이 안됨",
   "id": "b9f16fc194d36d48"
  },
  {
   "metadata": {},
   "cell_type": "code",
   "outputs": [],
   "execution_count": null,
   "source": [
    "oz_tuple = 1, 2, 3, 4\n",
    "\n",
    "print(\"oz_tuple: \", oz_tuple)\n",
    "print(\"oz_tuple type: \", type(oz_tuple))\n",
    "\n",
    "# 출력\n",
    "oz_tuple: (1, 2, 3, 4)\n",
    "oz_tuple type: <class 'tuple'>"
   ],
   "id": "5fbb5a591187f1c3"
  },
  {
   "metadata": {},
   "cell_type": "code",
   "outputs": [],
   "execution_count": null,
   "source": [
    "x, y, z = 1, 2, 3\n",
    "print(x)\n",
    "print(y)\n",
    "print(z)\n",
    "\n",
    "# 출력\n",
    "1\n",
    "2\n",
    "3"
   ],
   "id": "69f5e36850b04555"
  },
  {
   "metadata": {},
   "cell_type": "code",
   "outputs": [],
   "execution_count": null,
   "source": [
    "# 데이터 변경할 수 없지만 교환할 수는 있음\n",
    ", y = 1, 2\n",
    "\n",
    "print(\"x :\", x)\n",
    "print(\"y :\", y)\n",
    "print()\n",
    "\n",
    "x,y = y,x\n",
    "print(\"x :\", x)\n",
    "print(\"y :\", y)\n",
    "\n",
    "# 출력\n",
    "x: 1\n",
    "y: 2\n",
    "\n",
    "x: 2\n",
    "y: 1"
   ],
   "id": "d85ee5ec2de75544"
  },
  {
   "metadata": {},
   "cell_type": "code",
   "outputs": [],
   "execution_count": null,
   "source": [
    "# 여러개의 값을 리턴할 수 있음\n",
    "\n",
    "def oz_tuple():\n",
    "\treturn (1, 2)\n",
    "\n",
    "x, y = oz_tuple()\n",
    "\n",
    "print(\"x: \", x)\n",
    "print(\"y: \", y)\n",
    "\n",
    "# 출력\n",
    "x: 1\n",
    "y: 2"
   ],
   "id": "cdfdccf9c3b3c72"
  },
  {
   "metadata": {},
   "cell_type": "code",
   "outputs": [],
   "execution_count": null,
   "source": [
    "# 튜플을 이용한 내부함수..!!\n",
    "\n",
    "# 튜플을 이용한 내부함수들\n",
    "# c()의 1, fruit는 (1, fruit)이나 괄호를 생략한 상태입니다.\n",
    "\n",
    "# 인덱스를 자동으로 출력해주는 함수 enumerate\n",
    "# 튜플 (1, 2, 3, 4)의 각 요소와 해당 요소의 인덱스를 반복하여 출력\n",
    "for index, fruit in enumerate((1, 2, 3, 4)):\n",
    "    print(index, fruit)  # 현재 인덱스와 해당 인덱스의 요소를 출력\n",
    "\n",
    "# 출력 () 괄호가 보이지는 않지만 사실 존재함. 이렇게 튜플형태로 출력해줌\n",
    "0 1\n",
    "1 2\n",
    "2 3\n",
    "3 4"
   ],
   "id": "10b55d1fd89ad2f0"
  },
  {
   "metadata": {},
   "cell_type": "code",
   "outputs": [],
   "execution_count": null,
   "source": [
    "# divcode() 사용 시 튜플 형태로 몫과 나머지를 반환\n",
    "a, b = 7, 3  # 변수 a와 b를 각각 7과 3으로 초기화\n",
    "x, y = divmod(a, b)  # divmod 함수를 사용하여 a를 b로 나눈 몫과 나머지를 구함\n",
    "\n",
    "print(\"몫: \", x)  # 계산된 몫 x를 출력\n",
    "print(\"나머지: \", y)  # 계산된 나머지 y를 출력\n",
    "\n",
    "# 출력\n",
    "몫: 2\n",
    "나머지: 1"
   ],
   "id": "2d5435efaf78492c"
  }
 ],
 "metadata": {},
 "nbformat": 4,
 "nbformat_minor": 5
}
