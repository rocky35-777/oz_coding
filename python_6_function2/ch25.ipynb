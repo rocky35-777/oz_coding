{
 "cells": [
  {
   "metadata": {},
   "cell_type": "markdown",
   "source": [
    "## 1. return\n",
    "\n",
    "return 키워드 : 함수를 실행한 위치로 되돌아 감, 일반적으로 함수가 끝나는 위치에 return을 사용합니다."
   ],
   "id": "928f7ad38309a5ff"
  },
  {
   "metadata": {},
   "cell_type": "code",
   "outputs": [],
   "execution_count": null,
   "source": [
    "# 값 없이 리턴하는 경우\n",
    "def oz_return():\n",
    "    \"\"\"\n",
    "    oz_return 함수는 \"파이썬\"과 \"재미있엉\"을 출력하고,\n",
    "    이후에 함수가 종료됩니다.\n",
    "    \"\"\"\n",
    "    print(\"파이썬\")  # \"파이썬\"을 출력\n",
    "    print(\"재미있엉\")  # \"재미있엉\"을 출력\n",
    "    return  # 함수 종료, 이후의 코드는 실행되지 않음\n",
    "    print(\"거짓말하네\")  # 이 코드는 실행되지 않음, return 이후의 코드는 무시됨\n",
    "\n",
    "# 출력\n",
    "파이썬\n",
    "재미있엉"
   ],
   "id": "33d09729975eadc2"
  },
  {
   "metadata": {
    "ExecuteTime": {
     "end_time": "2025-04-24T01:38:10.459196Z",
     "start_time": "2025-04-24T01:38:10.456478Z"
    }
   },
   "cell_type": "code",
   "source": [
    "# 값과 함께 리턴하는 경우 = 이걸 대부분 많이 사용함\n",
    "def oz_return():\n",
    "    \"\"\"\n",
    "    oz_return 함수는 \"파이썬 재미있엉\" 문자열을 반환합니다.\n",
    "\n",
    "    반환 값:\n",
    "    - str: \"파이썬 재미있엉\" 문자열\n",
    "    \"\"\"\n",
    "    return \"파이썬 재미있엉\"  # \"파이썬 재미있엉\" 문자열을 반환\n",
    "\n",
    "# oz_return 함수를 호출하고 그 반환 값을 result 변수에 저장\n",
    "result = oz_return()\n",
    "\n",
    "# result 변수의 값을 출력\n",
    "print(result)  # 출력 결과: \"파이썬 재미있엉\"\n",
    "\n",
    "# 출력\n",
    "# 파이썬 재미있엉"
   ],
   "id": "8c2f721f177e2ced",
   "outputs": [
    {
     "name": "stdout",
     "output_type": "stream",
     "text": [
      "파이썬 재미있엉\n"
     ]
    }
   ],
   "execution_count": 4
  },
  {
   "metadata": {},
   "cell_type": "code",
   "outputs": [],
   "execution_count": null,
   "source": [
    "# 아무것도 리턴하지 않는 경우\n",
    "def oz_return():\n",
    "    \"\"\"\n",
    "    oz_return 함수는 아무 값도 반환하지 않습니다.\n",
    "    (즉, None을 반환합니다)\n",
    "    none : 아무것도 없다. bool()함수를 이용할 경우 False로 간주됨.\n",
    "    \"\"\"\n",
    "    return  # 아무 값도 반환하지 않음 (None 반환)\n",
    "\n",
    "# oz_return 함수를 호출하고 그 반환 값을 result 변수에 저장\n",
    "result = oz_return()\n",
    "\n",
    "# result 변수의 값을 출력\n",
    "print(result)  # 출력 결과: None\n",
    "\n",
    "# 출력\n",
    "None"
   ],
   "id": "ce0f2b7c086b7a36"
  },
  {
   "metadata": {
    "ExecuteTime": {
     "end_time": "2025-04-24T01:43:23.757846Z",
     "start_time": "2025-04-24T01:43:20.611562Z"
    }
   },
   "cell_type": "code",
   "source": [
    "# input()함수\n",
    "\n",
    "result = input(\"1 + 1은 ?\")\n",
    "print(result)\n",
    "\n",
    "#출력\n",
    "2"
   ],
   "id": "b253ed2613b16ef1",
   "outputs": [
    {
     "name": "stdout",
     "output_type": "stream",
     "text": [
      "ㄴ\n"
     ]
    },
    {
     "data": {
      "text/plain": [
       "2"
      ]
     },
     "execution_count": 5,
     "metadata": {},
     "output_type": "execute_result"
    }
   ],
   "execution_count": 5
  },
  {
   "metadata": {},
   "cell_type": "markdown",
   "source": [
    "input() 함수는 값을 입력받을 수 있게 해주는 기능을 가지고 있는 것으로만 생각하고 사용해왔습니다. return이라는 개념을 넣어서 이 과정을 설명해볼 수 있을 것 같습니다.\n",
    "\n",
    "input()함수는 입력받은 값을 문자열로 돌려줍니다. 여기서 **돌려준다**는 의미는 **return** 한다는 의미와 같습니다.\n",
    "\n",
    "그렇기 때문에 input()을 통해 입력받은 값을 변수에 담아 사용할 수 있게 되는겁니다.\n",
    "\n",
    "대부분 무엇인가를 반환하는 함수들은 return을 이용한다고 생각하시면 됩니다."
   ],
   "id": "b678c0effce4a785"
  }
 ],
 "metadata": {},
 "nbformat": 4,
 "nbformat_minor": 5
}
