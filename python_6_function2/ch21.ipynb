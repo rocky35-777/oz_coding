{
 "cells": [
  {
   "cell_type": "code",
   "execution_count": null,
   "id": "18e61ce49b69c34",
   "metadata": {},
   "outputs": [],
   "source": [
    "### 함수 기본\n",
    "\n",
    "함수 : 목적이 있는 코드의 집합\n",
    "\n",
    "def 함수이름():\n",
    "    코드\n",
    "\n",
    "def 는 define으로 함수를 정의하겠다는 의미로 사용됨."
   ]
  },
  {
   "cell_type": "code",
   "id": "2b03e7cd680e9c9b",
   "metadata": {
    "ExecuteTime": {
     "end_time": "2025-04-24T01:29:14.990593Z",
     "start_time": "2025-04-24T01:29:14.986824Z"
    }
   },
   "source": [
    "# 함수 선언부\n",
    "# oz라는 함수를 정의할께. 그리고 이 함수가 실행되면 for문을 이용해 oz코딩스쿨이라는 내용이 5번 출력되도록 해줘.\n",
    "def oz():\n",
    "\tfor i in range(5):\n",
    "\t    print(\"oz코딩스쿨\")\n",
    "\n",
    "oz() \n",
    "# 함수 실행부 => 호출한다 (전문용어)\n",
    "# oz함수를 호출해줘!"
   ],
   "outputs": [
    {
     "name": "stdout",
     "output_type": "stream",
     "text": [
      "oz코딩스쿨\n",
      "oz코딩스쿨\n",
      "oz코딩스쿨\n",
      "oz코딩스쿨\n",
      "oz코딩스쿨\n"
     ]
    }
   ],
   "execution_count": 1
  },
  {
   "cell_type": "code",
   "execution_count": 5,
   "id": "a421e4bb",
   "metadata": {},
   "outputs": [
    {
     "name": "stdout",
     "output_type": "stream",
     "text": [
      "\n"
     ]
    }
   ],
   "source": [
    "# print() 는 함수에 값을 넣어서 호출하기.\n",
    "print()"
   ]
  },
  {
   "cell_type": "markdown",
   "id": "5c343a57",
   "metadata": {},
   "source": [
    "## 3. 함수의 매개변수\n",
    "\n",
    "print 함수는 **실행할 때 입력값을 넣어서 실행**시킬 수 있습니다.\n",
    "\n",
    "```python\n",
    "print(괄호 사이에 입력값을 넣을 수 있습니다.)\n",
    "```\n",
    "\n",
    "앞서 설명한 함수의 **기본 구조에서 값을 받을 수 있는 형태로 변형이 가능**합니다.\n",
    "\n",
    "```python\n",
    "#함수의 구조\n",
    "def 함수이름(매개변수, 매개변수):\n",
    "\t\t코드\n",
    "```\n",
    "\n",
    "**함수의 괄호안에 들어오는 값을 매개변수(parameter)**라고 합니다.\n",
    "\n",
    "이렇게 입력되는 매개변수들을 구분을 위해서 식별자를 만들어줍니다."
   ]
  },
  {
   "cell_type": "code",
   "execution_count": null,
   "id": "16de6260",
   "metadata": {},
   "outputs": [],
   "source": [
    "# 식별자 ( 매개변수를 구분하기 위해)\n",
    "\n",
    "def oz(message, n):\n",
    "    # message는 함수 oz의 첫 번째 매개변수입니다. 이 매개변수는 출력할 메시지를 나타냅니다.\n",
    "    # n은 함수 oz의 두 번째 매개변수입니다. 이 매개변수는 메시지를 반복 출력할 횟수를 나타냅니다.\n",
    "    for i in range(n):\n",
    "        # message 매개변수는 출력할 메시지를 식별합니다.\n",
    "        # n 매개변수는 반복 횟수를 식별합니다.\n",
    "        print(message)\n",
    "\n",
    "# 'oz코딩스쿨' 메시지를 5번 출력합니다.\n",
    "oz('oz코딩스쿨', 5)\n"
   ]
  },
  {
   "cell_type": "markdown",
   "id": "b6033342",
   "metadata": {},
   "source": [
    "위 코드는 **oz()함수에 2개의 매개변수**를 받을 수 있게 수정했습니다.\n",
    "\n",
    "2개의 **매개변수에 각각 message와 n이라는 식별자**를 만들어주었습니다.\n",
    "\n",
    "oz()함수 호출시 입력하는 2개의 값 중 첫번째는 출력에 사용되는 값이고, 두번째는 for문의 반복에 사용됩니다.\n",
    "\n",
    "구조의 큰 변화는 없지만, **이전 oz()함수와는 작동하는 방식에 차이**를 보입니다."
   ]
  },
  {
   "cell_type": "markdown",
   "id": "85f07642",
   "metadata": {},
   "source": [
    "1. 함수의 기본 구조에 대해 설명해보세요.\n",
    "    - 정답\n",
    "        \n",
    "        def 함수명 (매개변수)\n",
    "        \n",
    "        [수행할 코드]\n",
    "        \n",
    "        ```python\n",
    "        def 함수이름():\n",
    "            코드\n",
    "        ```\n",
    "        \n",
    "    \n",
    "2. 함수 호출은 무엇을 의미하고 어떻게 할 수 있나요?\n",
    "    - 정답\n",
    "        \n",
    "        **함수 호출은 이미 정의된 함수를 실행하는 것을 의미**합니다. 함수 호출을 위해서는 **함수의 이름을 사용하고, 필요한 매개변수(입력값)를 괄호 안에 넣어 호출**합니다. 예를 들어, **`oz('oz코딩스쿨', 5)`**와 같이 함수 이름 뒤에 괄호 안에 매개변수 값을 넣어서 호출할 수 있습니다.\n",
    "        \n",
    "    \n",
    "3. 매개변수란 무엇인가요?\n",
    "    - 정답\n",
    "        \n",
    "        **매개변수는 함수가 호출될 때 함수에 전달되는 값을 받는 변수**입니다. 함수를 **정의할 때 매개변수를 지정**하면, 함수가 호출될 때 입력되는 값들을 받아들여 **해당 함수 내에서 사용**할 수 있습니다.\n",
    "        \n",
    "    \n",
    "4. 식별자는 무엇이고 사용하는 이유는 무엇인가요?\n",
    "    - 정답\n",
    "        \n",
    "        식별자는 **변수, 함수, 클래스 등의 이름**을 가리키며, **코드 내에서 객체를 참조하는 데 사용**됩니다. \n",
    "        \n",
    "    \n",
    "5. 식별자는 함수 안에서 어떻게 사용되나요?\n",
    "    - 정답\n",
    "        \n",
    "        함수 안에서 **식별자는 매개변수의 이름**으로 사용됩니다. 함수 내부에서 **매개변수를 사용하여 입력값을 참조하거나 조작**할 수 있습니다. 함수 내에서 식별자를 사용하여 **특정 작업을 수행하거나 값을 반환**할 수 있습니다."
   ]
  }
 ],
 "metadata": {
  "kernelspec": {
   "display_name": "Python 3",
   "language": "python",
   "name": "python3"
  },
  "language_info": {
   "codemirror_mode": {
    "name": "ipython",
    "version": 3
   },
   "file_extension": ".py",
   "mimetype": "text/x-python",
   "name": "python",
   "nbconvert_exporter": "python",
   "pygments_lexer": "ipython3",
   "version": "3.12.6"
  }
 },
 "nbformat": 4,
 "nbformat_minor": 5
}
