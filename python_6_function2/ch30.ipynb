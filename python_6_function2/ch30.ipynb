{
 "cells": [
  {
   "metadata": {},
   "cell_type": "markdown",
   "source": [
    "## 1. 람다\n",
    "\n",
    "앞서 우리는 함수에 매개변수를 전달받아 실행하는 코드를 작성했습니다.\n",
    "\n",
    "기존 방식 외에도 함수는 더 놀라운 것들을 매개변수로 받아올 수 있습니다. 바로, 함수 자체를 매개변수로 받을 수 있다는 사실입니다.\n",
    "\n",
    "이렇게 함수 자체를 매개변수로 사용하기 쉽게 돕는 기능이 람다입니다.\n",
    "\n",
    "우선, 함수의 매개변수로 전달하는 방법에 대한 코드를 보겠습니다. (함수의 매개변수로 사용되는 함수를 **콜백 함수**라고 합니다.)"
   ],
   "id": "e338968b05e41676"
  },
  {
   "metadata": {
    "ExecuteTime": {
     "end_time": "2025-04-24T04:18:53.792271Z",
     "start_time": "2025-04-24T04:18:53.786827Z"
    }
   },
   "cell_type": "code",
   "source": [
    "def oz_call(function):\n",
    "    \"\"\"\n",
    "    oz_call 함수는 주어진 함수를 5번 호출합니다.\n",
    "\n",
    "    매개변수:\n",
    "    - function (callable): 호출할 함수\n",
    "    \"\"\"\n",
    "    for i in range(5):\n",
    "        # 주어진 function을 호출\n",
    "        function()\n",
    "\n",
    "def talk():\n",
    "    \"\"\"\n",
    "    talk 함수는 특정 메시지를 출력합니다.\n",
    "    \"\"\"\n",
    "    print(\"파이썬 이건 또 무슨 개념이야?\")  # 메시지를 출력\n",
    "\n",
    "# oz_call 함수를 호출하여 talk 함수를 5번 실행 (괄호없이 함수만 작성)\n",
    "oz_call(talk)\n",
    "\n",
    "# 출력\n",
    "파이썬 이건 또 무슨 개념이야?\n",
    "파이썬 이건 또 무슨 개념이야?\n",
    "파이썬 이건 또 무슨 개념이야?\n",
    "파이썬 이건 또 무슨 개념이야?\n",
    "파이썬 이건 또 무슨 개념이야?"
   ],
   "id": "f69a3fa17cdd65bc",
   "outputs": [
    {
     "name": "stdout",
     "output_type": "stream",
     "text": [
      "파이썬 이건 또 무슨 개념이야?\n",
      "파이썬 이건 또 무슨 개념이야?\n",
      "파이썬 이건 또 무슨 개념이야?\n",
      "파이썬 이건 또 무슨 개념이야?\n",
      "파이썬 이건 또 무슨 개념이야?\n",
      "Object `개념이야` not found.\n",
      "Object `개념이야` not found.\n",
      "Object `개념이야` not found.\n",
      "Object `개념이야` not found.\n",
      "Object `개념이야` not found.\n"
     ]
    }
   ],
   "execution_count": 1
  },
  {
   "metadata": {},
   "cell_type": "markdown",
   "source": "콜백함수 많이 사용하면 또 문제가 됨. 적절히 적당히 사용!",
   "id": "494ee121e5eabdaf"
  },
  {
   "metadata": {},
   "cell_type": "markdown",
   "source": [
    "## 2. 함수를 매개변수로 사용하는 내장함수\n",
    "\n",
    "함수를 매개변수로 사용하는 대표적인 내장 함수로는 map() 함수와 filter() 함수가 있습니다.\n",
    "\n",
    "- map(): 리스트의 요소를 함수에 넣고 반환된 값으로 새로운 리스트를 만듭니다.\n",
    "- filter(): 리스트의 요소를 함수에 넣고 반환된 값이 True인 값만으로 새로운 리스트를 만듭니다."
   ],
   "id": "17f25f0944632c89"
  },
  {
   "metadata": {},
   "cell_type": "code",
   "outputs": [],
   "execution_count": null,
   "source": [
    "# 자기 자신을 곱한 결과를 새로운 list를 만들어주는 map() 함수 코드\n",
    "def square(i):\n",
    "    \"\"\"\n",
    "    square 함수는 주어진 숫자를 제곱하여 반환합니다.\n",
    "\n",
    "    매개변수:\n",
    "    - i (int): 제곱할 숫자\n",
    "\n",
    "    반환 값:\n",
    "    - int: i의 제곱 값\n",
    "    \"\"\"\n",
    "    return i * i  # 주어진 숫자 i를 제곱하여 반환\n",
    "\n",
    "# 1부터 10까지의 숫자를 포함하는 리스트를 생성\n",
    "numbers_list = [1, 2, 3, 4, 5, 6, 7, 8, 9, 10]\n",
    "\n",
    "# map 함수를 사용하여 numbers_list의 각 요소에 square 함수를 적용\n",
    "result = map(square, numbers_list)\n",
    "\n",
    "print(\"map 결과: \", result)  # map 객체의 주소를 출력\n",
    "print(\"map 결과의 list 형변환: \", list(result))  # map 결과를 리스트로 변환하여 출력\n",
    "\n",
    "#출력\n",
    "map 결과: <map object a 0x107536500>\n",
    "map 결과의 list 형변환: [1, 4, 9, 16, 25, 36, 49, 64, 81, 100]"
   ],
   "id": "cadbe84a08c0a3ed"
  },
  {
   "metadata": {},
   "cell_type": "code",
   "outputs": [],
   "execution_count": null,
   "source": [
    "# 조건에 맞는 값만을 이용해 새로운 list를 만들어주는 filter()함수 코드\n",
    "def under(i):\n",
    "    \"\"\"\n",
    "    under 함수는 주어진 숫자가 5보다 작은지 여부를 반환합니다.\n",
    "\n",
    "    매개변수:\n",
    "    - i (int): 비교할 숫자\n",
    "\n",
    "    반환 값:\n",
    "    - bool: i가 5보다 작으면 True, 그렇지 않으면 False\n",
    "    \"\"\"\n",
    "    return i < 5  # 주어진 숫자 i가 5보다 작은지 확인하여 반환\n",
    "\n",
    "# 1부터 10까지의 숫자를 포함하는 리스트를 생성\n",
    "numbers_list = [1, 2, 3, 4, 5, 6, 7, 8, 9, 10]\n",
    "\n",
    "# filter 함수를 사용하여 numbers_list의 각 요소에 under 함수를 적용\n",
    "result = filter(under, numbers_list)\n",
    "\n",
    "print(\"filter 결과: \", result)  # filter 객체의 주소를 출력\n",
    "print(\"filter 결과의 list 형변환: \", list(result))  # filter 결과를 리스트로 변환하여 출력\n",
    "\n",
    "#출력\n",
    "filter 결과: <filter object at 0x1075afeb0>\n",
    "filter 결과의 list 형변환: [1, 2, 3, 4]"
   ],
   "id": "6e20166a368d2619"
  },
  {
   "metadata": {},
   "cell_type": "code",
   "outputs": [],
   "execution_count": null,
   "source": [
    "# lambda 함수를 사용하여 주어진 숫자를 제곱하는 익명 함수를 정의\n",
    "square = lambda i: i * i\n",
    "\n",
    "# 1부터 10까지의 숫자를 포함하는 리스트를 생성\n",
    "numbers_list = [1, 2, 3, 4, 5, 6, 7, 8, 9, 10]\n",
    "\n",
    "# map 함수를 사용하여 numbers_list의 각 요소에 square 함수를 적용\n",
    "result = map(square, numbers_list)\n",
    "\n",
    "print(\"map 결과: \", result)  # map 객체의 주소를 출력\n",
    "print(\"map 결과의 list 형변환: \", list(result))  # map 결과를 리스트로 변환하여 출력\n",
    "\n",
    "# 출력\n",
    "map 결과: <filter object at 0x1075afeb0>\n",
    "map 결과의 list 형변환: [1, 2, 3, 4]"
   ],
   "id": "d3621121cbb7e2d9"
  },
  {
   "metadata": {},
   "cell_type": "code",
   "outputs": [],
   "execution_count": null,
   "source": [
    "# lambda 함수를 사용하여 주어진 숫자가 5보다 작은지 여부를 반환하는 익명 함수를 정의\n",
    "under = lambda i: i < 5\n",
    "\n",
    "# 1부터 10까지의 숫자를 포함하는 리스트를 생성\n",
    "numbers_list = [1, 2, 3, 4, 5, 6, 7, 8, 9, 10]\n",
    "\n",
    "# filter 함수를 사용하여 numbers_list의 각 요소에 under 함수를 적용\n",
    "result = filter(under, numbers_list)\n",
    "\n",
    "print(\"filter 결과: \", result)  # filter 객체의 주소를 출력\n",
    "print(\"filter 결과의 list 형변환: \", list(result))  # filter 결과를 리스트로 변환하여 출력\n",
    "\n",
    "# 출력\n",
    "filter 결과: <filter object at 0x107537f40>\n",
    "filter 결과의 list 형변환: [1, 2, 3, 4]"
   ],
   "id": "4d7f30542612d5ae"
  },
  {
   "metadata": {},
   "cell_type": "code",
   "outputs": [],
   "execution_count": null,
   "source": [
    "# 람다 함수는 결과값을 바로 return하기 때문에 이렇게도 사용 가능함.\n",
    "\n",
    "# 1부터 10까지의 숫자를 포함하는 리스트를 생성\n",
    "numbers_list = [1, 2, 3, 4, 5, 6, 7, 8, 9, 10]\n",
    "\n",
    "# map 함수를 사용하여 numbers_list의 각 요소에 lambda 함수를 적용\n",
    "# lambda 함수는 주어진 숫자를 제곱하여 반환\n",
    "result = map(lambda i: i * i, numbers_list)\n",
    "\n",
    "print(\"map 결과: \", result)  # map 객체의 주소를 출력\n",
    "print(\"map 결과의 list 형변환: \", list(result))  # map 결과를 리스트로 변환하여\n",
    "\n",
    "# 출력\n",
    "map 결과: <filter object at 0x1075afeb0>\n",
    "map 결과의 list 형변환: [1, 2, 3, 4]"
   ],
   "id": "fd70a16062aaa473"
  }
 ],
 "metadata": {},
 "nbformat": 4,
 "nbformat_minor": 5
}
