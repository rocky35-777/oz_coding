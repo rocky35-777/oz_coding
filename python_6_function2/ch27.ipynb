{
 "cells": [
  {
   "metadata": {
    "ExecuteTime": {
     "end_time": "2025-04-24T02:34:23.286091Z",
     "start_time": "2025-04-24T02:34:19.024230Z"
    }
   },
   "cell_type": "code",
   "source": [
    "from errno import EALREADY\n",
    "\n",
    "\n",
    "# 재귀함수\n",
    "\n",
    "# 강의보고 넘어가기 요즘엔 잘 안쓰는 추세이긴 하나 알아두기.\n",
    "\n",
    "def oz_factorial(n):\n",
    "    if n == 0:\n",
    "        return 1\n",
    "    else:\n",
    "        return n * oz_factorial(n-1)\n",
    "\n",
    "# 사용자로부터 팩토리얼을 구할 숫자를 입력 받음\n",
    "n = int(input(\"구하고자 하는 팩토리얼의 수를 입력해주세요.\"))\n",
    "\n",
    "# oz_factorial 함수를 호출하여 n의 팩토리얼을 계산하고 결과를 출력\n",
    "print(f'{n}의 결과는 {oz_factorial(n)}입니다.')\n",
    "\n",
    "# 재귀함수 보다는 for문으로 해결하는 것이 안전하다."
   ],
   "id": "464359b60b6db843",
   "outputs": [
    {
     "name": "stdout",
     "output_type": "stream",
     "text": [
      "5의 결과는 120입니다.\n"
     ]
    }
   ],
   "execution_count": 1
  },
  {
   "metadata": {},
   "cell_type": "code",
   "outputs": [],
   "execution_count": null,
   "source": [
    "# 피보나치 수열 함수 실행 시 계산되는 함수를 파악해봅니다.\n",
    "# 파이썬은 함수 내부에서 함수 밖에 있는 변수를 사용할 수 없습니다.\n",
    "# 그래서 global 키워드 함수를 이용해 함수 내부에서\n",
    "# 함수 밖에 있는 변수를 사용할 수 있도록 만들어 줍니다.\n",
    "\n",
    "\n",
    "count = 0  # 전역 변수 count를 초기화\n",
    "# 더하는 것이 중심일 땐 초기값은 0, 곱하기는 초기값 1로 한다.\n",
    "\n",
    "def oz_fibo(n):\n",
    "    \"\"\"\n",
    "    oz_fibo 함수는 주어진 숫자 n에 해당하는 피보나치 수를 재귀적으로 계산하여 반환합니다.\n",
    "    또한, 함수 호출 횟수를 전역 변수 count에 기록합니다.\n",
    "\n",
    "    매개변수:\n",
    "    - n (int): 피보나치 수열에서 원하는 위치\n",
    "\n",
    "    반환 값:\n",
    "    - int: n번째 피보나치 수\n",
    "    \"\"\"\n",
    "    print(f'피보나치 수열 {n}을(를) 구하는 중입니다.')  # 현재 계산 중인 피보나치 수를 출력\n",
    "    global count  # 전역 변수 count를 사용하기 위해 global 키워드를 사용\n",
    "    count += 1  # 함수 호출 횟수를 증가\n",
    "\n",
    "    if n == 1:\n",
    "        return 1  # 첫 번째 피보나치 수는 1\n",
    "    if n == 2:\n",
    "        return 1  # 두 번째 피보나치 수는 1\n",
    "    else:\n",
    "        # n이 1 또는 2가 아닌 경우, 재귀적으로 피보나치 수를 계산\n",
    "        return oz_fibo(n - 1) + oz_fibo(n - 2)\n",
    "\n",
    "# 사용자로부터 피보나치 수열의 원하는 위치를 입력 받음\n",
    "n = int(input(\"구하고자 하는 피보나치 수열의 수를 입력해주세요.\"))\n",
    "\n",
    "# oz_fibo 함수를 호출하여 n번째 피보나치 수를 계산\n",
    "oz_fibo(n)\n",
    "\n",
    "# 계산된 함수 호출 횟수를 출력\n",
    "print(f'피보나치 수열 {n}을 구하기 위해 계산된 횟수는 {count}번 입니다.')\n",
    "\n",
    "# 입력\n",
    "5\n",
    "\n",
    "# 출력\n",
    "피보나치 수열 5을(를) 구하는 중입니다.\n",
    "피보나치 수열 4을(를) 구하는 중입니다.\n",
    "피보나치 수열 3을(를) 구하는 중입니다.\n",
    "피보나치 수열 2을(를) 구하는 중입니다.\n",
    "피보나치 수열 1을(를) 구하는 중입니다.\n",
    "피보나치 수열 2을(를) 구하는 중입니다.\n",
    "피보나치 수열 3을(를) 구하는 중입니다.\n",
    "피보나치 수열 2을(를) 구하는 중입니다.\n",
    "피보나치 수열 1을(를) 구하는 중입니다.\n",
    "피보나치 수열 5을(를) 구하기 위해 계산된 횟수는 9번 입니다."
   ],
   "id": "729099a2edff85a8"
  },
  {
   "metadata": {
    "ExecuteTime": {
     "end_time": "2025-04-24T02:44:02.472315Z",
     "start_time": "2025-04-24T02:44:00.152762Z"
    }
   },
   "cell_type": "code",
   "source": [
    "count = 0\n",
    "\n",
    "def oz_fibo(n):\n",
    "    print(f'피보나치 수열 {n}을 구하는 중입니다.')\n",
    "    global count\n",
    "    count += 1\n",
    "\n",
    "    if n == 1:\n",
    "        return 1\n",
    "    if n == 2:\n",
    "        return 1\n",
    "    else:\n",
    "        return oz_fibo(n - 1) + oz_fibo(n - 2)\n",
    "\n",
    "n = int(input(\"구하고자 하는 피보나치 수열의 수를 입력해주세요.\"))\n",
    "oz_fibo(n)\n",
    "print(f'피보나치 수열 {n}을 구하기 위해 계산된 횟수는 {count}번 입니다.')\n"
   ],
   "id": "9f11ed895b073451",
   "outputs": [
    {
     "name": "stdout",
     "output_type": "stream",
     "text": [
      "피보나치 수열 5을 구하는 중입니다.\n",
      "피보나치 수열 4을 구하는 중입니다.\n",
      "피보나치 수열 3을 구하는 중입니다.\n",
      "피보나치 수열 2을 구하는 중입니다.\n",
      "피보나치 수열 1을 구하는 중입니다.\n",
      "피보나치 수열 2을 구하는 중입니다.\n",
      "피보나치 수열 3을 구하는 중입니다.\n",
      "피보나치 수열 2을 구하는 중입니다.\n",
      "피보나치 수열 1을 구하는 중입니다.\n",
      "피보나치 수열 5을 구하기 위해 계산된 횟수는 9번 입니다.\n"
     ]
    }
   ],
   "execution_count": 5
  },
  {
   "metadata": {},
   "cell_type": "code",
   "outputs": [],
   "execution_count": null,
   "source": [
    "memo  = {\n",
    "    1: 1,\n",
    "    2: 1,\n",
    "    3: 1,\n",
    "}"
   ],
   "id": "2e29bc54242f3a75"
  },
  {
   "metadata": {
    "ExecuteTime": {
     "end_time": "2025-04-24T02:48:30.981266Z",
     "start_time": "2025-04-24T02:48:28.729140Z"
    }
   },
   "cell_type": "code",
   "source": [
    "memo  = {\n",
    "    1: 1,\n",
    "    2: 1,\n",
    "    3: 1,\n",
    "}\n",
    "\n",
    "count = 0\n",
    "\n",
    "def oz_fibo(n):\n",
    "    print(f'피보나치 수열 {n}을 구하는 중입니다.')\n",
    "    global count\n",
    "    count += 1\n",
    "\n",
    "    if n in memo:\n",
    "        return memo[n]\n",
    "    else:\n",
    "        output = oz_fibo(n - 1) + oz_fibo(n - 2)\n",
    "        memo[n] = output\n",
    "        return output\n",
    "\n",
    "n = int(input(\"구하고자 하는 피보나치 수열의 수를 입력해주세요.\"))\n",
    "oz_fibo(n)\n",
    "print(f'피보나치 수열 {n}을 구하기 위해 계산된 횟수는 {count}번 입니다.')"
   ],
   "id": "2accbd29aaaefc14",
   "outputs": [
    {
     "name": "stdout",
     "output_type": "stream",
     "text": [
      "피보나치 수열 5을 구하는 중입니다.\n",
      "피보나치 수열 4을 구하는 중입니다.\n",
      "피보나치 수열 3을 구하는 중입니다.\n",
      "피보나치 수열 2을 구하는 중입니다.\n",
      "피보나치 수열 3을 구하는 중입니다.\n",
      "피보나치 수열 5을 구하기 위해 계산된 횟수는 5번 입니다.\n"
     ]
    }
   ],
   "execution_count": 6
  },
  {
   "metadata": {},
   "cell_type": "code",
   "outputs": [],
   "execution_count": null,
   "source": "",
   "id": "3b7783ead183d9e"
  }
 ],
 "metadata": {},
 "nbformat": 4,
 "nbformat_minor": 5
}
