{
 "cells": [
  {
   "metadata": {
    "ExecuteTime": {
     "end_time": "2025-04-24T05:46:44.318234Z",
     "start_time": "2025-04-24T05:46:44.311942Z"
    }
   },
   "cell_type": "code",
   "source": [
    "# 제너레이터\n",
    "\n",
    "def test():\n",
    "    print('test')\n",
    "    yield \"test\"\n",
    "\n",
    "print(\"첫번째 출력\")\n",
    "test()"
   ],
   "id": "33c6117079ece91f",
   "outputs": [
    {
     "name": "stdout",
     "output_type": "stream",
     "text": [
      "첫번째 출력\n"
     ]
    },
    {
     "data": {
      "text/plain": [
       "<generator object test at 0x11204e680>"
      ]
     },
     "execution_count": 1,
     "metadata": {},
     "output_type": "execute_result"
    }
   ],
   "execution_count": 1
  },
  {
   "metadata": {},
   "cell_type": "code",
   "outputs": [],
   "execution_count": null,
   "source": [
    "def test():\n",
    "    \"\"\"\n",
    "    test 함수는 여러 개의 값을 생성하는 제너레이터입니다.\n",
    "\n",
    "    반환 값:\n",
    "    - generator: 1, 2를 순차적으로 생성하는 제너레이터 객체\n",
    "    \"\"\"\n",
    "    print(\"첫번째 출력\")  # 첫 번째 메시지를 출력\n",
    "    yield 1  # 1을 생성하고 함수의 실행을 일시 중지\n",
    "    print(\"두번째 출력\")  # 두 번째 메시지를 출력\n",
    "    yield 2  # 2를 생성하고 함수의 실행을 일시 중지\n",
    "    print(\"세번째 출력\")  # 세 번째 메시지를 출력 (마지막 메시지, 이후에는 더 이상 생성할 값이 없음)\n",
    "\n",
    "# test 함수 호출하여 제너레이터 객체를 생성\n",
    "output = test()\n",
    "print(\"네번째 출력\")  # 제너레이터 객체 생성 후 출력\n",
    "\n",
    "# 제너레이터의 첫 번째 값을 가져옴\n",
    "x = next(output)\n",
    "print(x)  # 1 출력\n",
    "print(\"다섯번째 출력\")  # 다섯 번째 출력 메시지\n",
    "\n",
    "# 제너레이터의 두 번째 값을 가져옴\n",
    "y = next(output)\n",
    "print(y)  # 2 출력\n",
    "print(\"여섯번째 출력\")  # 여섯 번째 출력 메시지\n",
    "\n",
    "# 제너레이터의 세 번째 값을 가져오려고 시도 (하지만 더 이상 생성할 값이 없음)\n",
    "z = next(output)  # StopIteration 예외가 발생합니다.\n",
    "print(z)\n",
    "\n",
    "# 출력\n",
    "네번째 출력\n",
    "첫번째 출력\n",
    "1\n",
    "다섯번째 출력\n",
    "두번째 출력\n",
    "2\n",
    "여섯번째 출력\n",
    "세번째 출력\n",
    "StopIteration:"
   ],
   "id": "61b27e946666d20a"
  }
 ],
 "metadata": {},
 "nbformat": 4,
 "nbformat_minor": 5
}
