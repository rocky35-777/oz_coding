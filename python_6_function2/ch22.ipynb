{
 "cells": [
  {
   "cell_type": "code",
   "execution_count": null,
   "metadata": {},
   "outputs": [],
   "source": [
    "#매개변수를 적게 입력한 경우\n",
    "\n",
    "# oz 함수는 두 개의 매개변수를 필요로 합니다: message와 n입니다.\n",
    "def oz(message, n):\n",
    "\t\tfor i i n range(n):\n",
    "\t\t\t\tprint(message)\n",
    "\n",
    "# 그러나 함수 호출 시 매개변수 'n'이 누락되었습니다.\n",
    "# 따라서 함수 호출은 실패하고 TypeError가 발생했습니다.\t\t\t\t\n",
    "oz('oz코딩스쿨')\t\t\t\t\n",
    "\n",
    "#출력\n",
    "# 오류 메시지에 따르면, 'n' 매개변수가 필수로 필요하며, 해당 인자가 누락되었다는 것을 알 수 있습니다.\n",
    "TypeError: oz() missing 1 required positional argument: 'n'\n",
    "\n",
    "# 함수 호출을 정확하게 하기 위해서는 두 개의 매개변수 모두를 제공해야 합니다."
   ]
  },
  {
   "cell_type": "code",
   "execution_count": null,
   "metadata": {},
   "outputs": [],
   "source": [
    "## 2. 가변 매개변수란?\n",
    "\n",
    "가변 매개변수는 **함수가 임의의 개수의 인자를 받을 수 있도록 하는 매개변수**입니다.\n",
    "\n",
    "함수 정의 시 **매개변수의 개수를 고정하지 않고, 호출할 때마다 다양한 개수의 인자를 전달**할 수 있도록 합니다.\n",
    "\n",
    "print 함수에 매개변수를 많이 전달하기 위해서는 `,` 를 통해 값을 추가적으로 전달해준다.\n",
    "\n",
    "```python\n",
    "print('이렇게 많이 넣을 수 있는 방법은?', 2, 3, '이렇게 마구잡이로')\n",
    "\n",
    "#출력\n",
    "이렇게 많이 넣을 수 있는 방법은 2 3 이렇게 마구잡이로\n",
    "```\n",
    "\n",
    "`*` 를 식별자 앞에 붙이면 가변 매개변수가 된다. \n",
    "\n",
    "**가변 매개변수가 된다면, 매개변수를 무한정**으로 담을 수 있다.\n",
    "\n",
    "# 함수 구조 \n",
    "\n",
    "def 함수이름 (매개변수, *가변 매개변수):\n",
    "    코드\n",
    "\n",
    "주의점!!!\n",
    "- 가변 매개변수 뒤에는 일반 매개변수가 올 수 없음\n",
    "- 가변 매개변수는 하나만 사용할 수 있음"
   ]
  },
  {
   "cell_type": "code",
   "execution_count": null,
   "metadata": {},
   "outputs": [],
   "source": [
    "# 가변 매개변수 뒤에 일반 매개변수가 온 경우\n",
    "\n",
    "# 함수 oz는 가변 매개변수 *values와 키워드 전용 매개변수 n을 받습니다.\n",
    "def oz(*values, n):\n",
    "    # n번 반복합니다.\n",
    "    for i in range(n):\n",
    "        # 가변 매개변수 values에 전달된 값들을 하나씩 순회하면서 출력합니다.\n",
    "        for value in values:\n",
    "            print(value)\n",
    "        # 각 반복마다 빈 줄을 출력하여 값들을 구분합니다.\n",
    "        print()\n",
    "\n",
    "# 함수 호출 시, n에 대한 키워드 인자가 누락되어 있습니다.\n",
    "# 이는 n이 키워드 전용 매개변수이기 때문에 반드시 키워드 인자로 값을 전달해야 합니다.\n",
    "oz(3, \"이렇게\", \"저렇게\", \"가변 매개변수는 요렇게\", \"신기하죠\")\n",
    "\n",
    "\n",
    "#출력\n",
    "TypeError: oz() missing 1 required keyword-only argument: 'n'"
   ]
  },
  {
   "cell_type": "code",
   "execution_count": null,
   "metadata": {},
   "outputs": [],
   "source": [
    "# 가변 매개변수를 여러개 사용한 경우\n",
    "\n",
    "# 함수 oz의 매개변수에 *values이라는 가변 매개변수가 정의되어 있습니다.\n",
    "# 여기서 문제는 *values이라는 가변 매개변수가 이미 정의되어 있는데,\n",
    "# 함수 호출 시에 *n 또한 가변 매개변수로 정의되어 있다는 것입니다.\n",
    "# 하나의 함수에서 가변 매개변수는 하나만 사용할 수 있습니다.\n",
    "def oz(*values, *n):\n",
    "    for i in range(n):\n",
    "        for value in values:\n",
    "            print(value)\n",
    "        print()\n",
    "\n",
    "oz(3, \"이렇게\", \"저렇게\", \"가변 매개변수는 요렇게\", \"신기하죠\")\n",
    "\n",
    "#출력\n",
    "# 이 코드에서는 두 개의 가변 매개변수가 동시에 정의되어 있기 때문에\n",
    "# 구문 오류(SyntaxError)가 발생합니다.\n",
    "SyntaxError: invalid syntax"
   ]
  }
 ],
 "metadata": {
  "language_info": {
   "name": "python"
  }
 },
 "nbformat": 4,
 "nbformat_minor": 2
}
