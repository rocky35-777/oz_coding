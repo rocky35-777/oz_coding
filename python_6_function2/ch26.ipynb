{
 "cells": [
  {
   "metadata": {
    "ExecuteTime": {
     "end_time": "2025-04-24T01:59:48.193749Z",
     "start_time": "2025-04-24T01:59:48.191095Z"
    }
   },
   "cell_type": "code",
   "source": [
    "from appnope import endActivity\n",
    "\n",
    "\n",
    "def oz(start, end, multiple):\n",
    "    for i in range(start, end, multiple):\n",
    "        print(i, \" \", end=\"\")\n",
    "    print()\n",
    "\n",
    "oz(1, 10, 3)\n",
    "\n"
   ],
   "id": "3ba40913ecabee9a",
   "outputs": [
    {
     "name": "stdout",
     "output_type": "stream",
     "text": [
      "1  4  7  \n"
     ]
    }
   ],
   "execution_count": 6
  },
  {
   "metadata": {},
   "cell_type": "code",
   "outputs": [],
   "execution_count": null,
   "source": [
    "from appnope import endActivity\n",
    "# 함수를 만들 때 목적이 중요하다. 목적에 따라 함수 구현이 달라짐. 마이크로 단위로 함수를 만든다. 너무 많은 기능이 들어가면 코드변화에 리소스가 많이 든다.\n",
    "# 파이썬 내장함수 공홈을 통해서 확인하자\n",
    "\n",
    "\n",
    "def oz(start=1, end, multiple):\n",
    "    for i in range(start, end, multiple):\n",
    "        print(i, \" \", end=\"\")\n",
    "    print()\n",
    "\n",
    "oz(1, 10, 3)\n",
    "\n"
   ],
   "id": "570422338de68c5f"
  }
 ],
 "metadata": {},
 "nbformat": 4,
 "nbformat_minor": 5
}
