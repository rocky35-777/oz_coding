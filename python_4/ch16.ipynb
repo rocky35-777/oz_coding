{
 "cells": [
  {
   "cell_type": "markdown",
   "metadata": {},
   "source": [
    "### while\n",
    "\n",
    "무한굴레에 빠질 수 있다.   \n",
    "조심스럽게 사용해야 한다.  \n",
    "그래서 간단한 코드용으로 사용한다.  "
   ]
  },
  {
   "cell_type": "code",
   "execution_count": null,
   "metadata": {},
   "outputs": [
    {
     "name": "stdout",
     "output_type": "stream",
     "text": [
      "점점 성장한다~~~\n",
      "점점 성장한다~~~\n",
      "점점 성장한다~~~\n",
      "점점 성장한다~~~\n",
      "점점 성장한다~~~\n",
      "점점 성장한다~~~\n",
      "점점 성장한다~~~\n",
      "점점 성장한다~~~\n",
      "점점 성장한다~~~\n",
      "점점 성장한다~~~\n"
     ]
    }
   ],
   "source": [
    "i = 0 # 초기식\n",
    "while i < 10: # while조건식 : 콜론 주의! \n",
    "    print(\"점점 성장한다~~~\") # 반복할 코드 \n",
    "    i += 1 # 변환식"
   ]
  },
  {
   "cell_type": "code",
   "execution_count": 3,
   "metadata": {},
   "outputs": [
    {
     "name": "stdout",
     "output_type": "stream",
     "text": [
      "이렇게나 성장했다니! 1\n",
      "이렇게나 성장했다니! 2\n",
      "이렇게나 성장했다니! 3\n",
      "이렇게나 성장했다니! 4\n",
      "이렇게나 성장했다니! 5\n",
      "이렇게나 성장했다니! 6\n",
      "이렇게나 성장했다니! 7\n",
      "이렇게나 성장했다니! 8\n",
      "이렇게나 성장했다니! 9\n"
     ]
    }
   ],
   "source": [
    "# 증감, 감소 \n",
    "\n",
    "i = 1\n",
    "while i < 10 :\n",
    "    print(\"이렇게나 성장했다니!\", i)\n",
    "    i += 1"
   ]
  },
  {
   "cell_type": "code",
   "execution_count": null,
   "metadata": {},
   "outputs": [
    {
     "name": "stdout",
     "output_type": "stream",
     "text": [
      "이렇게나 성장했다니! 10\n",
      "이렇게나 성장했다니! 9\n",
      "이렇게나 성장했다니! 8\n",
      "이렇게나 성장했다니! 7\n",
      "이렇게나 성장했다니! 6\n",
      "이렇게나 성장했다니! 5\n",
      "이렇게나 성장했다니! 4\n",
      "이렇게나 성장했다니! 3\n",
      "이렇게나 성장했다니! 2\n",
      "이렇게나 성장했다니! 1\n"
     ]
    }
   ],
   "source": [
    "# 감소유형\n",
    "i = 10\n",
    "while i > 0 :\n",
    "    print(\"이렇게나 성장했다니!\", i)\n",
    "    i -= 1\n",
    "\n"
   ]
  },
  {
   "cell_type": "code",
   "execution_count": 12,
   "metadata": {},
   "outputs": [
    {
     "data": {
      "text/plain": [
       "3"
      ]
     },
     "execution_count": 12,
     "metadata": {},
     "output_type": "execute_result"
    }
   ],
   "source": [
    "# for 보다 강점인 부분은? \n",
    "\n",
    "import random\n",
    "\n",
    "random.randint(1, 6)"
   ]
  },
  {
   "cell_type": "code",
   "execution_count": null,
   "metadata": {},
   "outputs": [
    {
     "name": "stdout",
     "output_type": "stream",
     "text": [
      "1\n",
      "5\n",
      "2\n",
      "4\n"
     ]
    }
   ],
   "source": [
    "i = 0\n",
    "while i != 4:\n",
    "    i = random.randint(1, 6)\n",
    "    print(i)\n",
    "\n",
    "# 무수히 많이 실행해야 할때 강점이다! "
   ]
  },
  {
   "cell_type": "code",
   "execution_count": null,
   "metadata": {},
   "outputs": [
    {
     "name": "stdout",
     "output_type": "stream",
     "text": [
      "양파 매진\n"
     ]
    }
   ],
   "source": [
    "# while 에도 else 가 있다. \n",
    "\n",
    "양파 = 7\n",
    "while 양파 > 10:\n",
    "    print(\"양파\", 양파, \"개 남았습니다.\")\n",
    "    if 양파 == 0:\n",
    "        break\n",
    "    양파 -=1\n",
    "else:\n",
    "    print(\"양파 매진\")\n",
    "\n",
    "# 반복문 흐름 제어하는 contunue, break"
   ]
  },
  {
   "cell_type": "code",
   "execution_count": 19,
   "metadata": {},
   "outputs": [
    {
     "name": "stdout",
     "output_type": "stream",
     "text": [
      "1\n",
      "3\n",
      "5\n",
      "7\n",
      "9\n",
      "1\n",
      "3\n",
      "5\n",
      "7\n",
      "9\n"
     ]
    }
   ],
   "source": [
    "i = 0\n",
    "while i < 10:\n",
    "    i += 1\n",
    "    if i % 2 == 0: # 홀수 나머지가 1인 정수들 \n",
    "        continue\n",
    "    print(i)\n",
    "\n",
    "for i in range(10):\n",
    "    if i % 2 == 0: # 홀수 나머지가 1인 정수들 \n",
    "        continue\n",
    "    print(i)"
   ]
  },
  {
   "cell_type": "code",
   "execution_count": null,
   "metadata": {},
   "outputs": [],
   "source": []
  }
 ],
 "metadata": {
  "kernelspec": {
   "display_name": "Python 3",
   "language": "python",
   "name": "python3"
  },
  "language_info": {
   "codemirror_mode": {
    "name": "ipython",
    "version": 3
   },
   "file_extension": ".py",
   "mimetype": "text/x-python",
   "name": "python",
   "nbconvert_exporter": "python",
   "pygments_lexer": "ipython3",
   "version": "3.12.6"
  }
 },
 "nbformat": 4,
 "nbformat_minor": 2
}
