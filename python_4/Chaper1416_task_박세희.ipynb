{
 "cells": [
  {
   "cell_type": "markdown",
   "metadata": {
    "id": "BX7SgOeWu86I"
   },
   "source": [
    "안녕하세요. 수강생 여러분~! Chapter14 ~ 16 수업은 잘 들으셨나요?\n",
    "\n",
    "Chapter14 ~ 16의 수업 내용을 바탕으로 아래 문제를 풀어주시면 됩니다.\n",
    "\n",
    "<br>\n",
    "\n",
    "\n",
    "[**답변 입력 방법**]\n",
    "\n",
    "문제 아래에 있는 코드 입력창에 정답코드를 작성하신 후  __▷ 버튼을 클릭해 코드를 실행__ 해보세요<br>"
   ]
  },
  {
   "cell_type": "markdown",
   "metadata": {},
   "source": [
    "---"
   ]
  },
  {
   "cell_type": "markdown",
   "metadata": {
    "id": "7kQJMRuFu-6s"
   },
   "source": [
    "__[문제1]__\n",
    "\n",
    "주어진 정수 x와 자연수 n을 이용해, x부터 시작해 x씩 증가하는 숫자를 n개 지니는 리스트를 출력해주세요   \n",
    "<br>\n",
    "\n",
    "x = 2, n =5"
   ]
  },
  {
   "cell_type": "code",
   "execution_count": null,
   "metadata": {
    "id": "juUF2KYbu0DX"
   },
   "outputs": [
    {
     "name": "stdout",
     "output_type": "stream",
     "text": [
      "[2, 4, 6, 8, 10]\n"
     ]
    }
   ],
   "source": [
    "x = 2\n",
    "n = 5\n",
    "result = [x * i for i in range(1, n + 1)] # 인덱스 번호 1 ~ 5까지\n",
    "\n",
    "print(result)"
   ]
  },
  {
   "cell_type": "markdown",
   "metadata": {},
   "source": [
    "---"
   ]
  },
  {
   "cell_type": "markdown",
   "metadata": {
    "id": "4BPXMLXUvBVL"
   },
   "source": [
    "__[문제2]__\n",
    "\n",
    "전화번호가 문자열 phone_number로 주어졌을 때, 전화번호의 뒷 4자리를 *으로 가린 문자열이 출력되도록 코드를 작성해주세요\n",
    "\n",
    "phone_number = \"01012347890\"  \n",
    "<br>\n",
    "\n",
    "출력 예) \"0101234****\""
   ]
  },
  {
   "cell_type": "code",
   "execution_count": 26,
   "metadata": {
    "id": "P0fY7CYUvC_j"
   },
   "outputs": [
    {
     "name": "stdout",
     "output_type": "stream",
     "text": [
      "0101234****\n"
     ]
    }
   ],
   "source": [
    "phone_number = \"01012347890\"\n",
    "\n",
    "privacy_number = phone_number[:-4] + \"****\"\n",
    "print(privacy_number)\n"
   ]
  },
  {
   "cell_type": "markdown",
   "metadata": {},
   "source": [
    "---"
   ]
  },
  {
   "cell_type": "markdown",
   "metadata": {
    "id": "uUdOU9cFvDsq"
   },
   "source": [
    "__[문제3]__\n",
    "\n",
    "숫자를 건넬 때 일부 자릿수를 영단어로 바꾼 카드를 건네주면 프로도는 원래 숫자를 찾는 게임입니다.\n",
    "\n",
    "다음은 숫자의 일부 자릿수를 영단어로 바꾸는 예시입니다.\n",
    "\n",
    "1478 → \"one4seveneight\"  \n",
    "234567 → \"23four5six7\"  \n",
    "10203 → \"1zerotwozero3\"    \n",
    "\n",
    "이렇게 숫자의 일부 자릿수가 영단어로 바뀌어졌거나,   \n",
    "혹은 바뀌지 않고 그대로인 문자열 s가 주어졌을때\n",
    "s가 의미하는 원래 숫자를 출력하도록 코드를 작성해주세요\n",
    "\n",
    "s = \"77three4one\n",
    "\n",
    "---\n",
    "참고로 각 숫자에 대응되는 영단어는 다음 표와 같습니다.\n",
    "\n",
    "숫자\t영단어  \n",
    "0\tzero  \n",
    "1\tone  \n",
    "2\ttwo  \n",
    "3\tthree  \n",
    "4\tfour  \n",
    "5\tfive  \n",
    "6\tsix  \n",
    "7\tseven  \n",
    "8\teight  \n",
    "9\tnine  "
   ]
  },
  {
   "cell_type": "code",
   "execution_count": 3,
   "metadata": {
    "id": "2NmqRFgDvFtz"
   },
   "outputs": [
    {
     "ename": "TypeError",
     "evalue": "replace() argument 2 must be str, not int",
     "output_type": "error",
     "traceback": [
      "\u001b[31m---------------------------------------------------------------------------\u001b[39m",
      "\u001b[31mTypeError\u001b[39m                                 Traceback (most recent call last)",
      "\u001b[36mCell\u001b[39m\u001b[36m \u001b[39m\u001b[32mIn[3]\u001b[39m\u001b[32m, line 16\u001b[39m\n\u001b[32m      2\u001b[39m num_dict = \u001b[38;5;28mdict\u001b[39m(\n\u001b[32m      3\u001b[39m     zero = \u001b[32m0\u001b[39m, \n\u001b[32m      4\u001b[39m     one = \u001b[32m1\u001b[39m, \n\u001b[32m   (...)\u001b[39m\u001b[32m     12\u001b[39m     nine = \u001b[32m9\u001b[39m,\n\u001b[32m     13\u001b[39m     )\n\u001b[32m     15\u001b[39m \u001b[38;5;28;01mfor\u001b[39;00m key \u001b[38;5;129;01min\u001b[39;00m num_dict.keys():\n\u001b[32m---> \u001b[39m\u001b[32m16\u001b[39m     s = \u001b[43ms\u001b[49m\u001b[43m.\u001b[49m\u001b[43mreplace\u001b[49m\u001b[43m(\u001b[49m\u001b[43mkey\u001b[49m\u001b[43m,\u001b[49m\u001b[43m \u001b[49m\u001b[43mnum_dict\u001b[49m\u001b[43m[\u001b[49m\u001b[43mkey\u001b[49m\u001b[43m]\u001b[49m\u001b[43m)\u001b[49m\n\u001b[32m     18\u001b[39m \u001b[38;5;28mprint\u001b[39m(s)\n",
      "\u001b[31mTypeError\u001b[39m: replace() argument 2 must be str, not int"
     ]
    }
   ],
   "source": [
    "s = \"77three4one\"\n",
    "num_dict = dict(\n",
    "    zero = 0, \n",
    "    one = 1, \n",
    "    two = 2, \n",
    "    three = 3,  \n",
    "    four = 4,  \n",
    "    five = 5,  \n",
    "    six = 6,  \n",
    "    seven = 7,  \n",
    "    eight = 8,  \n",
    "    nine = 9,\n",
    "    )\n",
    "\n",
    "for key in num_dict.keys():\n",
    "    s = s.replace(key, num_dict[key])\n",
    "\n",
    "print(s)"
   ]
  },
  {
   "cell_type": "code",
   "execution_count": 4,
   "metadata": {},
   "outputs": [
    {
     "name": "stdout",
     "output_type": "stream",
     "text": [
      "77341\n"
     ]
    }
   ],
   "source": [
    "s = \"77three4one\"\n",
    "num_str = {\n",
    "    '0': 'zero',\n",
    "    '1': 'one',\n",
    "    '2': 'two',\n",
    "    '3': 'three',\n",
    "    '4': 'four',\n",
    "    '5': 'five',\n",
    "    '6': 'six',\n",
    "    '7': 'seven',\n",
    "    '8': 'eight',\n",
    "    '9': 'nine'\n",
    "}\n",
    "\n",
    "for num, word in num_str.items():\n",
    "    s = s.replace(word, num)\n",
    "\n",
    "print(s)"
   ]
  },
  {
   "cell_type": "markdown",
   "metadata": {},
   "source": [
    "---"
   ]
  },
  {
   "cell_type": "markdown",
   "metadata": {
    "id": "J0Tha6AdvGL3"
   },
   "source": [
    "__[문제4]__\n",
    "\n",
    "행렬의 덧셈은 행과 열의 크기가 같은 두 행렬의 같은 행, 같은 열의 값을 서로 더한 결과가 됩니다. \n",
    "\n",
    " 행렬 arr1과 arr2가 주어졌을 때, 행렬 덧셈의 결과를 출력하는 코드를 작성해주세요(result와 같은 결과가 출력되도록 작성)\n",
    "\n",
    "arr1 = [[1,2],[2,3]]\n",
    "\n",
    "arr2 = [[3,4],[5,6]]\n",
    "\n",
    "result = [[4,6],[7,9]]"
   ]
  },
  {
   "cell_type": "code",
   "execution_count": null,
   "metadata": {
    "id": "ujiXrEhJvIV0"
   },
   "outputs": [
    {
     "name": "stdout",
     "output_type": "stream",
     "text": [
      "[[4, 6], [7, 9]]\n"
     ]
    }
   ],
   "source": [
    "arr1 = [[1,2],[2,3]]\n",
    "arr2 = [[3,4],[5,6]]\n",
    "\n",
    "a1 = []\n",
    "for sub in arr1:\n",
    "    for num in sub:\n",
    "        a1.append(num)\n",
    "\n",
    "a2 = []\n",
    "for sub in arr2:\n",
    "    for num in sub:\n",
    "        a2.append(num)\n",
    "\n",
    "# print(a1, a2)\n",
    "# len(a1)\n",
    "\n",
    "result = [\n",
    "    [a1[0] + a2[0],\n",
    "    a1[1] + a2[1]],\n",
    "    [a1[2] + a2[2],\n",
    "    a1[3] + a2[3]],\n",
    "]\n",
    "\n",
    "print(result)\n",
    "\n",
    "# sub... 잘 모르겠지만 지피티쌤 도움을 받았습니다. \n"
   ]
  },
  {
   "cell_type": "markdown",
   "metadata": {},
   "source": [
    "---"
   ]
  },
  {
   "cell_type": "markdown",
   "metadata": {
    "id": "eLdrWVkavJEN"
   },
   "source": [
    "__[문제5]__\n",
    "\n",
    "양의 정수 x가 하샤드 수이려면 x의 자릿수의 합으로 x가 나누어져야 합니다.   \n",
    "예를 들어 18의 자릿수 합은 1+8=9이고, 18은 9로 나누어 떨어지므로 18은 하샤드 수입니다.   \n",
    "주어진 x를 이용해 x가 하샤드 수인지 아닌지 검사하는 코드를 작성해주세요\n",
    "\n",
    "x = 17\n",
    "\n",
    "----\n",
    "\n",
    "입출력 예시\n",
    "x\t결과값  \n",
    "10\ttrue  \n",
    "12\ttrue  \n",
    "11\tfalse  \n",
    "13\tfalse  "
   ]
  },
  {
   "cell_type": "code",
   "execution_count": null,
   "metadata": {
    "id": "EULD-IOrvKmG"
   },
   "outputs": [
    {
     "name": "stdout",
     "output_type": "stream",
     "text": [
      "true\n"
     ]
    }
   ],
   "source": [
    "x = 10\n",
    "\n",
    "x_sep = list(str(x)) #[1, 7]\n",
    "a, b = map(int, x_sep)\n",
    "\n",
    "ab_sum = a + b\n",
    "ab_remain = x % ab_sum #나머지가 0 보다 크면 false\n",
    "\n",
    "if a + b  == ab_sum % 2 :\n",
    "    print(\"true\")\n",
    "\n",
    "elif ab_remain != 0 : \n",
    "    print(\"false\")\n",
    "\n",
    "# 몇 시간 고민 끝에 저만의 방식으로 푼 것 같아 뿌듯해용!! (지피티의 도움을 받았지만..!)\n"
   ]
  },
  {
   "cell_type": "markdown",
   "metadata": {},
   "source": [
    "---"
   ]
  },
  {
   "cell_type": "markdown",
   "metadata": {
    "id": "GeS6hZhivLMZ"
   },
   "source": [
    "__[문제6]__\n",
    "\n",
    "String형 배열 seoul의 element중 \"Kim\"의 인덱스 x를 찾아, \"김서방은 x에 있다\"는 String을 출력하는 코드를 작성해주세요.   \n",
    "\n",
    "seoul에 \"Kim\"은 오직 한 번만 나타나며 잘못된 값이 입력되는 경우는 없습니다.\n",
    "\n",
    "seoul = [\"Jane\", \"Kim\"]\n",
    "\n",
    "<br>\n",
    "출력 예) \"김서방은 1에 있다\""
   ]
  },
  {
   "cell_type": "code",
   "execution_count": null,
   "metadata": {
    "id": "e4LXat3BvRRg"
   },
   "outputs": [],
   "source": []
  },
  {
   "cell_type": "markdown",
   "metadata": {},
   "source": [
    "---"
   ]
  },
  {
   "cell_type": "markdown",
   "metadata": {
    "id": "iZjKl-ZqvOkm"
   },
   "source": [
    "__[문제7]__\n",
    "\n",
    "0부터 9까지의 숫자 중 일부가 들어있는 정수 배열 numbers가 주어집니다.   \n",
    "numbers에서 찾을 수 없는 0부터 9까지의 숫자를 모두 찾아 더한 수를 출력해주세요\n",
    "\n",
    "numbers = [5,8,1,0,6,9]"
   ]
  },
  {
   "cell_type": "code",
   "execution_count": null,
   "metadata": {
    "id": "598DAkIHvQav"
   },
   "outputs": [],
   "source": []
  }
 ],
 "metadata": {
  "colab": {
   "authorship_tag": "ABX9TyMLQjyUmELFyKkx1AyovOFZ",
   "provenance": []
  },
  "kernelspec": {
   "display_name": "Python 3",
   "name": "python3"
  },
  "language_info": {
   "codemirror_mode": {
    "name": "ipython",
    "version": 3
   },
   "file_extension": ".py",
   "mimetype": "text/x-python",
   "name": "python",
   "nbconvert_exporter": "python",
   "pygments_lexer": "ipython3",
   "version": "3.12.6"
  }
 },
 "nbformat": 4,
 "nbformat_minor": 0
}
