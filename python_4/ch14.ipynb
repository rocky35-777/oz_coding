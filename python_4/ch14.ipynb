{
 "cells": [
  {
   "cell_type": "markdown",
   "metadata": {},
   "source": [
    "### if\n",
    "\n",
    "특정 조건일 때 코드를 실행하는 문법  \n",
    "\n",
    "if 파이썬을 정복한다면:\n",
    "    개발자로 취직할 수 있다. \n",
    "\n",
    "콜론: 들여쓰기 조심!!!  \n",
    "들여쓰기 2칸 Or 4칸 다 써도 되지만 4칸으로 쓰자!!! 일정하게 해야한다. "
   ]
  },
  {
   "cell_type": "code",
   "execution_count": 3,
   "metadata": {},
   "outputs": [
    {
     "name": "stdout",
     "output_type": "stream",
     "text": [
      "개당 500원 입니다.\n"
     ]
    }
   ],
   "source": [
    "개수 = int(input(\"붕어빵 몇개 필요하세요?\"))\n",
    "\n",
    "if 개수 > 3:\n",
    "    print(\"개당 500원 입니다.\")"
   ]
  },
  {
   "cell_type": "code",
   "execution_count": 5,
   "metadata": {},
   "outputs": [
    {
     "name": "stdout",
     "output_type": "stream",
     "text": [
      "개당 300원입니다.\n"
     ]
    }
   ],
   "source": [
    "# 코드는 위에서 아래로, if 문의 흐름 작동원리 \n",
    "\n",
    "# 개수라는 변수에 담음 1) 입력을 받음\n",
    "개수 = int(input(\"붕어빵 몇개 필요하세요?\"))\n",
    "\n",
    "# 개수 변수가 있네 값이 뭐지? 4>3 True or False\n",
    "if 개수 > 3:\n",
    "    print(\"개당 500원 입니다.\")\n",
    "\n",
    "if 개수 <= 3:\n",
    "    print(\"개당 300원입니다.\")\n"
   ]
  },
  {
   "cell_type": "code",
   "execution_count": 6,
   "metadata": {},
   "outputs": [
    {
     "name": "stdout",
     "output_type": "stream",
     "text": [
      "의문의 숫자는 5보타 크고 10보다 작습니다.\n"
     ]
    }
   ],
   "source": [
    "# if 중첩문\n",
    "\n",
    "의문의_숫자 = 10\n",
    "\n",
    "if 의문의_숫자 > 5:\n",
    "    if 의문의_숫자 < 15:\n",
    "        print(\"의문의 숫자는 5보타 크고 10보다 작습니다.\")"
   ]
  },
  {
   "cell_type": "code",
   "execution_count": null,
   "metadata": {},
   "outputs": [
    {
     "name": "stdout",
     "output_type": "stream",
     "text": [
      "개당 300원 입니다.\n"
     ]
    }
   ],
   "source": [
    "# if ~ else 문법과 주의사항 (콜론, 들여쓰기)\n",
    "# True 일때는 if문 안에 작성된 코드가 실행됨\n",
    "# False 일떄는 else문 안에 작성된 코드가 실행된다. \n",
    "개수 = int(input(\"붕어빵 몇개 사실껀가요?\"))\n",
    "\n",
    "if 개수 > 3:\n",
    "    print(\"개당 500원 입니다.\")\n",
    "\n",
    "else:\n",
    "    print(\"개당 300원 입니다.\")"
   ]
  },
  {
   "cell_type": "code",
   "execution_count": null,
   "metadata": {},
   "outputs": [],
   "source": [
    "# if ~ else문 흐름 (작동원리)\n",
    "\n",
    "개수 = int(input(\"붕어빵 몇개 사실껀가요?\"))\n",
    "\n",
    "if 개수 > 3:\n",
    "    print(\"개당 500원 입니다.\")\n",
    "\n",
    "else:\n",
    "    print(\"개당 300원 입니다.\")"
   ]
  },
  {
   "cell_type": "code",
   "execution_count": null,
   "metadata": {},
   "outputs": [
    {
     "name": "stdout",
     "output_type": "stream",
     "text": [
      "True\n",
      "False\n",
      "False\n",
      "False\n",
      "True\n",
      "True\n",
      "True\n",
      "False\n"
     ]
    }
   ],
   "source": [
    "# 조건문 조건 (True, False)\n",
    "\n",
    "# True\n",
    "if True:\n",
    "    print(True)\n",
    "else:\n",
    "    print(False)\n",
    "\n",
    "# False\n",
    "if False:\n",
    "    print(True)\n",
    "else:\n",
    "    print(False)\n",
    "\n",
    "# None\n",
    "if None:\n",
    "    print(True)\n",
    "else:\n",
    "    print(False)\n",
    "\n",
    "# 0\n",
    "if 0:\n",
    "    print(True)\n",
    "else:\n",
    "    print(False)\n",
    "\n",
    "# 1\n",
    "if 1:\n",
    "    print(True)\n",
    "else:\n",
    "    print(False)\n",
    "\n",
    "# 1.1\n",
    "if 1.1:\n",
    "    print(True)\n",
    "else:\n",
    "    print(False)\n",
    "\n",
    "# hello\n",
    "if 'hello':\n",
    "    print(True)\n",
    "else:\n",
    "    print(False) # srt 문자열은 모두 True\n",
    "\n",
    "# '' 아무 값 입력하지 않으면 false \n",
    "if '':\n",
    "    print(True)\n",
    "else:\n",
    "    print(False)"
   ]
  },
  {
   "cell_type": "code",
   "execution_count": 22,
   "metadata": {},
   "outputs": [
    {
     "name": "stdout",
     "output_type": "stream",
     "text": [
      "동일합니다.\n",
      "동일합니다.\n",
      "동일합니다.\n",
      "동일합니다.\n"
     ]
    }
   ],
   "source": [
    "# 조건 여러개 설정하기 \n",
    "\n",
    "a, b = 10, 30\n",
    "\n",
    "if a==10 and b==30:\n",
    "    print(\"동일합니다.\")\n",
    "else:\n",
    "    print(\"동일하지 않습니다.\")\n",
    "\n",
    "if a==10 or b==30:\n",
    "    print(\"동일합니다.\")\n",
    "else:\n",
    "    print(\"동일하지 않습니다.\")\n",
    "\n",
    "if a>=10 and b<=30:\n",
    "    print(\"동일합니다.\")\n",
    "else:\n",
    "    print(\"동일하지 않습니다.\")\n",
    "\n",
    "if 10 <= a < 30:\n",
    "    print(\"동일합니다.\")"
   ]
  },
  {
   "cell_type": "code",
   "execution_count": null,
   "metadata": {},
   "outputs": [
    {
     "name": "stdout",
     "output_type": "stream",
     "text": [
      "시나몬을 선택하셨습니다.\n"
     ]
    }
   ],
   "source": [
    "# elif ~ if문\n",
    "\n",
    "맛 = input(\"붕어빵 맛을 골라주세요. 피자 초코 팥\")\n",
    "\n",
    "if 맛 == \"팥\":\n",
    "    print(f'{맛}을 선택하셨습니다.')\n",
    "\n",
    "elif 맛 == \"피자\":\n",
    "    print(f'{맛}을 선택하셨습니다.')\n",
    "\n",
    "else:\n",
    "    print(f'{맛}을 선택하셨습니다.')\n",
    "\n",
    "# 맛에 없는 메뉴를 입력해도 나오는데 괜찮은건지????"
   ]
  },
  {
   "cell_type": "code",
   "execution_count": 29,
   "metadata": {},
   "outputs": [
    {
     "name": "stdout",
     "output_type": "stream",
     "text": [
      "we\n"
     ]
    }
   ],
   "source": [
    "# 예제로 if문 익혀보기\n",
    "# 문제 : 단어 a의 가운데 글자를 반화하는 코드 \n",
    "# 조건 : 단어의 길이가 짝수라면 가운데 두글자를 출력하면 됩니다. \n",
    "\n",
    "# 입력값1 : \"abcde\" -> c\n",
    "# 입력값2 : \"qwer\" -> we\n",
    "\n",
    "a = input()\n",
    "\n",
    "가운데_인덱스 = int(len(a) / 2)\n",
    "\n",
    "if len(a) % 2 != 0 :\n",
    "    print(a[가운데_인덱스])\n",
    "else:\n",
    "    print(a[가운데_인덱스-1 : 가운데_인덱스+1])\n"
   ]
  },
  {
   "cell_type": "code",
   "execution_count": null,
   "metadata": {},
   "outputs": [],
   "source": []
  }
 ],
 "metadata": {
  "kernelspec": {
   "display_name": "Python 3",
   "language": "python",
   "name": "python3"
  },
  "language_info": {
   "codemirror_mode": {
    "name": "ipython",
    "version": 3
   },
   "file_extension": ".py",
   "mimetype": "text/x-python",
   "name": "python",
   "nbconvert_exporter": "python",
   "pygments_lexer": "ipython3",
   "version": "3.12.6"
  }
 },
 "nbformat": 4,
 "nbformat_minor": 2
}
