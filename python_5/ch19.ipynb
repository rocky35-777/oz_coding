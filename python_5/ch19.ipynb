{
 "cells": [
  {
   "cell_type": "markdown",
   "metadata": {},
   "source": [
    "## 1. 예외처리란?\n",
    "\n",
    "예외처리는 **프로그램 실행 중에 발생할 수 있는 오류를 처리하는 기능**입니다.\n",
    "\n",
    "예외는 **프로그램의 정상적인 흐름을 방해**할 수 있어, **예외처리를 이용한 대응으로 프로그램 실행을 계속**합니다.\n",
    "\n",
    "특히 **무중단 서버를 운영할 때 매우 중요한 문법**입니다.  \n",
    "영어로는 \"High Availability Server\" 또는 \"Always-on Server\"라고도 해요.\n",
    "\n",
    "좀 더 쉽게 말하면:\n",
    "\n",
    "갑자기 서버가 꺼지거나, 점검 때문에 서비스가 끊기는 일이 없도록 만든 서버 시스템입니다.\n",
    "\n",
    "사용자 입장에서는 언제 접속해도 서비스가 정상 작동하는 것처럼 보입니다.\n"
   ]
  },
  {
   "cell_type": "code",
   "execution_count": 27,
   "metadata": {},
   "outputs": [
    {
     "name": "stdout",
     "output_type": "stream",
     "text": [
      "잘못된 인덱스입니다.\n"
     ]
    }
   ],
   "source": [
    "# 리스트 y를 정의합니다.\n",
    "y = [10, 20, 30]\n",
    "\n",
    "try:\n",
    "    index, x = map(int, input('나눌 숫자를 입력하세요: ').split(','))\n",
    "    print(int(y[index] / x))\n",
    "# except:\n",
    "#     print('오류입니다.')\n",
    "except ZeroDivisionError : \n",
    "    print(\"숫자를 0으로 나눌 수 없습니다.\")\n",
    "except IndexError :\n",
    "    print(\"잘못된 인덱스입니다.\")\n"
   ]
  },
  {
   "cell_type": "code",
   "execution_count": 29,
   "metadata": {},
   "outputs": [
    {
     "name": "stdout",
     "output_type": "stream",
     "text": [
      "오류발생😮\n",
      "코드 실행이 종료되었습니다.\n"
     ]
    }
   ],
   "source": [
    "y = [10, 20, 30]\n",
    "\n",
    "try:\n",
    "    index, x = map(int, input('나눌 숫자를 입력하세요: ').split(','))\n",
    "    print(int(y[index] / x))\n",
    "except:\n",
    "    print('오류발생😮')\n",
    "else:\n",
    "    print(\"실행 성공!\")\n",
    "finally: # 무조건 실행되는 함수\n",
    "    print(\"코드 실행이 종료되었습니다.\") "
   ]
  },
  {
   "cell_type": "code",
   "execution_count": 30,
   "metadata": {},
   "outputs": [
    {
     "name": "stdout",
     "output_type": "stream",
     "text": [
      "오류발생😮\n",
      "코드 실행이 종료되었습니다.\n"
     ]
    }
   ],
   "source": [
    "y = [10, 20, 30]\n",
    "\n",
    "try:\n",
    "    index, x = map(int, input('나눌 숫자를 입력하세요: ').split(','))\n",
    "    raise # 에버 발생하게 하는 함수 \n",
    "    print(int(y[index] / x))\n",
    "except:\n",
    "    print('오류발생😮')\n",
    "else:\n",
    "    print(\"실행 성공!\")\n",
    "finally: # 무조건 실행되는 함수\n",
    "    print(\"코드 실행이 종료되었습니다.\") "
   ]
  },
  {
   "cell_type": "code",
   "execution_count": null,
   "metadata": {},
   "outputs": [],
   "source": []
  }
 ],
 "metadata": {
  "kernelspec": {
   "display_name": "Python 3",
   "language": "python",
   "name": "python3"
  },
  "language_info": {
   "codemirror_mode": {
    "name": "ipython",
    "version": 3
   },
   "file_extension": ".py",
   "mimetype": "text/x-python",
   "name": "python",
   "nbconvert_exporter": "python",
   "pygments_lexer": "ipython3",
   "version": "3.12.6"
  }
 },
 "nbformat": 4,
 "nbformat_minor": 2
}
