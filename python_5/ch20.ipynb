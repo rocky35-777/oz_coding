{
 "cells": [
  {
   "cell_type": "markdown",
   "metadata": {},
   "source": [
    "## 1. 파일 입출력의 모드들\n",
    "\n",
    "- 읽기 모드 (r)\n",
    "    - **`r`** 모드는 파일을 **읽기 전용**으로 엽니다.\n",
    "    - **파일이 존재하지 않으면 오류**가 발생합니다.\n",
    "- 쓰기 모드 (w) = 덮어쓰기\n",
    "    - **`w`** 모드는 파일을 **쓰기 전용**으로 엽니다.\n",
    "    - 파일이 **존재하지 않으면 새로운 파일**을 생성합니다.\n",
    "    - 이미 **파일이 존재할 경우, 기존 내용을 삭제하고 새로운 내용**을 씁니다.\n",
    "- 추가 모드 (a)\n",
    "    - **`a`** 모드는 파일을 **쓰기 전용**으로 엽니다.\n",
    "    - 파일이 이미 **존재하면 기존 내용 끝에 추가**합니다.\n",
    "    - 파일이 **존재하지 않으면 새로운 파일을 생성**합니다."
   ]
  },
  {
   "cell_type": "code",
   "execution_count": 1,
   "metadata": {},
   "outputs": [],
   "source": [
    "# 'test.txt' 파일을 쓰기 모드('w')로 엽니다. \n",
    "# 만약 파일이 존재하지 않으면 새로 생성하고, 이미 존재한다면 내용을 덮어씁니다.\n",
    "f = open('test.txt', 'w')\n",
    "\n",
    "# 파일에 문자열 '수강생 여러분'을 씁니다.\n",
    "f.write('수강생 여러분')\n",
    "\n",
    "# 파일을 닫습니다.\n",
    "f.close()"
   ]
  },
  {
   "cell_type": "code",
   "execution_count": 3,
   "metadata": {},
   "outputs": [],
   "source": [
    "f = open('test.txt', 'w')\n",
    "\n",
    "# 파일에 문자열 '수강생 여러분'을 씁니다.\n",
    "f.write(\"\"\"f = open('test.txt', 'w')\n",
    "\n",
    "# 파일에 문자열 '수강생 여러분'을 씁니다.\n",
    "f.write('수강생 여러분')\n",
    "\n",
    "# 파일을 닫습니다.\n",
    "f.close()\n",
    "\"\"\")\n",
    "\n",
    "# 파일을 닫습니다.\n",
    "f.close()"
   ]
  },
  {
   "cell_type": "code",
   "execution_count": null,
   "metadata": {},
   "outputs": [],
   "source": [
    "f = open('test.txt', 'w')\n",
    "메시지 = \"\"\n",
    "# 파일에 문자열 '수강생 여러분'을 씁니다.\n",
    "\n",
    "for i in range(10):\n",
    "    메시지 += \"개발자 여러분\\n\"\n",
    "\n",
    "f.write(\"메시지\")\n",
    "\n",
    "f.close()\n"
   ]
  },
  {
   "cell_type": "code",
   "execution_count": null,
   "metadata": {},
   "outputs": [],
   "source": [
    "# 'test.txt' 파일을 읽기 모드('r')로 엽니다.\n",
    "f = open('test.txt', 'r')\n",
    "\n",
    "# 파일의 내용을 문자열 s에 저장합니다.\n",
    "s = f.read()\n",
    "\n",
    "# s를 출력합니다.\n",
    "print(s)\n",
    "\n",
    "# 파일을 닫습니다.\n",
    "f.close()"
   ]
  },
  {
   "cell_type": "code",
   "execution_count": null,
   "metadata": {},
   "outputs": [],
   "source": [
    "#한줄씩 읽어오기\n",
    "\n",
    "# 'test.txt' 파일을 읽기 모드('r')로 엽니다.\n",
    "f = open('test.txt', 'r')\n",
    "\n",
    "# 파일에서 한 줄을 읽어서 line에 저장합니다.\n",
    "line = f.readline()\n",
    "\n",
    "# 읽은 한 줄을 출력합니다.\n",
    "print(line)\n",
    "\n",
    "# line의 데이터 타입을 출력합니다.\n",
    "print(type(line))\n",
    "\n",
    "# 파일을 닫습니다.\n",
    "f.close()"
   ]
  },
  {
   "cell_type": "code",
   "execution_count": null,
   "metadata": {},
   "outputs": [],
   "source": [
    "# 'test.txt' 파일을 읽기 모드('r')로 엽니다.\n",
    "f = open('test.txt', 'r')\n",
    "\n",
    "while line:\n",
    "\t\t# 파일에서 한 줄을 읽어서 line에 저장합니다.\n",
    "\t\tline = f.readLine()\n",
    "\t\t\n",
    "\t\t# 저장된 line을 출력합니다.\n",
    "\t\tprint(line)\n",
    "\n",
    "# 파일을 닫습니다.\n",
    "f.close()"
   ]
  },
  {
   "cell_type": "code",
   "execution_count": null,
   "metadata": {},
   "outputs": [],
   "source": [
    "# 리스트 list를 정의합니다.\n",
    "list = [10, 20, 30]\n",
    "\n",
    "# 'test.txt' 파일을 쓰기 모드('w')로 열고, 파일 객체를 f로 지정합니다.\n",
    "with open('test.txt', 'w') as f:\n",
    "    # 리스트를 문자열로 변환하여 파일에 쓰고, JavaScript 변수를 할당하는 형식으로 저장합니다.\n",
    "    f.write('let test = ' + str(list)) \n",
    "    # let은 중복을 허용하지 않음."
   ]
  },
  {
   "cell_type": "code",
   "execution_count": null,
   "metadata": {},
   "outputs": [],
   "source": [
    "list = ['10', '20', '30']\n",
    "\n",
    "# 'test.txt' 파일을 쓰기 모드로 엽니다.\n",
    "with open('test.txt', 'w') as f:\n",
    "    # 리스트의 각 요소를 파일에 연속해서 씁니다.\n",
    "    f.writelines(list)\n",
    "\t\t\n",
    "#입력\n",
    "102030"
   ]
  },
  {
   "cell_type": "code",
   "execution_count": 5,
   "metadata": {},
   "outputs": [],
   "source": [
    "#한줄씩 띄워서 파일에 입력하기\n",
    "\n",
    "list = ['10', '20', '30']\n",
    "\n",
    "# 'test.txt' 파일을 쓰기 모드로 엽니다.\n",
    "with open('test.txt', 'w') as f:\n",
    "    # 리스트의 각 요소를 파일에 한 줄씩 씁니다.\n",
    "    for item in list:\n",
    "        f.write(item + '\\n')"
   ]
  },
  {
   "cell_type": "code",
   "execution_count": null,
   "metadata": {},
   "outputs": [],
   "source": [
    "list = ['10', '20', '30']\n",
    "\n",
    "# 'test3.csv' 파일을 쓰기 모드로 엽니다.\n",
    "with open('test3.csv', 'w') as f:\n",
    "    # 리스트의 각 요소를 쉼표로 구분하여 파일에 씁니다.\n",
    "    f.write(','.join(map(str, list)))"
   ]
  },
  {
   "cell_type": "markdown",
   "metadata": {},
   "source": [
    "## 이해도 체크리스트\n",
    "\n",
    "<aside>\n",
    "⚠️ 해당 체크리스트는 본 챕터의 이해도를 확인하는 문제입니다. 대답에 어려움을 느끼신다면, 다시 한번 강의를 수강하는 것을 추천드립니다.\n",
    "\n",
    "</aside>\n",
    "\n",
    "1. 파일을 생성하고 내용을 작성하는 방법에 대한 설명 중 틀린 것은 무엇인가요?\n",
    "    \n",
    "    **a)** 'w' 모드로 파일을 열면 파일이 존재하지 않을 경우 새로운 파일을 생성합니다.\n",
    "    \n",
    "    **b)** 'a' 모드로 파일을 열면 기존 내용 뒤에 새로운 내용을 추가합니다.\n",
    "    \n",
    "    **c)** 'r' 모드로 파일을 열면 파일이 존재하지 않을 경우 오류가 발생합니다.\n",
    "    \n",
    "    **d)** 파일을 열고 작업을 마친 후에는 반드시 **`f.close()`**를 호출해야 합니다.\n",
    "    \n",
    "    - 정답\n",
    "        \n",
    "        c) 'r' 모드로 파일을 열면 파일이 존재하지 않을 경우 오류가 발생합니다.\n",
    "        \n",
    "\n",
    "1. readline() 함수의 역할은 무엇인가요?\n",
    "    \n",
    "    **a)** 파일에서 한 줄을 읽어오고, 파일 포인터를 다음 줄로 이동합니다.\n",
    "    \n",
    "    **b)** 파일에서 한 번에 모든 내용을 읽어옵니다.\n",
    "    \n",
    "    **c)** 파일을 닫습니다.\n",
    "    \n",
    "    **d)** 파일에 내용을 씁니다.\n",
    "    \n",
    "    - 정답\n",
    "        \n",
    "        a) 파일에서 한 줄을 읽어오고, 파일 포인터를 다음 줄로 이동합니다.\n",
    "        \n",
    "\n",
    "1. with 구문을 사용하여 파일을 다루는 장점은 무엇인가요?(심화)\n",
    "    \n",
    "    **a)** 파일을 열고 닫는 부분을 자동으로 처리해 줍니다.\n",
    "    \n",
    "    **b)** 파일의 내용을 한 번에 모두 읽어옵니다.\n",
    "    \n",
    "    **c)** 파일에 내용을 쓸 때 추가 모드로 열어야 합니다.\n",
    "    \n",
    "    **d)** 파일을 읽을 때는 반드시 readline() 함수를 사용해야 합니다.\n",
    "    \n",
    "    - 정답\n",
    "        \n",
    "        a) 파일을 열고 닫는 부분을 자동으로 처리해 줍니다."
   ]
  }
 ],
 "metadata": {
  "kernelspec": {
   "display_name": "Python 3",
   "language": "python",
   "name": "python3"
  },
  "language_info": {
   "codemirror_mode": {
    "name": "ipython",
    "version": 3
   },
   "file_extension": ".py",
   "mimetype": "text/x-python",
   "name": "python",
   "nbconvert_exporter": "python",
   "pygments_lexer": "ipython3",
   "version": "3.12.6"
  }
 },
 "nbformat": 4,
 "nbformat_minor": 2
}
