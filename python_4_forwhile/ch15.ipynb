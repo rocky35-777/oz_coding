{
 "cells": [
  {
   "cell_type": "markdown",
   "metadata": {},
   "source": [
    "### for문\n",
    "\n",
    "프로그래밍 안에서 반복되는 작업을 간단하게 처리하기 위해서 사용하는 기능   \n"
   ]
  },
  {
   "cell_type": "code",
   "execution_count": 1,
   "metadata": {},
   "outputs": [
    {
     "name": "stdout",
     "output_type": "stream",
     "text": [
      "반복이 되다니!\n",
      "반복이 되다니!\n",
      "반복이 되다니!\n",
      "반복이 되다니!\n",
      "반복이 되다니!\n"
     ]
    }
   ],
   "source": [
    "# for문으로 만들어보기\n",
    "# for 변수 in range(횟수):\n",
    "    # print()\n",
    "\n",
    "for i in range(5):\n",
    "    print(\"반복이 되다니!\")"
   ]
  },
  {
   "cell_type": "code",
   "execution_count": 2,
   "metadata": {},
   "outputs": [
    {
     "name": "stdout",
     "output_type": "stream",
     "text": [
      "반복이 되다니 신기해! 0\n",
      "반복이 되다니 신기해! 1\n",
      "반복이 되다니 신기해! 2\n",
      "반복이 되다니 신기해! 3\n",
      "반복이 되다니 신기해! 4\n"
     ]
    }
   ],
   "source": [
    "for i in range(5):\n",
    "    print(\"반복이 되다니 신기해!\", i)"
   ]
  },
  {
   "cell_type": "code",
   "execution_count": 7,
   "metadata": {},
   "outputs": [
    {
     "name": "stdout",
     "output_type": "stream",
     "text": [
      "10\n",
      "9\n",
      "8\n",
      "7\n",
      "6\n",
      "5\n",
      "9\n",
      "8\n",
      "7\n",
      "6\n",
      "5\n",
      "4\n",
      "3\n",
      "2\n",
      "1\n",
      "0\n"
     ]
    }
   ],
   "source": [
    "# for 문에서 range() 함수 활용하기 \n",
    "\n",
    "# for i in range(4, 10):\n",
    "    # print(i)\n",
    "\n",
    "for i in range(10, 4, -1):\n",
    "    print(i)\n",
    "\n",
    "for i in reversed(range(10)):\n",
    "    print(i)"
   ]
  },
  {
   "cell_type": "code",
   "execution_count": 8,
   "metadata": {},
   "outputs": [
    {
     "name": "stdout",
     "output_type": "stream",
     "text": [
      "9\n",
      "8\n",
      "7\n",
      "6\n",
      "5\n",
      "4\n",
      "3\n",
      "2\n",
      "1\n",
      "0\n"
     ]
    }
   ],
   "source": [
    "for i in reversed(range(10)):\n",
    "    print(i)"
   ]
  },
  {
   "cell_type": "code",
   "execution_count": 9,
   "metadata": {},
   "outputs": [
    {
     "name": "stdout",
     "output_type": "stream",
     "text": [
      "10\n",
      "9\n",
      "8\n",
      "7\n",
      "6\n",
      "5\n"
     ]
    }
   ],
   "source": [
    "for i in range(10, 4, -1):\n",
    "    print(i)\n",
    "    "
   ]
  },
  {
   "cell_type": "code",
   "execution_count": 10,
   "metadata": {},
   "outputs": [
    {
     "name": "stdout",
     "output_type": "stream",
     "text": [
      "4\n",
      "5\n",
      "6\n",
      "7\n",
      "8\n",
      "9\n"
     ]
    }
   ],
   "source": [
    "for i in range(4, 10):\n",
    "    print(i)"
   ]
  },
  {
   "cell_type": "code",
   "execution_count": 11,
   "metadata": {},
   "outputs": [
    {
     "name": "stdout",
     "output_type": "stream",
     "text": [
      "딸기\n",
      "바나나\n",
      "배\n"
     ]
    }
   ],
   "source": [
    "# for 문에사 시퀀스 객체로 반복하기 \n",
    "\n",
    "과일 = [\"딸기\", \"바나나\", \"배\"]\n",
    "\n",
    "for i in 과일:\n",
    "    print(i)"
   ]
  },
  {
   "cell_type": "code",
   "execution_count": 15,
   "metadata": {},
   "outputs": [
    {
     "name": "stdout",
     "output_type": "stream",
     "text": [
      "버\n",
      "니\n",
      "버\n",
      "니\n",
      "버니버니니\n",
      "버\n",
      "니\n",
      "버\n"
     ]
    }
   ],
   "source": [
    "for i in \"버니버니\":\n",
    "    print(i)\n",
    "\n",
    "for i in \"버니버니\":\n",
    "    print(i, end=\"\")\n",
    "\n",
    "for i in reversed(\"버니버니\"):\n",
    "    print(i)"
   ]
  },
  {
   "cell_type": "code",
   "execution_count": null,
   "metadata": {},
   "outputs": [],
   "source": []
  }
 ],
 "metadata": {
  "kernelspec": {
   "display_name": "Python 3",
   "language": "python",
   "name": "python3"
  },
  "language_info": {
   "codemirror_mode": {
    "name": "ipython",
    "version": 3
   },
   "file_extension": ".py",
   "mimetype": "text/x-python",
   "name": "python",
   "nbconvert_exporter": "python",
   "pygments_lexer": "ipython3",
   "version": "3.12.6"
  }
 },
 "nbformat": 4,
 "nbformat_minor": 2
}
