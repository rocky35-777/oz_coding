{
 "cells": [
  {
   "cell_type": "markdown",
   "metadata": {},
   "source": [
    "raise 구문\n",
    "\n",
    "- 예외를 강제로 발생시키는 기능, 우리가 의도하지 않게 작동하는 상황을 방지하기 위해 사용\n",
    "\n",
    "사용 방법 : raise 뒤에 예외 이름을 입력\n",
    "\n",
    "```\n",
    "raise 예외 객체\n",
    "```\n",
    "\n",
    "잘 사용하진 않아서 알고 넘어가자.\n",
    "\n",
    "실행이 되면 안되는 부분에서 실행이 될까봐..! 미리 강제로 종료시키는 구문."
   ]
  },
  {
   "cell_type": "code",
   "execution_count": null,
   "metadata": {},
   "outputs": [],
   "source": [
    "number = input(\"숫자를 입력해주세요\")\n",
    "number = int(number)\n",
    "\n",
    "#조건문 사용\n",
    "if number > 0:\n",
    "    #양수일 때: 아직 미구현 상태\n",
    "    raise NotImplementedError\n",
    "else:\n",
    "    #음수일 때: 아직 미구현 상태\n",
    "    raise NotImplementedError"
   ]
  }
 ],
 "metadata": {
  "language_info": {
   "name": "python"
  }
 },
 "nbformat": 4,
 "nbformat_minor": 2
}
