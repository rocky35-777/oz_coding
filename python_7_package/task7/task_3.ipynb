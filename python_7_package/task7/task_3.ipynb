{
 "cells": [
  {
   "cell_type": "markdown",
   "metadata": {},
   "source": [
    "사용자로부터 여러 개의 숫자를 입력받아 리스트에 저장한 후, 사용자가 'done'이라고 입력할 때까지 계속 입력받으세요. \n",
    "\n",
    "- 입력 중 숫자가 아닌 값이 입력되면 ValueError를 처리\n",
    "- 숫자 외 값이 입력된 경우 어떤 값이 잘못 입력되었는지 사용자에게 알려주는 문구 출력<br>\n",
    "  (예: f\"잘못된 값: {변수}. 숫자를 입력해주세요.\")\n",
    "\n"
   ]
  },
  {
   "cell_type": "markdown",
   "metadata": {},
   "source": []
  },
  {
   "metadata": {
    "ExecuteTime": {
     "end_time": "2025-04-28T01:54:03.203215Z",
     "start_time": "2025-04-28T01:53:56.070901Z"
    }
   },
   "cell_type": "code",
   "source": [
    "nums = []\n",
    "while True:\n",
    "    try:\n",
    "        typing = input(\"숫자를 입력하세요.('done' 입력 시 종료):\")\n",
    "        if typing == 'done':\n",
    "            break\n",
    "        nums.append(int(typing))\n",
    "    except ValueError:\n",
    "        print(f\"잘못된 값:{typing}. 숫자를 입력해주세요.\")\n",
    "\n",
    "print(nums)\n"
   ],
   "outputs": [
    {
     "name": "stdout",
     "output_type": "stream",
     "text": [
      "[2, 3, 4]\n"
     ]
    }
   ],
   "execution_count": 3
  },
  {
   "metadata": {
    "ExecuteTime": {
     "end_time": "2025-04-28T01:53:21.991150Z",
     "start_time": "2025-04-28T01:53:21.989438Z"
    }
   },
   "cell_type": "code",
   "source": "",
   "outputs": [],
   "execution_count": null
  },
  {
   "metadata": {},
   "cell_type": "code",
   "outputs": [],
   "execution_count": null,
   "source": ""
  }
 ],
 "metadata": {
  "language_info": {
   "name": "python"
  }
 },
 "nbformat": 4,
 "nbformat_minor": 2
}
