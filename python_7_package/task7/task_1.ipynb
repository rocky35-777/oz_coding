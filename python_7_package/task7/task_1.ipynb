{
 "cells": [
  {
   "cell_type": "markdown",
   "metadata": {},
   "source": [
    "사용자로부터 두 개의 숫자를 입력받아 나눗셈을 수행하는 프로그램을 작성하세요. \n",
    "\n",
    "[예외처리]\n",
    "- 입력 값이 숫자가 아닐 때 발생할 수 있는 ValueError\n",
    "- 나누는 수가 0일 때 발생할 수 있는 ZeroDivisionError\n",
    "- 위 2가지 예외처리 후 사용자에게 이해하기 쉬운 메시지 작성 후 출력되도록 코드를 작성"
   ]
  },
  {
   "metadata": {
    "ExecuteTime": {
     "end_time": "2025-04-28T01:44:54.737203Z",
     "start_time": "2025-04-28T01:44:46.515676Z"
    }
   },
   "cell_type": "code",
   "source": [
    "try:\n",
    "    a = int(input(\"나눗셈할 첫 번째 숫자를 입력하세요\"))\n",
    "    b = int(input(\"나눗셈할 두 번째 숫자를 입력하세요\"))\n",
    "except ValueError:\n",
    "    print(\"숫자를 입력해 주세요.\")\n",
    "except ZeroDivisionError:\n",
    "    print(\"0은 입력할 수 없습니다.\")\n",
    "\n"
   ],
   "outputs": [],
   "execution_count": 2
  },
  {
   "metadata": {},
   "cell_type": "code",
   "outputs": [],
   "execution_count": null,
   "source": ""
  }
 ],
 "metadata": {
  "language_info": {
   "name": "python"
  }
 },
 "nbformat": 4,
 "nbformat_minor": 2
}
