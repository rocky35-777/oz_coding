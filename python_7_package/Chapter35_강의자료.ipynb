{
 "cells": [
  {
   "metadata": {},
   "cell_type": "markdown",
   "source": [
    "[예외객체]\n",
    "- Exception을 사용하면 예외의 종류에 대해 알 수 있습니다."
   ]
  },
  {
   "metadata": {},
   "cell_type": "code",
   "outputs": [
    {
     "name": "stdout",
     "output_type": "stream",
     "text": [
      "type(exception): <class 'ValueError'>\n",
      "exception: invalid literal for int() with base 10: '3cm'\n"
     ]
    }
   ],
   "execution_count": 1,
   "source": [
    "# x=3cm, y=5cm\n",
    "try:\n",
    "    x, y = map(int, input(\"밑변과 높이를 입력해주세요\").split(\" \"))\n",
    "\n",
    "    # 계산결과 출력\n",
    "    print(f'삼각형의 넓이는 {x*y/2}입니다.')\n",
    "except Exception as exception:\n",
    "    # 예외에 대한 정보 출력\n",
    "    print(\"type(exception):\", type(exception))\n",
    "    print(\"exception:\", exception)"
   ]
  },
  {
   "metadata": {},
   "cell_type": "markdown",
   "source": [
    "예외객체 자료형은 Value Error이고<br>\n",
    "내용은 invalid literal for int() with base 10: '3cm'입니다."
   ]
  },
  {
   "metadata": {},
   "cell_type": "markdown",
   "source": [
    "[예외 구분하기]\n",
    "\n",
    "여러 가지 에외가 발생하는 상황을 구분지어 대비하기 위함"
   ]
  },
  {
   "metadata": {},
   "cell_type": "code",
   "outputs": [
    {
     "name": "stdout",
     "output_type": "stream",
     "text": [
      "type(exception): <class 'IndexError'>\n",
      "except: list index out of range\n"
     ]
    }
   ],
   "execution_count": 4,
   "source": [
    "numbers = [23, 11, 7, 4, 12]\n",
    "\n",
    "try:\n",
    "    number_input = int(input(\"찾고싶은 값의 위치를 입력해주세요\"))\n",
    "    print(f'{number_input}번째 요소 : {numbers[number_input]}')\n",
    "except Exception as exception:\n",
    "    print(\"type(exception):\", type(exception))\n",
    "    print(\"except:\", exception)\n"
   ]
  },
  {
   "metadata": {},
   "cell_type": "markdown",
   "source": [
    "[except: list index out of range]와 같은 에러를 구분하고 처리할 수 있는 기능을 파이썬에서 제공합니다.\n",
    "\n",
    "```\n",
    "try:\n",
    "    예외가 발생할 가능성이 있는 구문\n",
    "except 예외 a:\n",
    "    예외 a가 발생했을 때 실행할 구문\n",
    "except 예외 b:\n",
    "    예외 b가 발생했을 때 실행할 구문\n",
    "except 예외 c:\n",
    "    예외 c가 발생했을 때 실행할 구문\n",
    "```"
   ]
  },
  {
   "metadata": {},
   "cell_type": "code",
   "outputs": [
    {
     "name": "stdout",
     "output_type": "stream",
     "text": [
      "정수로 입력해주세요\n"
     ]
    }
   ],
   "execution_count": 6,
   "source": [
    "numbers = [23, 11, 7, 4, 12]\n",
    "\n",
    "try:\n",
    "    number_input = int(input(\"찾고싶은 값의 위치를 입력해주세요\"))\n",
    "    print(f'{number_input}번째 요소 : {numbers[number_input]}')\n",
    "except ValueError:\n",
    "    print(\"정수로 입력해주세요\")\n",
    "except IndexError:\n",
    "    print(\"리스트의 범위를 벗어났습니다. 입력값을 다시 확인해주세요\")"
   ]
  },
  {
   "metadata": {},
   "cell_type": "markdown",
   "source": [
    "[예외 구분 구문와 예외 객체]\n",
    "\n",
    "as 키워드를 이용해 as exception을 사용할 수 있음"
   ]
  },
  {
   "metadata": {},
   "cell_type": "code",
   "outputs": [
    {
     "name": "stdout",
     "output_type": "stream",
     "text": [
      "리스트의 범위를 벗어났습니다. 입력값을 다시 확인해주세요\n",
      "exception: list index out of range\n"
     ]
    }
   ],
   "execution_count": 7,
   "source": [
    "numbers = [23, 11, 7, 4, 12]\n",
    "\n",
    "try:\n",
    "    number_input = int(input(\"찾고싶은 값의 위치를 입력해주세요\"))\n",
    "    print(f'{number_input}번째 요소 : {numbers[number_input]}')\n",
    "except ValueError as exception:\n",
    "    print(\"정수로 입력해주세요\")\n",
    "    print(\"exception:\", exception)\n",
    "except IndexError as exception:\n",
    "    print(\"리스트의 범위를 벗어났습니다. 입력값을 다시 확인해주세요\")\n",
    "    print(\"exception:\", exception)\n"
   ]
  },
  {
   "metadata": {},
   "cell_type": "markdown",
   "source": [
    "프로그램 실행 중 위 2가지 예외처리로 처리가 불가능한 경우를 대비해 앞서 사용했던<br>\n",
    "모든 예외 처리가 가능한 Excepton을 이용해 대처할 수 있습니다."
   ]
  },
  {
   "metadata": {},
   "cell_type": "code",
   "outputs": [
    {
     "name": "stdout",
     "output_type": "stream",
     "text": [
      "1번째 요소 : 11\n",
      "대처 불가한 예외가 발생했습니다.\n",
      "<class 'NameError'> name '문제를' is not defined\n"
     ]
    }
   ],
   "execution_count": 10,
   "source": [
    "numbers = [23, 11, 7, 4, 12]\n",
    "\n",
    "try:\n",
    "    number_input = int(input(\"찾고싶은 값의 위치를 입력해주세요\"))\n",
    "    print(f'{number_input}번째 요소 : {numbers[number_input]}')\n",
    "    # 문제를.만들어볼까()\n",
    "except ValueError as exception:\n",
    "    print(\"정수로 입력해주세요\")\n",
    "    print(\"exception:\", exception)\n",
    "except IndexError as exception:\n",
    "    print(\"리스트의 범위를 벗어났습니다. 입력값을 다시 확인해주세요\")\n",
    "    print(\"exception:\", exception)\n",
    "except Exception as exception:\n",
    "    print(\"대처 불가한 예외가 발생했습니다.\")\n",
    "    print(type(exception), exception)"
   ]
  },
  {
   "metadata": {},
   "cell_type": "markdown",
   "source": [
    "지금부터는 강의를 잠시 멈춰두고 아래 키워드에 대해서\n",
    "여러분들이 이해한 방식대로 정리하는 시간을 가져보시기 바랍니다.\n",
    "\n",
    "- 예외 종류와 그에 대한 설명을 해주세요(구글링 필요)"
   ]
  },
  {
   "cell_type": "markdown",
   "metadata": {},
   "source": [
    "## 강의내용 메모\n",
    "\n",
    "try, except 구문은 협업하고 서비스 출시할 때 도움이 되고 필요한 구문이다.\n",
    "완벽한 서비스는 없고, 유저는 다양함으로 언제든 오류가 발생할 수 있는 상황이 존재한다.\n",
    "\n",
    "코드안에서 발생할 수 있는 오류는 대부분 정해져 있다.\n",
    "\n",
    "예외 키워드 구글링을 통해서 알 수 있음. 외울 필요는 없음.\n",
    "\n",
    "로그를 많이 보는데 대부분 에러값..!\n",
    "\n",
    "***예외 종류는 언제 어떻게 발생하는지 이해해 보자."
   ]
  }
 ],
 "metadata": {
  "kernelspec": {
   "display_name": "Python 3",
   "language": "python",
   "name": "python3"
  },
  "language_info": {
   "codemirror_mode": {
    "name": "ipython",
    "version": 3
   },
   "file_extension": ".py",
   "mimetype": "text/x-python",
   "name": "python",
   "nbconvert_exporter": "python",
   "pygments_lexer": "ipython3",
   "version": "3.11.7"
  }
 },
 "nbformat": 4,
 "nbformat_minor": 2
}
