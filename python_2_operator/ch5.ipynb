{
 "cells": [
  {
   "cell_type": "code",
   "execution_count": 2,
   "metadata": {},
   "outputs": [
    {
     "data": {
      "text/plain": [
       "(1, 1)"
      ]
     },
     "execution_count": 2,
     "metadata": {},
     "output_type": "execute_result"
    }
   ],
   "source": [
    "divmod(3,2)"
   ]
  },
  {
   "cell_type": "code",
   "execution_count": 3,
   "metadata": {},
   "outputs": [
    {
     "data": {
      "text/plain": [
       "29500"
      ]
     },
     "execution_count": 3,
     "metadata": {},
     "output_type": "execute_result"
    }
   ],
   "source": [
    "\"\"\"\n",
    "아아 5000원\n",
    "아샷추 6500원\n",
    "아아 2잔, 아샷추 3잔\n",
    "\"\"\"\n",
    "\n",
    "(5000 *2)+(6500*3)"
   ]
  },
  {
   "cell_type": "code",
   "execution_count": 4,
   "metadata": {},
   "outputs": [],
   "source": [
    "#계산된 결과값이 다 날아가는 문제... 어떻게 해결하면 좋을까? "
   ]
  },
  {
   "cell_type": "markdown",
   "metadata": {},
   "source": [
    "## 변수란? \n",
    "기본중에 기본! 반드시 알아야 한다.\n",
    "\n",
    "- 하나의 값을 저장할 수 있는 공간\n",
    "\n",
    "- 어떤 것도 넣을 수 있음\n",
    "\n"
   ]
  },
  {
   "cell_type": "markdown",
   "metadata": {},
   "source": [
    "하나의 변수에 하나의 값을 넣을때\n",
    "\n",
    "변수이름 = 값\n",
    "\n",
    "두개의 변수에 하나의 값을 각각 넣을때\n",
    "\n",
    "변수이름1, 변수이름2 = 값1, 값2\n"
   ]
  },
  {
   "cell_type": "code",
   "execution_count": 6,
   "metadata": {},
   "outputs": [
    {
     "name": "stdout",
     "output_type": "stream",
     "text": [
      "1\n"
     ]
    }
   ],
   "source": [
    "#하나의 값을 변수에 넣을 때\n",
    "\n",
    "num = 1\n",
    "print(num)"
   ]
  },
  {
   "cell_type": "code",
   "execution_count": 7,
   "metadata": {},
   "outputs": [
    {
     "name": "stdout",
     "output_type": "stream",
     "text": [
      "1\n",
      "2\n",
      "1 2\n"
     ]
    }
   ],
   "source": [
    "#2개의 값을 변수에 넣을 때\n",
    "num_1, num_2 = 1, 2\n",
    "print(num_1)\n",
    "print(num_2)\n",
    "\n",
    "print(num_1, num_2)"
   ]
  },
  {
   "cell_type": "markdown",
   "metadata": {},
   "source": [
    "## 문제\n",
    "\n",
    "1~5까지 숫자를 더하는 문제. \n",
    "단, 다음 숫자를 더하기 위해서 매번 새로우 줄에서 시작해야 함."
   ]
  },
  {
   "cell_type": "code",
   "execution_count": 8,
   "metadata": {},
   "outputs": [
    {
     "data": {
      "text/plain": [
       "15"
      ]
     },
     "execution_count": 8,
     "metadata": {},
     "output_type": "execute_result"
    }
   ],
   "source": [
    "#변수를 사용하지 않을 때\n",
    "#이전에 계산된 결과를 저장할 수 있는 방법이 없음 \n",
    "\n",
    "1 + 2\n",
    "1 + 2 + 3\n",
    "1 + 2+ 3+ 4\n",
    "1 + 2 + 3 + 4 + 5"
   ]
  },
  {
   "cell_type": "code",
   "execution_count": 10,
   "metadata": {},
   "outputs": [
    {
     "name": "stdout",
     "output_type": "stream",
     "text": [
      "15\n"
     ]
    }
   ],
   "source": [
    "#변수 사용하기 \n",
    "#이전 계산된 결과 저장하기 \n",
    "\n",
    "sum = 1 + 2\n",
    "sum = sum + 3\n",
    "sum = sum + 4\n",
    "sum = sum + 5\n",
    "\n",
    "print(sum)\n"
   ]
  },
  {
   "cell_type": "markdown",
   "metadata": {},
   "source": [
    "### 변수에 값을 넣는 것 -> 할당\n",
    "sum = 1 + 2 -> 1+2  의 계산된 결과를 sum이라는 변수에 할당한다.\n",
    "\n",
    "sum 은 변수명이고 \"=\" 같다는 의미가 아니라 할당_assignment 이라고 한다. \n",
    "\n",
    "\"=\" : 할당 연산자 라고 한다.   \n",
    "\"+\" : 산술 연산자  \n",
    "+= 산술 후 바로 할당하는 문법  \n",
    "/=, -=, *= 모두 사용 가능  \n",
    "\n",
    "# 문장 끝에서 띄어쓰기 2번하면 줄 바뀜됨."
   ]
  },
  {
   "cell_type": "code",
   "execution_count": 12,
   "metadata": {},
   "outputs": [
    {
     "name": "stdout",
     "output_type": "stream",
     "text": [
      "15\n",
      "15\n"
     ]
    }
   ],
   "source": [
    "#변수를 사용하면서 사용 가능한 문법\n",
    "\n",
    "sum = 1 + 2\n",
    "sum = sum + 3\n",
    "sum = sum + 4\n",
    "sum = sum + 5\n",
    "\n",
    "print(sum)\n",
    "\n",
    "sum2 = 1 + 2\n",
    "sum2 += 3\n",
    "sum2 += 4\n",
    "sum2 += 5\n",
    "\n",
    "print(sum2)"
   ]
  },
  {
   "cell_type": "code",
   "execution_count": 13,
   "metadata": {},
   "outputs": [
    {
     "ename": "NameError",
     "evalue": "name 'sum3' is not defined",
     "output_type": "error",
     "traceback": [
      "\u001b[31m---------------------------------------------------------------------------\u001b[39m",
      "\u001b[31mNameError\u001b[39m                                 Traceback (most recent call last)",
      "\u001b[36mCell\u001b[39m\u001b[36m \u001b[39m\u001b[32mIn[13]\u001b[39m\u001b[32m, line 3\u001b[39m\n\u001b[32m      1\u001b[39m \u001b[38;5;66;03m#주의!! 선언되지 않은 변수를 사용할 경우 에러 발생\u001b[39;00m\n\u001b[32m----> \u001b[39m\u001b[32m3\u001b[39m \u001b[43msum3\u001b[49m += \u001b[32m1\u001b[39m\n\u001b[32m      5\u001b[39m sum3\n",
      "\u001b[31mNameError\u001b[39m: name 'sum3' is not defined"
     ]
    }
   ],
   "source": [
    "#주의!! 선언되지 않은 변수를 사용할 경우 에러 발생\n",
    "\n",
    "sum3 += 1\n",
    "\n",
    "sum3"
   ]
  },
  {
   "cell_type": "code",
   "execution_count": 14,
   "metadata": {},
   "outputs": [
    {
     "name": "stdout",
     "output_type": "stream",
     "text": [
      "None\n"
     ]
    }
   ],
   "source": [
    "#변수에 어떤값도 넣고 싶지 않고 선언하는 방법\n",
    "\n",
    "nothing = None\n",
    "print(None)"
   ]
  },
  {
   "cell_type": "markdown",
   "metadata": {},
   "source": [
    "### 변수를 만드는 규칙\n",
    "\n",
    "영문 문자와 숫자 사용 가능  \n",
    "대소문자 구분  \n",
    "첫글자는 대문자 지향  \n",
    "문자부터 시작해야 하며 숫자부터 시작하면 안됨  \n",
    "_ 언더바로 시작할 수 있음  \n",
    "특수문자 사용 불가  \n",
    "파이썬 키워드 if for while.etc 사용 불가  "
   ]
  },
  {
   "cell_type": "code",
   "execution_count": 16,
   "metadata": {},
   "outputs": [
    {
     "name": "stdout",
     "output_type": "stream",
     "text": [
      "크다 작다\n"
     ]
    }
   ],
   "source": [
    "#대소문자를 구분하는 변수 \n",
    "\n",
    "BIG = \"크다\"\n",
    "big = \"작다\"\n",
    "\n",
    "print(BIG, big)\n"
   ]
  },
  {
   "cell_type": "markdown",
   "metadata": {},
   "source": [
    "## 스네이크케이스 snake case\n",
    "변수명 : snake_case  _<= 뱀처럼 생겼나용?\n",
    "\n",
    "\n",
    "## 카멜케이스 camel case\n",
    "변수명 : camelCase <- 낙타가 보이나용?"
   ]
  },
  {
   "cell_type": "code",
   "execution_count": 18,
   "metadata": {},
   "outputs": [
    {
     "name": "stdout",
     "output_type": "stream",
     "text": [
      "스니커즈\n"
     ]
    }
   ],
   "source": [
    "# 변수를 만들 때 스네이크케이스로 진행. 언더바 2개 적용시키기 \n",
    "# 개발에 관련된 여러 조건을 명시하는 것을 코드 컨벤션이라고 한다. \n",
    "\n",
    "box__shose = \"스니커즈\"\n",
    "box__hat = \"모자\"\n",
    "\n",
    "print(box__shose)"
   ]
  },
  {
   "cell_type": "code",
   "execution_count": 19,
   "metadata": {},
   "outputs": [
    {
     "name": "stdout",
     "output_type": "stream",
     "text": [
      "록키만 빼고 고양이 다 있어\n"
     ]
    }
   ],
   "source": [
    "#print() 포메팅 3가지 f-string :print(f' {변수명} ')\n",
    "\n",
    "me = \"록키\"\n",
    "print(f'{me}만 빼고 고양이 다 있어')"
   ]
  },
  {
   "cell_type": "markdown",
   "metadata": {},
   "source": [
    "## 실습문제_무인주문기계 만들기\n",
    "\n",
    "붕어빵 팔  2000원 / 슈크림 2500원 / 초코 3000원 \n",
    "\n",
    "초코 3개, 슈크림 2개 주문하면 \n",
    "\"주문이 완료되었습니다. 슈크림 2개 초코 3개 총 5개 결제 금액은 14000원 입니다.\"\n",
    "\n",
    "상기 결제 문구가 출력되도록 코드를 작성해 주세요.\n",
    "\n",
    "\n",
    "변수를 만들때 스네이크 케이스 언더바 2개 / print()문의 포메팅 f-string"
   ]
  },
  {
   "cell_type": "code",
   "execution_count": 1,
   "metadata": {},
   "outputs": [
    {
     "name": "stdout",
     "output_type": "stream",
     "text": [
      "주문이 완료되었습니다. 붕어빵(슈크림) 2 개, 붕어빵(초코) 3 개 총 5 개 결제 금액은 14000 원 입니다.\n"
     ]
    }
   ],
   "source": [
    "#변수값 입력\n",
    "fish__bean, fish__cream, fish__choco = \"붕어빵(팔)\", \"붕어빵(슈크림)\", \"붕어빵(초코)\"\n",
    "fish__bean__price, fish__cream__price, fish__choco__price = 2000, 2500, 3000 \n",
    "order__cream, order__choco = 2, 3\n",
    "\n",
    "#붕어빵 계산값\n",
    "fish__cream__pay, fish__choco__pay = fish__cream__price * 2, fish__choco__price * 3\n",
    "\n",
    "#총 구매 개수 \n",
    "total = order__cream + order__choco\n",
    "\n",
    "#총 구매 금액\n",
    "total_pay = fish__cream__pay + fish__choco__pay\n",
    "\n",
    "#출력\n",
    "print(f\"주문이 완료되었습니다. {fish__cream} {order__cream} 개, {fish__choco} {order__choco} 개 총 {total} 개 결제 금액은 {total_pay} 원 입니다.\")\n"
   ]
  },
  {
   "cell_type": "code",
   "execution_count": null,
   "metadata": {},
   "outputs": [],
   "source": []
  }
 ],
 "metadata": {
  "kernelspec": {
   "display_name": "Python 3",
   "language": "python",
   "name": "python3"
  },
  "language_info": {
   "codemirror_mode": {
    "name": "ipython",
    "version": 3
   },
   "file_extension": ".py",
   "mimetype": "text/x-python",
   "name": "python",
   "nbconvert_exporter": "python",
   "pygments_lexer": "ipython3",
   "version": "3.12.6"
  }
 },
 "nbformat": 4,
 "nbformat_minor": 2
}
