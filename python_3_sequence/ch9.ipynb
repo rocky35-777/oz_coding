{
 "cells": [
  {
   "cell_type": "markdown",
   "metadata": {},
   "source": [
    "## 함수와 메서드 \n",
    "\n",
    "함수 : 어디에 속해있지 않고 단독 모듈이라 함수를 그냥 호출하여 사용이 가능하다.   \n",
    "예) print(), input()  \n",
    "\n",
    "메서드 : 함수의 클래스 안에 속해 있고 클래스의 멤버 변수들을 이용해서 구현된 것. 딘독으로 사용할 수 없으나 함수에 포함되어져 있음.    \n",
    "\n",
    "\"까먹으신건가요?\".count(\"까\") # 글자수 카운팅_까가 몇개 있는지 세어줌   \n",
    "\"까먹으신건가요?\".index(\"까\") # 몇 번째 위치하는지   "
   ]
  },
  {
   "cell_type": "code",
   "execution_count": 6,
   "metadata": {},
   "outputs": [
    {
     "name": "stdout",
     "output_type": "stream",
     "text": [
      "5 5\n"
     ]
    }
   ],
   "source": [
    "숫자, 문자 = 5, \"5\"\n",
    "\n",
    "print(숫자, 문자)"
   ]
  },
  {
   "cell_type": "code",
   "execution_count": 12,
   "metadata": {},
   "outputs": [
    {
     "name": "stdout",
     "output_type": "stream",
     "text": [
      "안녕하세요, 록키 님\n"
     ]
    }
   ],
   "source": [
    "name = input(\"이름을 입력하세요 : \")\n",
    "print(\"안녕하세요,\", name, \"님\")"
   ]
  },
  {
   "cell_type": "code",
   "execution_count": 15,
   "metadata": {},
   "outputs": [
    {
     "ename": "ValueError",
     "evalue": "invalid literal for int() with base 10: '6.5'",
     "output_type": "error",
     "traceback": [
      "\u001b[31m---------------------------------------------------------------------------\u001b[39m",
      "\u001b[31mValueError\u001b[39m                                Traceback (most recent call last)",
      "\u001b[36mCell\u001b[39m\u001b[36m \u001b[39m\u001b[32mIn[15]\u001b[39m\u001b[32m, line 1\u001b[39m\n\u001b[32m----> \u001b[39m\u001b[32m1\u001b[39m 정수 = \u001b[38;5;28;43mint\u001b[39;49m\u001b[43m(\u001b[49m\u001b[38;5;28;43minput\u001b[39;49m\u001b[43m(\u001b[49m\u001b[43m)\u001b[49m\u001b[43m)\u001b[49m\n\u001b[32m      2\u001b[39m \u001b[38;5;28mprint\u001b[39m(정수, \u001b[38;5;28mtype\u001b[39m(정수))\n",
      "\u001b[31mValueError\u001b[39m: invalid literal for int() with base 10: '6.5'"
     ]
    }
   ],
   "source": [
    "정수 = int(input())\n",
    "print(정수, type(정수))"
   ]
  },
  {
   "cell_type": "code",
   "execution_count": 14,
   "metadata": {},
   "outputs": [
    {
     "name": "stdout",
     "output_type": "stream",
     "text": [
      "163.0 <class 'float'>\n"
     ]
    }
   ],
   "source": [
    "실수 = float(input())\n",
    "print(실수, type(실수))"
   ]
  },
  {
   "cell_type": "markdown",
   "metadata": {},
   "source": [
    "## 그 외 입력값의 형변환이 가능한 종류\n",
    "\n",
    "tuple()  \n",
    "list()  \n",
    "dict()  \n",
    "set()  \n"
   ]
  },
  {
   "cell_type": "code",
   "execution_count": 16,
   "metadata": {},
   "outputs": [],
   "source": [
    "넌센스, 정답 = input() # 오류남, 인풋은 값 1개만 들어와야함. "
   ]
  },
  {
   "cell_type": "code",
   "execution_count": 19,
   "metadata": {},
   "outputs": [
    {
     "name": "stdout",
     "output_type": "stream",
     "text": [
      "넌센스 퀴즈 : 낄떄 끼고 빠질떄 빠져를 사자성어로 한다면\n",
      "정답 =  낄끼빠빠\n"
     ]
    }
   ],
   "source": [
    "넌센스, 정답 = input().split(\"?\") # 띄어쓰기 많을 때\n",
    "print(f'넌센스 퀴즈 : {넌센스}')\n",
    "print(f'정답 = {정답}')\n"
   ]
  },
  {
   "cell_type": "code",
   "execution_count": 21,
   "metadata": {},
   "outputs": [
    {
     "name": "stdout",
     "output_type": "stream",
     "text": [
      "<class 'int'> 22 55 66\n"
     ]
    }
   ],
   "source": [
    "# 시퀀스 자료형에 다 지원되는 메소드 \n",
    "\n",
    "번호1, 번호2, 번호3, 번호4 = input().split(\",\")\n",
    "\n",
    "번호1 = int(번호1)\n",
    "번호1 = int(번호2)\n",
    "번호1 = int(번호3)\n",
    "번호1 = int(번호4)\n",
    "\n",
    "print(type(번호1), 번호2, 번호3, 번호4)\n",
    "\n"
   ]
  },
  {
   "cell_type": "code",
   "execution_count": 22,
   "metadata": {},
   "outputs": [
    {
     "name": "stdout",
     "output_type": "stream",
     "text": [
      "<class 'int'> 22 33 44\n"
     ]
    }
   ],
   "source": [
    "# map()\n",
    "\n",
    "번호1, 번호2, 번호3, 번호4 = map(int, input().split(\",\"))\n",
    "\n",
    "\n",
    "print(type(번호1), 번호2, 번호3, 번호4)\n"
   ]
  },
  {
   "cell_type": "code",
   "execution_count": 32,
   "metadata": {},
   "outputs": [
    {
     "name": "stdout",
     "output_type": "stream",
     "text": [
      "주문이 완료되었습니다. 10 2 개, 10 3 개 총 5 개 결제 금액은 14000 원 입니다.\n"
     ]
    }
   ],
   "source": [
    "# 레거시 : 누군가 남겨두고간 코드 (보통은 그냥 버리고 새로 만든다.)\n",
    "# 리펙토링? 결과에 변경없이 코드의 구조를 재조정하는 것. \n",
    "\n",
    "# input()\n",
    "# fish__bean, fish__cream, fish__choco = \"붕어빵(팔)\", \"붕어빵(슈크림)\", \"붕어빵(초코)\"\n",
    "fish__bean, fish__cream, fish__choco = input(\"붕어빵(팔), 붕어빵(슈크림), 붕어빵(초코) 을 순서대로 개수를 입력하고 꼭 쉼표를 입력하고 그리고 안사는 붕어빵은 0을 넣어줘\").split(\",\")\n",
    "\n",
    "fish__bean__price, fish__cream__price, fish__choco__price = 2000, 2500, 3000 \n",
    "order__cream, order__choco = 2, 3\n",
    "\n",
    "#붕어빵 계산값\n",
    "fish__cream__pay, fish__choco__pay = fish__cream__price * 2, fish__choco__price * 3\n",
    "\n",
    "#총 구매 개수 \n",
    "total = order__cream + order__choco\n",
    "\n",
    "#총 구매 금액\n",
    "total_pay = fish__cream__pay + fish__choco__pay\n",
    "\n",
    "#출력\n",
    "print(f\"주문이 완료되었습니다. {fish__cream} {order__cream} 개, {fish__choco} {order__choco} 개 총 {total} 개 결제 금액은 {total_pay} 원 입니다.\")\n"
   ]
  },
  {
   "cell_type": "code",
   "execution_count": null,
   "metadata": {},
   "outputs": [
    {
     "name": "stdout",
     "output_type": "stream",
     "text": [
      "초코 민트 샷추가 크림\n",
      "초코/민트/샷추가/크림\n",
      "초코:민트:샷추가:크림\n",
      "초코\n",
      "민트\n",
      "샷추가\n",
      "크림\n"
     ]
    }
   ],
   "source": [
    "# ptint() 함수에 기능을 이용해보자.\n",
    "\n",
    "print(\"초코\", \"민트\", \"샷추가\", \"크림\")\n",
    "print(\"초코\", \"민트\", \"샷추가\", \"크림\", sep = \"/\")\n",
    "print(\"초코\", \"민트\", \"샷추가\", \"크림\", sep = \":\")\n",
    "print(\"초코\", \"민트\", \"샷추가\", \"크림\", sep = \"\\n\") # 단락별로 작성하기 많이 쓰임\n"
   ]
  },
  {
   "cell_type": "code",
   "execution_count": null,
   "metadata": {},
   "outputs": [
    {
     "name": "stdout",
     "output_type": "stream",
     "text": [
      "초코 민트 샷추가 크림 초코 민트 샷추가 크림 초코 민트 샷추가 크림 "
     ]
    }
   ],
   "source": [
    "# end 한줄에 실행하기 \n",
    "\n",
    "print(\"초코\", \"민트\", \"샷추가\", \"크림\", end = \" \")\n",
    "print(\"초코\", \"민트\", \"샷추가\", \"크림\", end = \" \")\n",
    "print(\"초코\", \"민트\", \"샷추가\", \"크림\", end = \" \")\n",
    "\n",
    "\n",
    "\n"
   ]
  },
  {
   "cell_type": "code",
   "execution_count": null,
   "metadata": {},
   "outputs": [],
   "source": []
  }
 ],
 "metadata": {
  "kernelspec": {
   "display_name": "Python 3",
   "language": "python",
   "name": "python3"
  },
  "language_info": {
   "codemirror_mode": {
    "name": "ipython",
    "version": 3
   },
   "file_extension": ".py",
   "mimetype": "text/x-python",
   "name": "python",
   "nbconvert_exporter": "python",
   "pygments_lexer": "ipython3",
   "version": "3.12.6"
  }
 },
 "nbformat": 4,
 "nbformat_minor": 2
}
