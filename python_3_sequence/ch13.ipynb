{
 "cells": [
  {
   "cell_type": "markdown",
   "metadata": {},
   "source": [
    "### set\n",
    "\n",
    "수학의 집합을 의미  \n",
    "딕셔너리와 같이 순서가 없음  \n",
    "!!! 값의 중복을 허락하지 않음 !!!  \n",
    "(키와 값을 넣는냐_딕셔너리, 값만 넣느냐!_셋)\n",
    "생성 방법 : 중괄호 {}  \n"
   ]
  },
  {
   "cell_type": "code",
   "execution_count": 6,
   "metadata": {},
   "outputs": [
    {
     "name": "stdout",
     "output_type": "stream",
     "text": [
      "{'오이', '당근', '양파'}\n",
      "set()\n",
      "{}\n"
     ]
    }
   ],
   "source": [
    "채소 = {\"당근\", \"오이\", \"양파\"}\n",
    "type(채소)\n",
    "print(채소)\n",
    "\n",
    "# 순서가 없고 출력하면 요소가 다르게 나오는 것이 특징 \n",
    "\n",
    "# 셋을 만드는 다양한 방법 \n",
    "세트 = set()\n",
    "print(세트)\n",
    "\n",
    "세트2 = {}\n",
    "print(세트2)\n"
   ]
  },
  {
   "cell_type": "code",
   "execution_count": 8,
   "metadata": {},
   "outputs": [
    {
     "name": "stdout",
     "output_type": "stream",
     "text": [
      "['a', 'p', 'p', 'l', 'e']\n",
      "('a', 'p', 'p', 'l', 'e')\n",
      "{'p', 'l', 'a', 'e'}\n"
     ]
    }
   ],
   "source": [
    "# 중복이 제일 싫어!!! set\n",
    "\n",
    "사과_리스트 = list(\"apple\")\n",
    "print(사과_리스트)\n",
    "\n",
    "사과_튜플 = tuple(\"apple\")\n",
    "print(사과_튜플)\n",
    "\n",
    "사과_셋 = set(\"apple\")\n",
    "print(사과_셋)"
   ]
  },
  {
   "cell_type": "code",
   "execution_count": 22,
   "metadata": {},
   "outputs": [
    {
     "name": "stdout",
     "output_type": "stream",
     "text": [
      "마늘은(는) 내다버린 채소이다.\n"
     ]
    }
   ],
   "source": [
    "# 데이터 변경 및 추가 삭제\n",
    "\n",
    "채소\n",
    "\n",
    "채소.add(\"토마토\")\n",
    "채소\n",
    "\n",
    "채소.update(\"가지\")\n",
    "채소\n",
    "\n",
    "# 삭제 방법 3\n",
    "\n",
    "# 채소.remove(\"지\") #데이더 없으면 에러 발생\n",
    "# 채소\n",
    "\n",
    "# 채소.discard(\"가\") #데이거 없어도 에러 발생 없이 실행함. 없으면 말아~ \n",
    "# 채소\n",
    "\n",
    "채소 = {\"당근\", '배추', '마늘'}\n",
    "반환된_채소 = 채소.pop()\n",
    "print(f\"{반환된_채소}은(는) 내다버린 채소이다.\")\n",
    "\n",
    "\n"
   ]
  },
  {
   "cell_type": "code",
   "execution_count": 28,
   "metadata": {},
   "outputs": [
    {
     "data": {
      "text/plain": [
       "{'당근', '배추'}"
      ]
     },
     "execution_count": 28,
     "metadata": {},
     "output_type": "execute_result"
    }
   ],
   "source": [
    "# 교집합, 차지합, 합집합...! \n",
    "\n",
    "채소1 = {\"당근\", \"양파\", \"오이\", \"배추\"}\n",
    "채소2 = {\"양파\", \"오이\", \"대파\", \"가지\"}\n",
    "\n",
    "# 합집합 union\n",
    "채소1 | 채소2\n",
    "set.union(채소1, 채소2)\n",
    "\n",
    "# 교집합 intersection\n",
    "채소1 & 채소2 # 이렇게 쓰다보면 나중에 헷갈릴 수 있음 \n",
    "set.intersection(채소1, 채소2)\n",
    "\n",
    "# 차집합 difference\n",
    "채소1 - 채소2\n",
    "set.difference(채소1, 채소2)"
   ]
  },
  {
   "cell_type": "code",
   "execution_count": null,
   "metadata": {},
   "outputs": [],
   "source": []
  }
 ],
 "metadata": {
  "kernelspec": {
   "display_name": "Python 3",
   "language": "python",
   "name": "python3"
  },
  "language_info": {
   "codemirror_mode": {
    "name": "ipython",
    "version": 3
   },
   "file_extension": ".py",
   "mimetype": "text/x-python",
   "name": "python",
   "nbconvert_exporter": "python",
   "pygments_lexer": "ipython3",
   "version": "3.12.6"
  }
 },
 "nbformat": 4,
 "nbformat_minor": 2
}
