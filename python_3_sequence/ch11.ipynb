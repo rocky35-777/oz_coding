{
 "cells": [
  {
   "cell_type": "markdown",
   "metadata": {},
   "source": [
    "### tuple\n",
    "\n",
    "리스트 처럼 요소를 일렬로 저장하지만 안에 저장된 요소를 변경, 추가, 삭제할 수 없다.  \n",
    "사용 못하는 메소드 많음.\n"
   ]
  },
  {
   "cell_type": "code",
   "execution_count": 1,
   "metadata": {},
   "outputs": [
    {
     "name": "stdout",
     "output_type": "stream",
     "text": [
      "<class 'tuple'>\n",
      "(1, '이', 3.0)\n"
     ]
    }
   ],
   "source": [
    "# 리스트 [], 튜플 ()\n",
    "\n",
    "튜플 = (1, \"이\", 3.0)\n",
    "print(type(튜플))\n",
    "print(튜플)"
   ]
  },
  {
   "cell_type": "code",
   "execution_count": 4,
   "metadata": {},
   "outputs": [
    {
     "name": "stdout",
     "output_type": "stream",
     "text": [
      "['중', '꺾', '그', '마']\n",
      "('중', '꺾', '그', '마')\n",
      "['중', '뿌', '그', '마']\n",
      "중뿌그마\n"
     ]
    }
   ],
   "source": [
    "# 번외_많이쓰임\n",
    "수강생 = \"중꺾그마\"\n",
    "\n",
    "수강생_list = list(수강생)\n",
    "수강생_tuple = tuple(수강생)\n",
    "\n",
    "print(수강생_list)\n",
    "print(수강생_tuple)\n",
    "\n",
    "수강생_list[1] = \"뿌\"\n",
    "print(수강생_list)\n",
    "\n",
    "# join함수\n",
    "취뽀_수강생 = \"\".join(수강생_list)\n",
    "print(취뽀_수강생)"
   ]
  },
  {
   "cell_type": "markdown",
   "metadata": {},
   "source": [
    "### 튜플은 왜 쓰는가?\n",
    "\n",
    "1.3go가 불가하기 때문이다. (넣고 삭제하고 바꾸고) 무슨 소리go_오히려 좋다.  \n",
    "2.list 보다 가볍다.  \n",
    "3.리스트는 가변, 튜플은 불변이다. \n",
    "\n",
    "공부과제>>\n",
    "가변객체와 불변객체  \n",
    "파이썬 리스트 동적배열 (그림 그려가면서)  \n",
    "자료구조 책, 파이썬 클린코드 책 사는거 추천_스터디 진행하면 좋을 듯\n",
    "\n"
   ]
  }
 ],
 "metadata": {
  "kernelspec": {
   "display_name": "Python 3",
   "language": "python",
   "name": "python3"
  },
  "language_info": {
   "codemirror_mode": {
    "name": "ipython",
    "version": 3
   },
   "file_extension": ".py",
   "mimetype": "text/x-python",
   "name": "python",
   "nbconvert_exporter": "python",
   "pygments_lexer": "ipython3",
   "version": "3.12.6"
  }
 },
 "nbformat": 4,
 "nbformat_minor": 2
}
