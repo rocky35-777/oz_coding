{
 "cells": [
  {
   "metadata": {
    "ExecuteTime": {
     "end_time": "2025-05-19T07:31:06.863108Z",
     "start_time": "2025-05-19T07:31:06.858510Z"
    }
   },
   "cell_type": "code",
   "source": [
    "from python_6_function2.task_4 import print_info\n",
    "\n",
    "a, b, *c = (0, 1, 2, 3, 4, 5)\n",
    "a\n",
    "b\n",
    "c"
   ],
   "id": "996e84df192e73a",
   "outputs": [
    {
     "data": {
      "text/plain": [
       "[2, 3, 4, 5]"
      ]
     },
     "execution_count": 3,
     "metadata": {},
     "output_type": "execute_result"
    }
   ],
   "execution_count": 3
  },
  {
   "metadata": {
    "ExecuteTime": {
     "end_time": "2025-05-19T07:36:54.363861Z",
     "start_time": "2025-05-19T07:36:54.361204Z"
    }
   },
   "cell_type": "code",
   "source": [
    "scores = [8.8, 8.9, 8.7, 9.2, 9.3, 9.7, 9.9, 9.5, 7.8, 9.4]\n",
    "\n",
    "*valid_score, a, b = scores\n",
    "print(valid_score)"
   ],
   "id": "20101a93be4209c1",
   "outputs": [
    {
     "name": "stdout",
     "output_type": "stream",
     "text": [
      "[8.8, 8.9, 8.7, 9.2, 9.3, 9.7, 9.9, 9.5]\n"
     ]
    }
   ],
   "execution_count": 8
  },
  {
   "metadata": {
    "ExecuteTime": {
     "end_time": "2025-05-19T07:39:24.154375Z",
     "start_time": "2025-05-19T07:39:24.150850Z"
    }
   },
   "cell_type": "code",
   "source": [
    "scores = [8.8, 8.9, 8.7, 9.2, 9.3, 9.7, 9.9, 9.5, 7.8, 9.4]\n",
    "\n",
    "a, *valid_score, c = scores\n",
    "print(valid_score)"
   ],
   "id": "8c52ceb60f62d635",
   "outputs": [
    {
     "name": "stdout",
     "output_type": "stream",
     "text": [
      "[8.9, 8.7, 9.2, 9.3, 9.7, 9.9, 9.5, 7.8]\n"
     ]
    }
   ],
   "execution_count": 9
  },
  {
   "metadata": {
    "ExecuteTime": {
     "end_time": "2025-05-19T07:39:58.836533Z",
     "start_time": "2025-05-19T07:39:58.833747Z"
    }
   },
   "cell_type": "code",
   "source": [
    "temp = { }\n",
    "print(type(temp))"
   ],
   "id": "5a6d406cf693dbfe",
   "outputs": [
    {
     "name": "stdout",
     "output_type": "stream",
     "text": [
      "<class 'dict'>\n"
     ]
    }
   ],
   "execution_count": 11
  },
  {
   "metadata": {
    "ExecuteTime": {
     "end_time": "2025-05-19T07:43:23.981016Z",
     "start_time": "2025-05-19T07:43:23.977499Z"
    }
   },
   "cell_type": "code",
   "source": [
    "ice = {\n",
    "    \"메로나\" : 1000,\n",
    "    \"폴라포\" : 1200,\n",
    "    \"빵빠레\" : 1800\n",
    "}\n",
    "print(ice)"
   ],
   "id": "6e3c39ba064d5683",
   "outputs": [
    {
     "name": "stdout",
     "output_type": "stream",
     "text": [
      "{'메로나': 1000, '폴라포': 1200, '빵빠레': 1800}\n"
     ]
    }
   ],
   "execution_count": 14
  },
  {
   "metadata": {
    "ExecuteTime": {
     "end_time": "2025-05-19T07:44:53.484850Z",
     "start_time": "2025-05-19T07:44:53.482494Z"
    }
   },
   "cell_type": "code",
   "source": [
    "ice[\"죠스바\"] = 1200\n",
    "ice[\"월드콘\"] = 1500\n",
    "print(ice)"
   ],
   "id": "76e0a887b006d43b",
   "outputs": [
    {
     "name": "stdout",
     "output_type": "stream",
     "text": [
      "{'메로나': 1000, '폴라포': 1200, '빵빠레': 1800, '죠스바': 1200, '월드콘': 1500}\n"
     ]
    }
   ],
   "execution_count": 15
  },
  {
   "metadata": {
    "ExecuteTime": {
     "end_time": "2025-05-19T07:49:02.156410Z",
     "start_time": "2025-05-19T07:49:02.150306Z"
    }
   },
   "cell_type": "code",
   "source": "print(\"메로나 가격 : \", ice[\"메로나\"])",
   "id": "dc3747047de41685",
   "outputs": [
    {
     "name": "stdout",
     "output_type": "stream",
     "text": [
      "메로나 가격 :  1000\n"
     ]
    }
   ],
   "execution_count": 16
  },
  {
   "metadata": {
    "ExecuteTime": {
     "end_time": "2025-05-19T07:49:39.713692Z",
     "start_time": "2025-05-19T07:49:39.710557Z"
    }
   },
   "cell_type": "code",
   "source": [
    "ice[\"메로나\"] = 1300\n",
    "print(ice)"
   ],
   "id": "763cab98af2881bd",
   "outputs": [
    {
     "name": "stdout",
     "output_type": "stream",
     "text": [
      "{'메로나': 1300, '폴라포': 1200, '빵빠레': 1800, '죠스바': 1200, '월드콘': 1500}\n"
     ]
    }
   ],
   "execution_count": 18
  },
  {
   "metadata": {
    "ExecuteTime": {
     "end_time": "2025-05-19T08:38:21.363122Z",
     "start_time": "2025-05-19T08:38:21.355990Z"
    }
   },
   "cell_type": "code",
   "source": [
    "inventory = {\n",
    "    \"메로나\" : [300, 20],\n",
    "    \"비비빅\" : [400, 3],\n",
    "    \"죠스바\" : [250, 100]\n",
    "}\n",
    "\n",
    "print(inventory)"
   ],
   "id": "854a14f9bc394d36",
   "outputs": [
    {
     "name": "stdout",
     "output_type": "stream",
     "text": [
      "{'메로나': [300, 20], '비비빅': [400, 3], '죠스바': [250, 100]}\n"
     ]
    }
   ],
   "execution_count": 19
  },
  {
   "metadata": {
    "ExecuteTime": {
     "end_time": "2025-05-19T08:39:54.749809Z",
     "start_time": "2025-05-19T08:39:54.746793Z"
    }
   },
   "cell_type": "code",
   "source": "print(inventory[\"메로나\"][0], \"원\")",
   "id": "4f47acbc27dab62f",
   "outputs": [
    {
     "name": "stdout",
     "output_type": "stream",
     "text": [
      "300 원\n"
     ]
    }
   ],
   "execution_count": 21
  },
  {
   "metadata": {
    "ExecuteTime": {
     "end_time": "2025-05-19T08:40:25.238911Z",
     "start_time": "2025-05-19T08:40:25.235743Z"
    }
   },
   "cell_type": "code",
   "source": "print(inventory[\"메로나\"][1], \"개\")",
   "id": "a059b042f2e73769",
   "outputs": [
    {
     "name": "stdout",
     "output_type": "stream",
     "text": [
      "20 개\n"
     ]
    }
   ],
   "execution_count": 22
  },
  {
   "metadata": {
    "ExecuteTime": {
     "end_time": "2025-05-19T08:41:37.193217Z",
     "start_time": "2025-05-19T08:41:37.190829Z"
    }
   },
   "cell_type": "code",
   "source": [
    "inventory[\"월드콘\"] = [500, 7]\n",
    "print(inventory)"
   ],
   "id": "3e21f162c64f0ea5",
   "outputs": [
    {
     "name": "stdout",
     "output_type": "stream",
     "text": [
      "{'메로나': [300, 20], '비비빅': [400, 3], '죠스바': [250, 100], '월드콘': [500, 7]}\n"
     ]
    }
   ],
   "execution_count": 23
  },
  {
   "metadata": {
    "ExecuteTime": {
     "end_time": "2025-05-19T08:44:31.199859Z",
     "start_time": "2025-05-19T08:44:31.196215Z"
    }
   },
   "cell_type": "code",
   "source": [
    "icecream = {\n",
    "    '탱크보이': 1200,\n",
    "    '폴라포': 1200,\n",
    "    '빵빠레': 1800,\n",
    "    '월드콘': 1500,\n",
    "    '메로나': 1000\n",
    "}\n",
    "\n",
    "list(icecream.keys())"
   ],
   "id": "70a84c134da50848",
   "outputs": [
    {
     "data": {
      "text/plain": [
       "[1200, 1200, 1800, 1500, 1000]"
      ]
     },
     "execution_count": 27,
     "metadata": {},
     "output_type": "execute_result"
    }
   ],
   "execution_count": 27
  },
  {
   "metadata": {
    "ExecuteTime": {
     "end_time": "2025-05-19T08:44:38.181050Z",
     "start_time": "2025-05-19T08:44:38.176900Z"
    }
   },
   "cell_type": "code",
   "source": "list(icecream.values())",
   "id": "179c7abef1073196",
   "outputs": [
    {
     "data": {
      "text/plain": [
       "[1200, 1200, 1800, 1500, 1000]"
      ]
     },
     "execution_count": 28,
     "metadata": {},
     "output_type": "execute_result"
    }
   ],
   "execution_count": 28
  },
  {
   "metadata": {
    "ExecuteTime": {
     "end_time": "2025-05-19T08:45:40.556927Z",
     "start_time": "2025-05-19T08:45:40.553121Z"
    }
   },
   "cell_type": "code",
   "source": "print(\"총합 : ₩\", sum(icecream.values()))",
   "id": "be1fbe515badbb8",
   "outputs": [
    {
     "name": "stdout",
     "output_type": "stream",
     "text": [
      "총합 : ₩ 6700\n"
     ]
    }
   ],
   "execution_count": 30
  },
  {
   "metadata": {
    "ExecuteTime": {
     "end_time": "2025-05-19T08:48:35.217632Z",
     "start_time": "2025-05-19T08:48:35.214673Z"
    }
   },
   "cell_type": "code",
   "source": [
    "new_product = {\n",
    "    \"팥빙수\" : 2700,\n",
    "    \"아맛나\" : 1000\n",
    "}\n",
    "\n",
    "icecream.update(new_product)\n",
    "print(icecream)"
   ],
   "id": "b3767bac77e16ae4",
   "outputs": [
    {
     "name": "stdout",
     "output_type": "stream",
     "text": [
      "{'탱크보이': 1200, '폴라포': 1200, '빵빠레': 1800, '월드콘': 1500, '메로나': 1000, '팥빙수': 2700, '아맛나': 1000}\n"
     ]
    }
   ],
   "execution_count": 32
  },
  {
   "metadata": {
    "ExecuteTime": {
     "end_time": "2025-05-19T08:49:56.640118Z",
     "start_time": "2025-05-19T08:49:56.637441Z"
    }
   },
   "cell_type": "code",
   "source": [
    "keys = (\"apple\", \"pear\", \"peach\")\n",
    "vals = (300, 250, 400)\n",
    "\n",
    "result = dict(zip(keys, vals))\n",
    "print(result)"
   ],
   "id": "dbef7c430dfdcfbc",
   "outputs": [
    {
     "name": "stdout",
     "output_type": "stream",
     "text": [
      "{'apple': 300, 'pear': 250, 'peach': 400}\n"
     ]
    }
   ],
   "execution_count": 35
  },
  {
   "metadata": {
    "ExecuteTime": {
     "end_time": "2025-05-19T08:53:13.824130Z",
     "start_time": "2025-05-19T08:53:13.818323Z"
    }
   },
   "cell_type": "code",
   "source": [
    "date = ['09/05', '09/06', '09/07', '09/08', '09/09']\n",
    "close_price = [10500, 10300, 10100, 10800, 11000]\n",
    "\n",
    "close_table = dict(zip(date, close_price))\n",
    "print(close_table)"
   ],
   "id": "5293505df9676785",
   "outputs": [
    {
     "name": "stdout",
     "output_type": "stream",
     "text": [
      "{'09/05': 10500, '09/06': 10300, '09/07': 10100, '09/08': 10800, '09/09': 11000}\n"
     ]
    }
   ],
   "execution_count": 36
  },
  {
   "metadata": {},
   "cell_type": "code",
   "outputs": [],
   "execution_count": null,
   "source": "",
   "id": "f377ee32f9e4485f"
  }
 ],
 "metadata": {},
 "nbformat": 4,
 "nbformat_minor": 5
}
