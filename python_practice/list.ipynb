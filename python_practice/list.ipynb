{
 "cells": [
  {
   "metadata": {},
   "cell_type": "markdown",
   "source": "### 리스트 문제 풀기",
   "id": "51393d6b07d24a40"
  },
  {
   "metadata": {
    "ExecuteTime": {
     "end_time": "2025-05-19T06:01:29.803156Z",
     "start_time": "2025-05-19T06:01:29.800608Z"
    }
   },
   "cell_type": "code",
   "source": [
    "# 51 리스트 생성\n",
    "movie_rank = [\"닥터 스트레인지\", \"스플릿\", \"럭키\"]\n",
    "\n",
    "movie_rank.append(\"베트맨\")\n",
    "print(movie_rank)"
   ],
   "id": "8a44a6b92d742701",
   "outputs": [
    {
     "name": "stdout",
     "output_type": "stream",
     "text": [
      "['닥터 스트레인지', '스플릿', '럭키', '베트맨']\n"
     ]
    }
   ],
   "execution_count": 2
  },
  {
   "metadata": {
    "ExecuteTime": {
     "end_time": "2025-05-19T06:02:47.190709Z",
     "start_time": "2025-05-19T06:02:47.173794Z"
    }
   },
   "cell_type": "code",
   "source": [
    "movie_rank.insert(1, \"슈퍼맨\")\n",
    "print(movie_rank)"
   ],
   "id": "19ede76c70cf7c0e",
   "outputs": [
    {
     "name": "stdout",
     "output_type": "stream",
     "text": [
      "['닥터 스트레인지', '슈퍼맨', '스플릿', '럭키', '베트맨']\n"
     ]
    }
   ],
   "execution_count": 3
  },
  {
   "metadata": {
    "ExecuteTime": {
     "end_time": "2025-05-19T06:03:46.549699Z",
     "start_time": "2025-05-19T06:03:46.546903Z"
    }
   },
   "cell_type": "code",
   "source": [
    "del movie_rank[3]\n",
    "print(movie_rank)"
   ],
   "id": "856e37943b92c7f6",
   "outputs": [
    {
     "name": "stdout",
     "output_type": "stream",
     "text": [
      "['닥터 스트레인지', '슈퍼맨', '스플릿', '베트맨']\n"
     ]
    }
   ],
   "execution_count": 5
  },
  {
   "metadata": {
    "ExecuteTime": {
     "end_time": "2025-05-19T06:04:14.735333Z",
     "start_time": "2025-05-19T06:04:14.732994Z"
    }
   },
   "cell_type": "code",
   "source": [
    "del movie_rank[2:]\n",
    "print(movie_rank)"
   ],
   "id": "876a9ad9c2326f9d",
   "outputs": [
    {
     "name": "stdout",
     "output_type": "stream",
     "text": [
      "['닥터 스트레인지', '슈퍼맨']\n"
     ]
    }
   ],
   "execution_count": 6
  },
  {
   "metadata": {
    "ExecuteTime": {
     "end_time": "2025-05-19T06:05:45.736645Z",
     "start_time": "2025-05-19T06:05:45.734056Z"
    }
   },
   "cell_type": "code",
   "source": [
    "lang1 = [\"C\", \"C++\", \"JAVA\"]\n",
    "lang2 = [\"Python\", \"Go\", \"C#\"]\n",
    "\n",
    "langs = lang1 + lang2\n",
    "print(langs)"
   ],
   "id": "f5150a25b417ae99",
   "outputs": [
    {
     "name": "stdout",
     "output_type": "stream",
     "text": [
      "['C', 'C++', 'JAVA', 'Python', 'Go', 'C#']\n"
     ]
    }
   ],
   "execution_count": 8
  },
  {
   "metadata": {
    "ExecuteTime": {
     "end_time": "2025-05-19T06:11:00.607990Z",
     "start_time": "2025-05-19T06:11:00.605547Z"
    }
   },
   "cell_type": "code",
   "source": [
    "nums = [1, 2, 3, 4, 5, 6, 7]\n",
    "\n",
    "print('최솟값 : ', min(nums))\n",
    "print('최댓값 : ', max(nums))"
   ],
   "id": "6f0ef6cc6d508a27",
   "outputs": [
    {
     "name": "stdout",
     "output_type": "stream",
     "text": [
      "최솟값 :  1\n",
      "최댓값 :  7\n"
     ]
    }
   ],
   "execution_count": 14
  },
  {
   "metadata": {
    "ExecuteTime": {
     "end_time": "2025-05-19T06:12:01.423742Z",
     "start_time": "2025-05-19T06:12:01.420863Z"
    }
   },
   "cell_type": "code",
   "source": [
    "cook = [\"피자\", \"김밥\", \"만두\", \"양념치킨\", \"족발\", \"피자\", \"김치만두\", \"쫄면\", \"소시지\", \"라면\", \"팥빙수\", \"김치전\"]\n",
    "\n",
    "print(len(cook))"
   ],
   "id": "cdbe1643f8b526de",
   "outputs": [
    {
     "name": "stdout",
     "output_type": "stream",
     "text": [
      "12\n"
     ]
    }
   ],
   "execution_count": 16
  },
  {
   "metadata": {
    "ExecuteTime": {
     "end_time": "2025-05-19T06:13:25.090104Z",
     "start_time": "2025-05-19T06:13:25.087495Z"
    }
   },
   "cell_type": "code",
   "source": [
    "nums = [1, 2, 3, 4, 5]\n",
    "\n",
    "average = sum(nums) / len(nums)\n",
    "print(average)"
   ],
   "id": "b904387dd3d85ca8",
   "outputs": [
    {
     "name": "stdout",
     "output_type": "stream",
     "text": [
      "3.0\n"
     ]
    }
   ],
   "execution_count": 20
  },
  {
   "metadata": {
    "ExecuteTime": {
     "end_time": "2025-05-19T06:21:27.281532Z",
     "start_time": "2025-05-19T06:21:27.269427Z"
    }
   },
   "cell_type": "code",
   "source": [
    "# 61 ~ 70 문제\n",
    "\n",
    "price = ['20180728', 100, 130, 140, 150, 160, 170]\n",
    "\n",
    "price[1:]"
   ],
   "id": "d14a03c5bd0853e4",
   "outputs": [
    {
     "data": {
      "text/plain": [
       "[100, 130, 140, 150, 160, 170]"
      ]
     },
     "execution_count": 21,
     "metadata": {},
     "output_type": "execute_result"
    }
   ],
   "execution_count": 21
  },
  {
   "metadata": {
    "ExecuteTime": {
     "end_time": "2025-05-19T06:23:02.830692Z",
     "start_time": "2025-05-19T06:23:02.822420Z"
    }
   },
   "cell_type": "code",
   "source": [
    "nums = [1, 2, 3, 4, 5, 6, 7, 8, 9, 10]\n",
    "\n",
    "nums[::2]\n"
   ],
   "id": "6d058d907aaf3730",
   "outputs": [
    {
     "data": {
      "text/plain": [
       "[1, 3, 5, 7, 9]"
      ]
     },
     "execution_count": 22,
     "metadata": {},
     "output_type": "execute_result"
    }
   ],
   "execution_count": 22
  },
  {
   "metadata": {
    "ExecuteTime": {
     "end_time": "2025-05-19T06:23:29.549529Z",
     "start_time": "2025-05-19T06:23:29.546817Z"
    }
   },
   "cell_type": "code",
   "source": "nums[1::2]",
   "id": "aaec65b804e88221",
   "outputs": [
    {
     "data": {
      "text/plain": [
       "[2, 4, 6, 8, 10]"
      ]
     },
     "execution_count": 23,
     "metadata": {},
     "output_type": "execute_result"
    }
   ],
   "execution_count": 23
  },
  {
   "metadata": {
    "ExecuteTime": {
     "end_time": "2025-05-19T06:28:55.909966Z",
     "start_time": "2025-05-19T06:28:55.907182Z"
    }
   },
   "cell_type": "code",
   "source": "nums[::-1]\n",
   "id": "e827bb90fb1bee78",
   "outputs": [
    {
     "data": {
      "text/plain": [
       "[10, 9, 8, 7, 6, 5, 4, 3, 2, 1]"
      ]
     },
     "execution_count": 28,
     "metadata": {},
     "output_type": "execute_result"
    }
   ],
   "execution_count": 28
  },
  {
   "metadata": {
    "ExecuteTime": {
     "end_time": "2025-05-19T06:30:18.184423Z",
     "start_time": "2025-05-19T06:30:18.172236Z"
    }
   },
   "cell_type": "code",
   "source": [
    "interest = ['삼성전자', 'LG전자', 'Naver']\n",
    "\n",
    "print(interest[0], interest[2])"
   ],
   "id": "36028b549317d74c",
   "outputs": [
    {
     "name": "stdout",
     "output_type": "stream",
     "text": [
      "삼성전자 Naver\n"
     ]
    }
   ],
   "execution_count": 31
  },
  {
   "metadata": {
    "ExecuteTime": {
     "end_time": "2025-05-19T06:32:07.561318Z",
     "start_time": "2025-05-19T06:32:07.550400Z"
    }
   },
   "cell_type": "code",
   "source": [
    "interest = ['삼성전자', 'LG전자', 'Naver', 'SK하이닉스', '미래에셋대우']\n",
    "\n",
    "print(\" \".join(interest))"
   ],
   "id": "1a41ab87386774fd",
   "outputs": [
    {
     "name": "stdout",
     "output_type": "stream",
     "text": [
      "삼성전자 LG전자 Naver SK하이닉스 미래에셋대우\n"
     ]
    }
   ],
   "execution_count": 32
  },
  {
   "metadata": {
    "ExecuteTime": {
     "end_time": "2025-05-19T06:44:48.166046Z",
     "start_time": "2025-05-19T06:44:48.159597Z"
    }
   },
   "cell_type": "code",
   "source": "print(\"/\".join(interest))",
   "id": "f12fb0d42e36f67",
   "outputs": [
    {
     "name": "stdout",
     "output_type": "stream",
     "text": [
      "삼성전자/LG전자/Naver/SK하이닉스/미래에셋대우\n"
     ]
    }
   ],
   "execution_count": 33
  },
  {
   "metadata": {
    "ExecuteTime": {
     "end_time": "2025-05-19T06:45:26.925758Z",
     "start_time": "2025-05-19T06:45:26.923094Z"
    }
   },
   "cell_type": "code",
   "source": "print(\"\\n\".join(interest))",
   "id": "1914948e9dabb68d",
   "outputs": [
    {
     "name": "stdout",
     "output_type": "stream",
     "text": [
      "삼성전자\n",
      "LG전자\n",
      "Naver\n",
      "SK하이닉스\n",
      "미래에셋대우\n"
     ]
    }
   ],
   "execution_count": 34
  },
  {
   "metadata": {
    "ExecuteTime": {
     "end_time": "2025-05-19T06:47:04.462207Z",
     "start_time": "2025-05-19T06:47:04.455872Z"
    }
   },
   "cell_type": "code",
   "source": [
    "string = \"삼성전자/LG전자/Naver\"\n",
    "interest = string.split(\"/\")\n",
    "print(interest)"
   ],
   "id": "955671d1ad9d5f27",
   "outputs": [
    {
     "name": "stdout",
     "output_type": "stream",
     "text": [
      "['삼성전자', 'LG전자', 'Naver']\n"
     ]
    }
   ],
   "execution_count": 35
  },
  {
   "metadata": {
    "ExecuteTime": {
     "end_time": "2025-05-19T06:47:55.001116Z",
     "start_time": "2025-05-19T06:47:54.993893Z"
    }
   },
   "cell_type": "code",
   "source": [
    "data = [2, 4, 3, 1, 5, 10, 9]\n",
    "data.sort() # 오름차순\n",
    "print(data)"
   ],
   "id": "46f001efb69ca097",
   "outputs": [
    {
     "name": "stdout",
     "output_type": "stream",
     "text": [
      "[1, 2, 3, 4, 5, 9, 10]\n"
     ]
    }
   ],
   "execution_count": 36
  },
  {
   "metadata": {},
   "cell_type": "code",
   "outputs": [],
   "execution_count": null,
   "source": "",
   "id": "5184a249839d3209"
  }
 ],
 "metadata": {},
 "nbformat": 4,
 "nbformat_minor": 5
}
