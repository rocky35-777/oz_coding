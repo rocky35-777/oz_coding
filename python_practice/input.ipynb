{
 "cells": [
  {
   "cell_type": "markdown",
   "id": "16efec5b703c9c10",
   "metadata": {},
   "source": [
    "### input"
   ]
  },
  {
   "cell_type": "code",
   "execution_count": 1,
   "id": "6baf4e913629654d",
   "metadata": {
    "ExecuteTime": {
     "end_time": "2025-05-19T09:22:54.027181Z",
     "start_time": "2025-05-19T09:22:47.870864Z"
    }
   },
   "outputs": [
    {
     "name": "stdout",
     "output_type": "stream",
     "text": [
      "안녕안녕\n"
     ]
    }
   ],
   "source": [
    "user = input(\"입력해 주세요 : \")\n",
    "print(user * 2)"
   ]
  },
  {
   "cell_type": "code",
   "execution_count": 3,
   "id": "e5e93853285e3964",
   "metadata": {
    "ExecuteTime": {
     "end_time": "2025-05-19T09:28:13.691958Z",
     "start_time": "2025-05-19T09:24:28.523719Z"
    }
   },
   "outputs": [
    {
     "name": "stdout",
     "output_type": "stream",
     "text": [
      "11\n"
     ]
    }
   ],
   "source": [
    "user2 = input(\"숫자 하나 입력하세요 : \")\n",
    "print(int(user2) + 10)"
   ]
  },
  {
   "cell_type": "code",
   "execution_count": 3,
   "id": "78c11518cc06e308",
   "metadata": {},
   "outputs": [
    {
     "name": "stdout",
     "output_type": "stream",
     "text": [
      "홀수\n"
     ]
    }
   ],
   "source": [
    "user = input(\"\")\n",
    "if int(user) % 2 == 0:\n",
    "    print(\"짝수\")\n",
    "else : \n",
    "    print(\"홀수\")\n",
    "    "
   ]
  },
  {
   "cell_type": "code",
   "execution_count": null,
   "id": "67b3e229c88f9b7f",
   "metadata": {},
   "outputs": [
    {
     "name": "stdout",
     "output_type": "stream",
     "text": [
      "255\n"
     ]
    }
   ],
   "source": [
    "user = input(\"숫자를 입력하세요.\")\n",
    "result = int(user) + 20 \n",
    "if result > 255:\n",
    "    print(255)\n",
    "else : \n",
    "    print(result)\n",
    "\n"
   ]
  },
  {
   "cell_type": "code",
   "execution_count": 13,
   "id": "cb16391d",
   "metadata": {},
   "outputs": [
    {
     "name": "stdout",
     "output_type": "stream",
     "text": [
      "80\n"
     ]
    }
   ],
   "source": [
    "user = input(\"숫자를 입력하세요.\")\n",
    "result = int(user) - 20 \n",
    "if result < 0:\n",
    "    print(0)\n",
    "elif result > 255:\n",
    "    print(255)\n",
    "else : \n",
    "    print(result)\n"
   ]
  },
  {
   "cell_type": "code",
   "execution_count": null,
   "id": "2bf07dcc",
   "metadata": {},
   "outputs": [
    {
     "name": "stdout",
     "output_type": "stream",
     "text": [
      "정각이 아닙니다.\n"
     ]
    }
   ],
   "source": [
    "time = input(\"시간을 입력하세요 예) 14:00\")\n",
    "if time[-2:] == \"00\" : # 입력받은 시간은 문자열로 인식\n",
    "    print(\"정각입니다.\")\n",
    "else : \n",
    "    print(\"정각이 아닙니다.\")\n",
    "\n"
   ]
  },
  {
   "cell_type": "code",
   "execution_count": 19,
   "id": "18066ad3",
   "metadata": {},
   "outputs": [
    {
     "name": "stdout",
     "output_type": "stream",
     "text": [
      "오답입니다.\n"
     ]
    }
   ],
   "source": [
    "fruit = [\"사과\", \"포도\", \"홍시\"]\n",
    "\n",
    "user = input(\"좋아하는 과일은?\")\n",
    "if user in fruit:\n",
    "    print(\"정답입니다.\")\n",
    "else : \n",
    "    print(\"오답입니다.\")\n"
   ]
  },
  {
   "cell_type": "code",
   "execution_count": null,
   "id": "7fe06f1f",
   "metadata": {},
   "outputs": [
    {
     "name": "stdout",
     "output_type": "stream",
     "text": [
      "투자 경고 종목입니다.(LG)\n"
     ]
    }
   ],
   "source": [
    "# 118번 \n",
    "\n",
    "warn_list = {\n",
    "    \"Google\" : [\"구글\", \"google\", \"GOOGLE\", \"Google\"],\n",
    "    \"Naver\" : [\"네이버\", \"naver\", \"Naver\", \"NAVER\"],\n",
    "    \"Kakao\" :[\"카카오\", \"Kakao\", \"kakao\", \"KAKAO\"],\n",
    "    \"LG\" : [\"엘지\", \"lg\", \"Lg\", \"LG\"]\n",
    "}\n",
    "\n",
    "user = input(\"투자 종목은?\").lower()\n",
    "\n",
    "for key, syn in warn_list.items():\n",
    "    if user in [s.lower() for s in syn]:\n",
    "        matched_keyword = key\n",
    "        break #일치하면 멈춤\n",
    "\n",
    "if matched_keyword:\n",
    "    print(f\"투자 경고 종목입니다.({matched_keyword})\")\n",
    "else:\n",
    "    print(\"투자 경고 종목이 아닙니다.\")\n"
   ]
  },
  {
   "cell_type": "code",
   "execution_count": null,
   "id": "ebe9cae4",
   "metadata": {},
   "outputs": [],
   "source": []
  },
  {
   "cell_type": "code",
   "execution_count": null,
   "id": "2bea65f0",
   "metadata": {},
   "outputs": [],
   "source": []
  },
  {
   "cell_type": "code",
   "execution_count": null,
   "id": "97a8a87c",
   "metadata": {},
   "outputs": [],
   "source": []
  },
  {
   "cell_type": "code",
   "execution_count": null,
   "id": "8f35d5ed",
   "metadata": {},
   "outputs": [],
   "source": []
  },
  {
   "cell_type": "code",
   "execution_count": null,
   "id": "2fc190a9",
   "metadata": {},
   "outputs": [],
   "source": []
  },
  {
   "cell_type": "code",
   "execution_count": null,
   "id": "2e81eeb4",
   "metadata": {},
   "outputs": [],
   "source": [
    "x\n"
   ]
  },
  {
   "cell_type": "code",
   "execution_count": null,
   "id": "e8632ec1",
   "metadata": {},
   "outputs": [],
   "source": []
  },
  {
   "cell_type": "code",
   "execution_count": null,
   "id": "2c6b39c7",
   "metadata": {},
   "outputs": [],
   "source": [
    "300"
   ]
  },
  {
   "cell_type": "code",
   "execution_count": null,
   "id": "eb71a7d9",
   "metadata": {},
   "outputs": [],
   "source": []
  }
 ],
 "metadata": {
  "kernelspec": {
   "display_name": "myenv",
   "language": "python",
   "name": "python3"
  },
  "language_info": {
   "codemirror_mode": {
    "name": "ipython",
    "version": 3
   },
   "file_extension": ".py",
   "mimetype": "text/x-python",
   "name": "python",
   "nbconvert_exporter": "python",
   "pygments_lexer": "ipython3",
   "version": "3.13.3"
  }
 },
 "nbformat": 4,
 "nbformat_minor": 5
}
