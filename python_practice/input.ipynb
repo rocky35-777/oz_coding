{
 "cells": [
  {
   "metadata": {},
   "cell_type": "markdown",
   "source": "### input",
   "id": "16efec5b703c9c10"
  },
  {
   "metadata": {
    "ExecuteTime": {
     "end_time": "2025-05-19T09:22:54.027181Z",
     "start_time": "2025-05-19T09:22:47.870864Z"
    }
   },
   "cell_type": "code",
   "source": [
    "user = input(\"입력해 주세요 : \")\n",
    "print(user * 2)"
   ],
   "id": "6baf4e913629654d",
   "outputs": [
    {
     "name": "stdout",
     "output_type": "stream",
     "text": [
      "안녕안녕\n"
     ]
    }
   ],
   "execution_count": 1
  },
  {
   "metadata": {
    "ExecuteTime": {
     "end_time": "2025-05-19T09:28:13.691958Z",
     "start_time": "2025-05-19T09:24:28.523719Z"
    }
   },
   "cell_type": "code",
   "source": [
    "user2 = input(\"숫자 하나 입력하세요 : \")\n",
    "print(int(user2) + 10)"
   ],
   "id": "e5e93853285e3964",
   "outputs": [
    {
     "name": "stdout",
     "output_type": "stream",
     "text": [
      "11\n"
     ]
    }
   ],
   "execution_count": 3
  },
  {
   "metadata": {},
   "cell_type": "code",
   "outputs": [],
   "execution_count": null,
   "source": "",
   "id": "78c11518cc06e308"
  },
  {
   "metadata": {},
   "cell_type": "code",
   "outputs": [],
   "execution_count": null,
   "source": "",
   "id": "67b3e229c88f9b7f"
  }
 ],
 "metadata": {},
 "nbformat": 4,
 "nbformat_minor": 5
}
