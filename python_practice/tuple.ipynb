{
 "cells": [
  {
   "metadata": {},
   "cell_type": "markdown",
   "source": "### 튜플 문제",
   "id": "d6c82a9db98b80f2"
  },
  {
   "metadata": {},
   "cell_type": "code",
   "outputs": [],
   "execution_count": null,
   "source": "movie_rank = (\"닥터 스트레인지\", \"스플릿\", \"럭키\")\n",
   "id": "149c63e115aa54ea"
  },
  {
   "metadata": {
    "ExecuteTime": {
     "end_time": "2025-05-19T06:51:20.988324Z",
     "start_time": "2025-05-19T06:51:20.984505Z"
    }
   },
   "cell_type": "code",
   "source": [
    "my_variable = ()\n",
    "print(type(my_variable))"
   ],
   "id": "dd8bc18aa4901553",
   "outputs": [
    {
     "name": "stdout",
     "output_type": "stream",
     "text": [
      "<class 'tuple'>\n"
     ]
    }
   ],
   "execution_count": 1
  },
  {
   "metadata": {
    "ExecuteTime": {
     "end_time": "2025-05-19T06:52:48.077886Z",
     "start_time": "2025-05-19T06:52:48.057877Z"
    }
   },
   "cell_type": "code",
   "source": [
    "my_tuple = (1)\n",
    "print(type(my_tuple))"
   ],
   "id": "4e341dd98693d40f",
   "outputs": [
    {
     "name": "stdout",
     "output_type": "stream",
     "text": [
      "<class 'int'>\n"
     ]
    }
   ],
   "execution_count": 2
  },
  {
   "metadata": {
    "ExecuteTime": {
     "end_time": "2025-05-19T06:53:03.850270Z",
     "start_time": "2025-05-19T06:53:03.848035Z"
    }
   },
   "cell_type": "code",
   "source": [
    "my_tuple1 = (1, )\n",
    "print(type(my_tuple1))"
   ],
   "id": "5a174c71921f73b4",
   "outputs": [
    {
     "name": "stdout",
     "output_type": "stream",
     "text": [
      "<class 'tuple'>\n"
     ]
    }
   ],
   "execution_count": 3
  },
  {
   "metadata": {
    "ExecuteTime": {
     "end_time": "2025-05-19T06:53:57.612947Z",
     "start_time": "2025-05-19T06:53:57.506046Z"
    }
   },
   "cell_type": "code",
   "source": [
    "t = (1, 2, 3)\n",
    "t[0] = 'a'\n",
    "\n",
    "# 튜플은 원소값 수정할 수 없음."
   ],
   "id": "86c62452b2846599",
   "outputs": [
    {
     "ename": "TypeError",
     "evalue": "'tuple' object does not support item assignment",
     "output_type": "error",
     "traceback": [
      "\u001B[31m---------------------------------------------------------------------------\u001B[39m",
      "\u001B[31mTypeError\u001B[39m                                 Traceback (most recent call last)",
      "\u001B[36mCell\u001B[39m\u001B[36m \u001B[39m\u001B[32mIn[6]\u001B[39m\u001B[32m, line 2\u001B[39m\n\u001B[32m      1\u001B[39m t = (\u001B[32m1\u001B[39m, \u001B[32m2\u001B[39m, \u001B[32m3\u001B[39m)\n\u001B[32m----> \u001B[39m\u001B[32m2\u001B[39m \u001B[43mt\u001B[49m\u001B[43m[\u001B[49m\u001B[32;43m0\u001B[39;49m\u001B[43m]\u001B[49m = \u001B[33m'\u001B[39m\u001B[33ma\u001B[39m\u001B[33m'\u001B[39m\n",
      "\u001B[31mTypeError\u001B[39m: 'tuple' object does not support item assignment"
     ]
    }
   ],
   "execution_count": 6
  },
  {
   "metadata": {
    "ExecuteTime": {
     "end_time": "2025-05-19T07:19:53.893507Z",
     "start_time": "2025-05-19T07:19:53.890148Z"
    }
   },
   "cell_type": "code",
   "source": [
    "t = ('A', 'B', 'C')\n",
    "print(type(t))"
   ],
   "id": "1b2fbaeb0f517348",
   "outputs": [
    {
     "name": "stdout",
     "output_type": "stream",
     "text": [
      "<class 'tuple'>\n"
     ]
    }
   ],
   "execution_count": 8
  },
  {
   "metadata": {
    "ExecuteTime": {
     "end_time": "2025-05-19T07:20:29.254407Z",
     "start_time": "2025-05-19T07:20:29.250443Z"
    }
   },
   "cell_type": "code",
   "source": [
    "interest = ('삼성전자', 'LG전자', 'SK Hynix')\n",
    "\n",
    "data = list(interest)\n",
    "print(data)\n",
    "print(type(data))"
   ],
   "id": "bfb806d9ba6d0369",
   "outputs": [
    {
     "name": "stdout",
     "output_type": "stream",
     "text": [
      "['삼성전자', 'LG전자', 'SK Hynix']\n",
      "<class 'list'>\n"
     ]
    }
   ],
   "execution_count": 11
  },
  {
   "metadata": {
    "ExecuteTime": {
     "end_time": "2025-05-19T07:20:59.483660Z",
     "start_time": "2025-05-19T07:20:59.481344Z"
    }
   },
   "cell_type": "code",
   "source": [
    "interest = ['삼성전자', 'LG전자', 'SK Hynix']\n",
    "\n",
    "data = tuple(interest)\n",
    "\n",
    "print(type(data))\n",
    "print(data)"
   ],
   "id": "f8dc1d6fba6b27",
   "outputs": [
    {
     "name": "stdout",
     "output_type": "stream",
     "text": [
      "<class 'tuple'>\n",
      "('삼성전자', 'LG전자', 'SK Hynix')\n"
     ]
    }
   ],
   "execution_count": 13
  },
  {
   "metadata": {
    "ExecuteTime": {
     "end_time": "2025-05-19T07:21:51.347289Z",
     "start_time": "2025-05-19T07:21:51.343658Z"
    }
   },
   "cell_type": "code",
   "source": [
    "temp = ('apple', 'banana', 'cake')\n",
    "a, b, c = temp\n",
    "print(a, b, c)\n",
    "# 언팩킹"
   ],
   "id": "82e7ba41037e9cdf",
   "outputs": [
    {
     "name": "stdout",
     "output_type": "stream",
     "text": [
      "apple banana cake\n"
     ]
    }
   ],
   "execution_count": 14
  },
  {
   "metadata": {
    "ExecuteTime": {
     "end_time": "2025-05-19T07:24:29.771706Z",
     "start_time": "2025-05-19T07:24:29.767420Z"
    }
   },
   "cell_type": "code",
   "source": [
    "(1,2,3,4,5,6,7,8,9,10,11,12,13,14,15,16,17,18,19,20)\n",
    "\n",
    "data = tuple(range(2, 21, 2))\n",
    "print(data)"
   ],
   "id": "c6850a089f9c43ca",
   "outputs": [
    {
     "name": "stdout",
     "output_type": "stream",
     "text": [
      "(2, 4, 6, 8, 10, 12, 14, 16, 18, 20)\n"
     ]
    }
   ],
   "execution_count": 17
  },
  {
   "metadata": {},
   "cell_type": "code",
   "outputs": [],
   "execution_count": null,
   "source": "",
   "id": "27b735bdff0fa15c"
  }
 ],
 "metadata": {},
 "nbformat": 4,
 "nbformat_minor": 5
}
