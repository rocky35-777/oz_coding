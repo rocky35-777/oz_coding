{
 "cells": [
  {
   "cell_type": "markdown",
   "metadata": {},
   "source": [
    "### 복습\n",
    "변수 : 하나의 값을 저장할 수 있는 공간을 생성하는 것    \n",
    "\n",
    "- 변수명을 만들 때 컨벤션  \n",
    "- 변수를 표헌하는 방법 : 스네이크, 카멜  \n",
    "- 변수를 활용해서 다양한 문제 해결  "
   ]
  },
  {
   "cell_type": "markdown",
   "metadata": {},
   "source": [
    "### int, float, srt, bool\n",
    "\n",
    "int (integer) : 정수  \n",
    "float(float) : 실수  \n",
    "str(string) : 문자  \n",
    "bool(bool, boolean) : 참 또는 거짓, true or false, 1 또는 0  \n",
    "\n",
    "list  \n",
    "tuple  \n",
    "dict  \n",
    "set  "
   ]
  },
  {
   "cell_type": "code",
   "execution_count": 1,
   "metadata": {},
   "outputs": [
    {
     "data": {
      "text/plain": [
       "10.0"
      ]
     },
     "execution_count": 1,
     "metadata": {},
     "output_type": "execute_result"
    }
   ],
   "source": [
    "#int 에 대해서 알아보자! \n",
    "\n",
    "# 정수 : 1, 2, 3, 4, -1, -2, -3\n",
    "# 실수 : 1.2, 3.3, 4.0\n",
    "\n",
    "# 정수 + 실수 계산했을 때 실수가 더 크기 때문에 무조건 실수로 값이 출력이 된다. \n",
    "\n",
    "9.0 + 1"
   ]
  },
  {
   "cell_type": "code",
   "execution_count": 2,
   "metadata": {},
   "outputs": [
    {
     "ename": "TypeError",
     "evalue": "can only concatenate str (not \"int\") to str",
     "output_type": "error",
     "traceback": [
      "\u001b[31m---------------------------------------------------------------------------\u001b[39m",
      "\u001b[31mTypeError\u001b[39m                                 Traceback (most recent call last)",
      "\u001b[36mCell\u001b[39m\u001b[36m \u001b[39m\u001b[32mIn[2]\u001b[39m\u001b[32m, line 4\u001b[39m\n\u001b[32m      1\u001b[39m \u001b[38;5;66;03m#box_num 에 숫자만 넣자는 약속을 했다. 누군가 한글 표기법으로 숫자를 넣었다. \u001b[39;00m\n\u001b[32m      3\u001b[39m box_num = \u001b[33m\"\u001b[39m\u001b[33m하나\u001b[39m\u001b[33m\"\u001b[39m\n\u001b[32m----> \u001b[39m\u001b[32m4\u001b[39m \u001b[43mbox_num\u001b[49m\u001b[43m \u001b[49m\u001b[43m+\u001b[49m\u001b[43m=\u001b[49m\u001b[43m \u001b[49m\u001b[32;43m1\u001b[39;49m\n\u001b[32m      6\u001b[39m \u001b[38;5;28mprint\u001b[39m(box_num)\n",
      "\u001b[31mTypeError\u001b[39m: can only concatenate str (not \"int\") to str"
     ]
    }
   ],
   "source": [
    "#box_num 에 숫자만 넣자는 약속을 했다. 누군가 한글 표기법으로 숫자를 넣었다. \n",
    "\n",
    "box_num = \"하나\"\n",
    "box_num += 1\n",
    "\n",
    "print(box_num)"
   ]
  },
  {
   "cell_type": "code",
   "execution_count": 3,
   "metadata": {},
   "outputs": [
    {
     "data": {
      "text/plain": [
       "str"
      ]
     },
     "execution_count": 3,
     "metadata": {},
     "output_type": "execute_result"
    }
   ],
   "source": [
    "type(box_num)"
   ]
  },
  {
   "cell_type": "code",
   "execution_count": 4,
   "metadata": {},
   "outputs": [
    {
     "data": {
      "text/plain": [
       "int"
      ]
     },
     "execution_count": 4,
     "metadata": {},
     "output_type": "execute_result"
    }
   ],
   "source": [
    "type(1)"
   ]
  },
  {
   "cell_type": "code",
   "execution_count": 5,
   "metadata": {},
   "outputs": [
    {
     "data": {
      "text/plain": [
       "float"
      ]
     },
     "execution_count": 5,
     "metadata": {},
     "output_type": "execute_result"
    }
   ],
   "source": [
    "type(1.2)"
   ]
  },
  {
   "cell_type": "code",
   "execution_count": null,
   "metadata": {},
   "outputs": [
    {
     "data": {
      "text/plain": [
       "2.0"
      ]
     },
     "execution_count": 6,
     "metadata": {},
     "output_type": "execute_result"
    }
   ],
   "source": [
    "4 / 2 # 정수 2여야 하는데 실수가 더 커서 실수 값을 따라간다. 2.0 으로 출력됨. \n"
   ]
  },
  {
   "cell_type": "markdown",
   "metadata": {},
   "source": [
    "# 형변환 : 형태를 변환한다. \n",
    "# int, float\n",
    "\n",
    "int -> float \n",
    "예) 5 -> 5.0 float(5)   "
   ]
  },
  {
   "cell_type": "code",
   "execution_count": 8,
   "metadata": {},
   "outputs": [
    {
     "name": "stdout",
     "output_type": "stream",
     "text": [
      "5.0\n",
      "5\n"
     ]
    }
   ],
   "source": [
    "print(float(5))\n",
    "print(int(5.0))"
   ]
  },
  {
   "cell_type": "code",
   "execution_count": 10,
   "metadata": {},
   "outputs": [
    {
     "name": "stdout",
     "output_type": "stream",
     "text": [
      "['__abs__', '__add__', '__and__', '__bool__', '__ceil__', '__class__', '__delattr__', '__dir__', '__divmod__', '__doc__', '__eq__', '__float__', '__floor__', '__floordiv__', '__format__', '__ge__', '__getattribute__', '__getnewargs__', '__getstate__', '__gt__', '__hash__', '__index__', '__init__', '__init_subclass__', '__int__', '__invert__', '__le__', '__lshift__', '__lt__', '__mod__', '__mul__', '__ne__', '__neg__', '__new__', '__or__', '__pos__', '__pow__', '__radd__', '__rand__', '__rdivmod__', '__reduce__', '__reduce_ex__', '__repr__', '__rfloordiv__', '__rlshift__', '__rmod__', '__rmul__', '__ror__', '__round__', '__rpow__', '__rrshift__', '__rshift__', '__rsub__', '__rtruediv__', '__rxor__', '__setattr__', '__sizeof__', '__str__', '__sub__', '__subclasshook__', '__truediv__', '__trunc__', '__xor__', 'as_integer_ratio', 'bit_count', 'bit_length', 'conjugate', 'denominator', 'from_bytes', 'imag', 'is_integer', 'numerator', 'real', 'to_bytes']\n"
     ]
    }
   ],
   "source": [
    "나이 = 10\n",
    "type(나이)\n",
    "\n",
    "print(dir(나이)) # dir은 어떤 객체가 가지고 있는 속성과 메서드를 보여주는 함수 = 이 객체가 뭘 할 수 있는지 알려줘!"
   ]
  },
  {
   "cell_type": "code",
   "execution_count": 12,
   "metadata": {},
   "outputs": [
    {
     "name": "stdout",
     "output_type": "stream",
     "text": [
      "2\n",
      "0b1010\n"
     ]
    }
   ],
   "source": [
    "print(나이.bit_count()) \n",
    "print(bin(나이))"
   ]
  },
  {
   "cell_type": "markdown",
   "metadata": {},
   "source": [
    "## 자습\n",
    "\n",
    "메소드 / 내장 함수 / 함수 를 설명할 수 있도록 기록하기! "
   ]
  },
  {
   "cell_type": "code",
   "execution_count": null,
   "metadata": {},
   "outputs": [],
   "source": []
  }
 ],
 "metadata": {
  "kernelspec": {
   "display_name": "Python 3",
   "language": "python",
   "name": "python3"
  },
  "language_info": {
   "codemirror_mode": {
    "name": "ipython",
    "version": 3
   },
   "file_extension": ".py",
   "mimetype": "text/x-python",
   "name": "python",
   "nbconvert_exporter": "python",
   "pygments_lexer": "ipython3",
   "version": "3.12.6"
  }
 },
 "nbformat": 4,
 "nbformat_minor": 2
}
