{
 "cells": [
  {
   "cell_type": "markdown",
   "metadata": {},
   "source": [
    "### int, float, srt, bool\n",
    "\n",
    "int (integer) : 정수  \n",
    "float(float) : 실수  \n",
    "str(string) : 문자  \n",
    "bool(bool, boolean) : 참 또는 거짓, true or false, 1 또는 0  \n",
    "\n",
    "list  \n",
    "tuple  \n",
    "dict  \n",
    "set  "
   ]
  },
  {
   "cell_type": "code",
   "execution_count": 5,
   "metadata": {},
   "outputs": [
    {
     "data": {
      "text/plain": [
       "True"
      ]
     },
     "execution_count": 5,
     "metadata": {},
     "output_type": "execute_result"
    }
   ],
   "source": [
    "# bool의 쇼타임!\n",
    "# 주의할 점 Ture * true false * false\n",
    "# 부등호 \n",
    "\n",
    "3 > 1\n",
    "3 == 1\n",
    "3 == 3\n",
    "\n",
    "20 != 5 # 같지 않다.\n"
   ]
  },
  {
   "cell_type": "code",
   "execution_count": 7,
   "metadata": {},
   "outputs": [
    {
     "data": {
      "text/plain": [
       "True"
      ]
     },
     "execution_count": 7,
     "metadata": {},
     "output_type": "execute_result"
    }
   ],
   "source": [
    "# 문자열 비교 \n",
    "\n",
    "\"python\" == \"Python\"\n",
    "\"python\" != \"Python\" # 같지 않다\n"
   ]
  },
  {
   "cell_type": "code",
   "execution_count": 8,
   "metadata": {},
   "outputs": [
    {
     "data": {
      "text/plain": [
       "True"
      ]
     },
     "execution_count": 8,
     "metadata": {},
     "output_type": "execute_result"
    }
   ],
   "source": [
    "# 부등호\n",
    "\n",
    "4 <= 5"
   ]
  },
  {
   "cell_type": "code",
   "execution_count": 14,
   "metadata": {},
   "outputs": [
    {
     "name": "stdout",
     "output_type": "stream",
     "text": [
      "4395077296\n",
      "4324516272\n"
     ]
    },
    {
     "name": "stderr",
     "output_type": "stream",
     "text": [
      "<>:4: SyntaxWarning: \"is\" with 'int' literal. Did you mean \"==\"?\n",
      "<>:7: SyntaxWarning: \"is\" with 'float' literal. Did you mean \"==\"?\n",
      "<>:4: SyntaxWarning: \"is\" with 'int' literal. Did you mean \"==\"?\n",
      "<>:7: SyntaxWarning: \"is\" with 'float' literal. Did you mean \"==\"?\n",
      "/var/folders/9q/lcjljqbn4pq0vqtjr38cjp_m0000gn/T/ipykernel_21915/3247299801.py:4: SyntaxWarning: \"is\" with 'int' literal. Did you mean \"==\"?\n",
      "  3 is 3\n",
      "/var/folders/9q/lcjljqbn4pq0vqtjr38cjp_m0000gn/T/ipykernel_21915/3247299801.py:7: SyntaxWarning: \"is\" with 'float' literal. Did you mean \"==\"?\n",
      "  3.0 is 3\n"
     ]
    }
   ],
   "source": [
    "# 중요 \n",
    "# ==, is\n",
    "\n",
    "3 is 3\n",
    "3 == 3\n",
    "\n",
    "3.0 is 3\n",
    "3.0 == 3\n",
    "\n",
    "print(id(3.0))\n",
    "print(id(3))\n"
   ]
  },
  {
   "cell_type": "markdown",
   "metadata": {},
   "source": [
    "## 미션\n",
    "\n",
    "값 비교에서 is를 쓰면 안되는데 그 이유를 찾아서 기술 블로그에 작성해 보세요. \n",
    "\n"
   ]
  },
  {
   "cell_type": "code",
   "execution_count": 19,
   "metadata": {},
   "outputs": [
    {
     "data": {
      "text/plain": [
       "False"
      ]
     },
     "execution_count": 19,
     "metadata": {},
     "output_type": "execute_result"
    }
   ],
   "source": [
    "# 논리연산자\n",
    "# True : 1 / False : 0 \n",
    "\n",
    "True and True # 1 * 1 = 1\n",
    "True and False # 1 * 0 = 0\n",
    "False and True # 0 * 1 = 0\n",
    "False and False # 0 * 0 = 0"
   ]
  },
  {
   "cell_type": "code",
   "execution_count": 23,
   "metadata": {},
   "outputs": [
    {
     "data": {
      "text/plain": [
       "False"
      ]
     },
     "execution_count": 23,
     "metadata": {},
     "output_type": "execute_result"
    }
   ],
   "source": [
    "# 논리연산자\n",
    "# True : 1 / False : 0 \n",
    "\n",
    "True or True # 1 + 1 = 1\n",
    "True or False  # 1 + 0 = 1\n",
    "False or True # 0 * 1 = 1\n",
    "False or False # 0 * 0 = 0"
   ]
  },
  {
   "cell_type": "code",
   "execution_count": 25,
   "metadata": {},
   "outputs": [
    {
     "data": {
      "text/plain": [
       "True"
      ]
     },
     "execution_count": 25,
     "metadata": {},
     "output_type": "execute_result"
    }
   ],
   "source": [
    "# not\n",
    "\n",
    "not True\n",
    "\n",
    "not False"
   ]
  },
  {
   "cell_type": "code",
   "execution_count": 28,
   "metadata": {},
   "outputs": [
    {
     "data": {
      "text/plain": [
       "False"
      ]
     },
     "execution_count": 28,
     "metadata": {},
     "output_type": "execute_result"
    }
   ],
   "source": [
    "# 점점 복잡해지는 조건들!!\n",
    "\n",
    "# 10 == 12 or 6 != 2 # true\n",
    "# 2 > 5 and 7 == 7 # false\n",
    "not 14 <= 15 # False\n",
    "# not 7 is 7.0  # true"
   ]
  },
  {
   "cell_type": "code",
   "execution_count": 30,
   "metadata": {},
   "outputs": [
    {
     "data": {
      "text/plain": [
       "True"
      ]
     },
     "execution_count": 30,
     "metadata": {},
     "output_type": "execute_result"
    }
   ],
   "source": [
    "# 문자열?? 너 뭐야 True 트루야?\n",
    "\n",
    "bool(\"힘들어요\")"
   ]
  },
  {
   "cell_type": "code",
   "execution_count": 32,
   "metadata": {},
   "outputs": [
    {
     "name": "stdout",
     "output_type": "stream",
     "text": [
      "False\n",
      "False\n"
     ]
    }
   ],
   "source": [
    "# 아주아주 중요한 내용 \n",
    "# 단락 평가\n",
    "\n",
    "print(False and True)\n",
    "print(False and \"힘들어요\")"
   ]
  },
  {
   "cell_type": "code",
   "execution_count": null,
   "metadata": {},
   "outputs": [],
   "source": []
  }
 ],
 "metadata": {
  "kernelspec": {
   "display_name": "Python 3",
   "language": "python",
   "name": "python3"
  },
  "language_info": {
   "codemirror_mode": {
    "name": "ipython",
    "version": 3
   },
   "file_extension": ".py",
   "mimetype": "text/x-python",
   "name": "python",
   "nbconvert_exporter": "python",
   "pygments_lexer": "ipython3",
   "version": "3.12.6"
  }
 },
 "nbformat": 4,
 "nbformat_minor": 2
}
