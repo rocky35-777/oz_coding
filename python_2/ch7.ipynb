{
 "cells": [
  {
   "cell_type": "markdown",
   "metadata": {},
   "source": [
    "### int, float, srt, bool\n",
    "\n",
    "int (integer) : 정수  \n",
    "float(float) : 실수  \n",
    "str(string) : 문자  \n",
    "bool(bool, boolean) : 참 또는 거짓, true or false, 1 또는 0  \n",
    "\n",
    "list  \n",
    "tuple  \n",
    "dict  \n",
    "set  "
   ]
  },
  {
   "cell_type": "code",
   "execution_count": 7,
   "metadata": {},
   "outputs": [],
   "source": [
    "이름 = \"록키\"\n",
    "나이 = 20\n",
    "키 = 165.3\n",
    "소속 = \"넷플릭스코리아\""
   ]
  },
  {
   "cell_type": "code",
   "execution_count": 2,
   "metadata": {},
   "outputs": [
    {
     "name": "stdout",
     "output_type": "stream",
     "text": [
      "<class 'str'>\n",
      "<class 'int'>\n",
      "<class 'float'>\n",
      "<class 'str'>\n"
     ]
    }
   ],
   "source": [
    "print(type(이름))\n",
    "print(type(나이))\n",
    "print(type(키))\n",
    "print(type(소속))"
   ]
  },
  {
   "cell_type": "markdown",
   "metadata": {},
   "source": [
    "## 시퀀스 자료형 \n",
    "\n",
    "시퀀스란?  \n",
    "요소들이 연속적으로 이어진 자료형 값. 하나하나를 요소라고 한다.  \n",
    "\n",
    "str : 문자열\n",
    "특징 : 시퀀스 자료형"
   ]
  },
  {
   "cell_type": "code",
   "execution_count": 6,
   "metadata": {},
   "outputs": [
    {
     "name": "stdout",
     "output_type": "stream",
     "text": [
      "넷플릭스코리아 아시아사업부\n",
      "넷\n",
      "릭\n",
      "스\n",
      "코\n",
      "리\n",
      "아\n"
     ]
    }
   ],
   "source": [
    "print(소속)\n",
    "print(소속[0])\n",
    "print(소속[2])\n",
    "print(소속[3])\n",
    "print(소속[4])\n",
    "print(소속[5])\n",
    "print(소속[6])\n",
    "\n",
    "\n",
    "# 0은 인덱스라고 한다. 0부터 시작한다. "
   ]
  },
  {
   "cell_type": "code",
   "execution_count": 10,
   "metadata": {},
   "outputs": [
    {
     "data": {
      "text/plain": [
       "False"
      ]
     },
     "execution_count": 10,
     "metadata": {},
     "output_type": "execute_result"
    }
   ],
   "source": [
    "\"넷\" in 소속\n",
    "\"3\" in 소속"
   ]
  },
  {
   "cell_type": "code",
   "execution_count": 13,
   "metadata": {},
   "outputs": [
    {
     "data": {
      "text/plain": [
       "'13금요일'"
      ]
     },
     "execution_count": 13,
     "metadata": {},
     "output_type": "execute_result"
    }
   ],
   "source": [
    "# 문자열 즉 시퀀스 끼리 합치기 \n",
    "\n",
    "\"13\" + \"금요일\""
   ]
  },
  {
   "cell_type": "code",
   "execution_count": 17,
   "metadata": {},
   "outputs": [
    {
     "name": "stdout",
     "output_type": "stream",
     "text": [
      "바니바니 당근당근바니바니 당근당근바니바니 당근당근바니바니 당근당근바니바니 당근당근바니바니 당근당근바니바니 당근당근바니바니 당근당근바니바니 당근당근바니바니 당근당근바니바니 당근당근바니바니 당근당근바니바니 당근당근바니바니 당근당근바니바니 당근당근바니바니 당근당근바니바니 당근당근바니바니 당근당근바니바니 당근당근바니바니 당근당근\n"
     ]
    },
    {
     "data": {
      "text/plain": [
       "180"
      ]
     },
     "execution_count": 17,
     "metadata": {},
     "output_type": "execute_result"
    }
   ],
   "source": [
    "# 복사가 가능하다. \n",
    "\n",
    "옛날게임 = \"바니바니 당근당근\" * 20\n",
    "\n",
    "print(옛날게임)\n",
    "\n",
    "len(옛날게임) #글자수 메서드"
   ]
  },
  {
   "cell_type": "code",
   "execution_count": 21,
   "metadata": {},
   "outputs": [
    {
     "name": "stdout",
     "output_type": "stream",
     "text": [
      "려하고 존\n"
     ]
    },
    {
     "data": {
      "text/plain": [
       "'자'"
      ]
     },
     "execution_count": 21,
     "metadata": {},
     "output_type": "execute_result"
    }
   ],
   "source": [
    "가훈 = \"서로 배려하고 존중하고 사랑하자\"\n",
    "print(가훈[4:9])\n",
    "len(가훈)\n",
    "가훈[-1]"
   ]
  },
  {
   "cell_type": "code",
   "execution_count": 25,
   "metadata": {},
   "outputs": [
    {
     "name": "stdout",
     "output_type": "stream",
     "text": [
      "2000.12.25\n",
      "['__add__', '__class__', '__contains__', '__delattr__', '__dir__', '__doc__', '__eq__', '__format__', '__ge__', '__getattribute__', '__getitem__', '__getnewargs__', '__getstate__', '__gt__', '__hash__', '__init__', '__init_subclass__', '__iter__', '__le__', '__len__', '__lt__', '__mod__', '__mul__', '__ne__', '__new__', '__reduce__', '__reduce_ex__', '__repr__', '__rmod__', '__rmul__', '__setattr__', '__sizeof__', '__str__', '__subclasshook__', 'capitalize', 'casefold', 'center', 'count', 'encode', 'endswith', 'expandtabs', 'find', 'format', 'format_map', 'index', 'isalnum', 'isalpha', 'isascii', 'isdecimal', 'isdigit', 'isidentifier', 'islower', 'isnumeric', 'isprintable', 'isspace', 'istitle', 'isupper', 'join', 'ljust', 'lower', 'lstrip', 'maketrans', 'partition', 'removeprefix', 'removesuffix', 'replace', 'rfind', 'rindex', 'rjust', 'rpartition', 'rsplit', 'rstrip', 'split', 'splitlines', 'startswith', 'strip', 'swapcase', 'title', 'translate', 'upper', 'zfill']\n",
      "2000 12 25\n"
     ]
    }
   ],
   "source": [
    "생년월일 = \"2000.12.25\"\n",
    "\n",
    "#출력은 2000 12 25 로 하기 \n",
    "\n",
    "print(생년월일)\n",
    "print(dir(생년월일))\n",
    "\n",
    "print(생년월일.replace(\".\", \" \"))"
   ]
  },
  {
   "cell_type": "code",
   "execution_count": 2,
   "metadata": {},
   "outputs": [
    {
     "name": "stdout",
     "output_type": "stream",
     "text": [
      "2000 12 25\n"
     ]
    }
   ],
   "source": [
    "생년월일 = \"2000.12.25\"\n",
    "\n",
    "년 = 생년월일[0:4]\n",
    "월 = 생년월일[5:7]\n",
    "일 = 생년월일[8:10]\n",
    "\n",
    "print(f'{년} {월} {일}')"
   ]
  },
  {
   "cell_type": "code",
   "execution_count": 18,
   "metadata": {},
   "outputs": [
    {
     "name": "stdout",
     "output_type": "stream",
     "text": [
      "123456789\n",
      "987654321\n",
      "13579\n",
      "\n",
      "543\n",
      "43\n",
      "6543\n"
     ]
    }
   ],
   "source": [
    "숫자 = \"123456789\"\n",
    "\n",
    "#전체출력하기 \n",
    "\n",
    "print(숫자[::])\n",
    "\n",
    "# 거꾸로 출력하기 \n",
    "print(숫자[::-1]) # 요소 순서랑 간격을 결정하는 요인 -1\n",
    "\n",
    "# 첫번째 인덱스 기준으로 2칸씩 띄어쓰기 출력하기\n",
    "print(숫자[::2])\n",
    "\n",
    "print(숫자[4:1]) #반대로 가는 -1 입력하지 않으면 아무것도 출력 안됨.\n",
    "print(숫자[4:1:-1])\n",
    "print(숫자[3:1:-1])\n",
    "print(숫자[5:1:-1]) #왜? 숫자가 이렇게 출력되는거지? 시작하는 숫자는 알겠는데 이후 나열되는 숫자는 왜???\n"
   ]
  },
  {
   "cell_type": "code",
   "execution_count": 26,
   "metadata": {},
   "outputs": [
    {
     "name": "stdout",
     "output_type": "stream",
     "text": [
      "어중이떠중이\n"
     ]
    }
   ],
   "source": [
    "퀴즈 = \"스님이 공중에 뜬다를 4글자로 말하면? 어중이떠중이\"\n",
    "\n",
    "len(퀴즈)\n",
    "퀴즈.index(\"어중이떠중이\")\n",
    "\n",
    "print(퀴즈[22:28])"
   ]
  },
  {
   "cell_type": "code",
   "execution_count": 21,
   "metadata": {},
   "outputs": [
    {
     "data": {
      "text/plain": [
       "2"
      ]
     },
     "execution_count": 21,
     "metadata": {},
     "output_type": "execute_result"
    }
   ],
   "source": [
    "과일 = \"apple\"\n",
    "\n",
    "과일.count(\"p\")"
   ]
  },
  {
   "cell_type": "code",
   "execution_count": 1,
   "metadata": {},
   "outputs": [
    {
     "ename": "NameError",
     "evalue": "name '과일' is not defined",
     "output_type": "error",
     "traceback": [
      "\u001b[31m---------------------------------------------------------------------------\u001b[39m",
      "\u001b[31mNameError\u001b[39m                                 Traceback (most recent call last)",
      "\u001b[36mCell\u001b[39m\u001b[36m \u001b[39m\u001b[32mIn[1]\u001b[39m\u001b[32m, line 1\u001b[39m\n\u001b[32m----> \u001b[39m\u001b[32m1\u001b[39m \u001b[43m과일\u001b[49m[\u001b[32m2\u001b[39m]\n\u001b[32m      2\u001b[39m 과일.index(\u001b[33m\"\u001b[39m\u001b[33mp\u001b[39m\u001b[33m\"\u001b[39m)\n",
      "\u001b[31mNameError\u001b[39m: name '과일' is not defined"
     ]
    }
   ],
   "source": [
    "과일[2]\n",
    "과일.index(\"p\")"
   ]
  },
  {
   "cell_type": "code",
   "execution_count": 33,
   "metadata": {},
   "outputs": [
    {
     "data": {
      "text/plain": [
       "25"
      ]
     },
     "execution_count": 33,
     "metadata": {},
     "output_type": "execute_result"
    }
   ],
   "source": [
    "퀴즈.index(\"떠중이\")"
   ]
  },
  {
   "cell_type": "code",
   "execution_count": null,
   "metadata": {},
   "outputs": [],
   "source": [
    "#과제하기 \n",
    "\n",
    "라라랜드 = \"사람들은 다른 사람들의 열정에 끌리게 되어있어~ 자신이 잊은 걸 상기시켜 주니까!\""
   ]
  }
 ],
 "metadata": {
  "kernelspec": {
   "display_name": "Python 3",
   "language": "python",
   "name": "python3"
  },
  "language_info": {
   "codemirror_mode": {
    "name": "ipython",
    "version": 3
   },
   "file_extension": ".py",
   "mimetype": "text/x-python",
   "name": "python",
   "nbconvert_exporter": "python",
   "pygments_lexer": "ipython3",
   "version": "3.12.6"
  }
 },
 "nbformat": 4,
 "nbformat_minor": 2
}
