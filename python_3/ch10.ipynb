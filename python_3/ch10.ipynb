{
 "cells": [
  {
   "cell_type": "markdown",
   "metadata": {},
   "source": [
    "#### list 리스트\n",
    "\n",
    "원소들이 연속적으로 저장되는 형태의 자료형이다.  \n",
    "\n",
    "시퀀스 자료형!  \n",
    "str(정복), list(정복 예정), tuple, dict, set  \n",
    "\n",
    "만드는 방법은 쉬운데 만들고 나서가 문제...  \n",
    "\n",
    "\n",
    "대괄호로 묶고, 그 안에 값들은 콤마 (,) 로 구분한다.   "
   ]
  },
  {
   "cell_type": "code",
   "execution_count": 1,
   "metadata": {},
   "outputs": [
    {
     "name": "stdout",
     "output_type": "stream",
     "text": [
      "[]\n"
     ]
    }
   ],
   "source": [
    "# 첫 리스트 두근두근\n",
    "\n",
    "리스트 = []\n",
    "print(리스트)"
   ]
  },
  {
   "cell_type": "code",
   "execution_count": 2,
   "metadata": {},
   "outputs": [
    {
     "name": "stdout",
     "output_type": "stream",
     "text": [
      "[23, '이게 리스트다', 3.23, True, False]\n"
     ]
    }
   ],
   "source": [
    "리스트 = [23, \"이게 리스트다\", 3.23, True, False]\n",
    "print(리스트)"
   ]
  },
  {
   "cell_type": "code",
   "execution_count": 4,
   "metadata": {},
   "outputs": [
    {
     "name": "stdout",
     "output_type": "stream",
     "text": [
      "['이', '렇', '게', '만', '들', '어', '요']\n"
     ]
    }
   ],
   "source": [
    "리스트 = [\"이\", \"렇\", \"게\", \"만\", \"들\", \"어\", \"요\"]\n",
    "print(리스트)"
   ]
  },
  {
   "cell_type": "code",
   "execution_count": 5,
   "metadata": {},
   "outputs": [
    {
     "data": {
      "text/plain": [
       "[]"
      ]
     },
     "execution_count": 5,
     "metadata": {},
     "output_type": "execute_result"
    }
   ],
   "source": [
    "리스트2 = list()\n",
    "리스트2"
   ]
  },
  {
   "cell_type": "code",
   "execution_count": 14,
   "metadata": {},
   "outputs": [
    {
     "data": {
      "text/plain": [
       "[0, 1, 2, 3, 4, 5, 6, 7, 8, 9, 10, 11, 12, 13, 14, 15, 16, 17, 18, 19, 20]"
      ]
     },
     "execution_count": 14,
     "metadata": {},
     "output_type": "execute_result"
    }
   ],
   "source": [
    "# range 연속된 숫자를 생산하는 기능\n",
    "range(10)\n",
    "\n",
    "# list(range(시작, 끝)))\n",
    "리스트_매직 = list(range(0, 21))\n",
    "리스트_매직"
   ]
  },
  {
   "cell_type": "code",
   "execution_count": 23,
   "metadata": {},
   "outputs": [
    {
     "name": "stdout",
     "output_type": "stream",
     "text": [
      "[0, 2, 4, 6, 8, 10, 12, 14, 16, 18, 20]\n",
      "[20, 19, 18, 17, 16, 15, 14, 13, 12, 11, 10, 9, 8, 7, 6, 5, 4, 3, 2, 1]\n",
      "[]\n"
     ]
    }
   ],
   "source": [
    "# list(range(시작, 끝, 증가))\n",
    "\n",
    "리스트_매직2 = list(range(0, 21, 2))\n",
    "print(리스트_매직2)\n",
    "\n",
    "리스트_매직3 = list(range(20, 0, -1))\n",
    "print(리스트_매직3)\n",
    "\n",
    "리스트_매직4 = list(range(20, 0))\n",
    "print(리스트_매직4)\n",
    "# 리스트_매직4 = list(range(0, 21, 2))\n"
   ]
  },
  {
   "cell_type": "code",
   "execution_count": 26,
   "metadata": {},
   "outputs": [
    {
     "name": "stdout",
     "output_type": "stream",
     "text": [
      "들 어 가\n",
      "7 7 8\n",
      "10000 2장, 5000 3장, 1000 1장\n"
     ]
    }
   ],
   "source": [
    "# 리스트를 이용해 변수에 값 넣기\n",
    "\n",
    "a, b, c = [\"들\", \"어\", \"가\"]\n",
    "print(a, b, c)\n",
    "\n",
    "d, e, f = [7, 7, 8]\n",
    "print(d, e, f)\n",
    "\n",
    "지갑 = [10000, 5000, 1000]\n",
    "만원, 오천원, 천원 = 지갑\n",
    "print(f\"{만원} 2장, {오천원} 3장, {천원} 1장\")"
   ]
  },
  {
   "cell_type": "code",
   "execution_count": null,
   "metadata": {},
   "outputs": [],
   "source": [
    "input().split() # 아무것도 입력안하면 띄어쓰기로 나눈다. \n",
    "# 리스트 패킹, 리스트 언패킹 개념 알기 \n",
    "\n"
   ]
  },
  {
   "cell_type": "markdown",
   "metadata": {},
   "source": [
    "#### 로또 문제 풀기\n",
    "\n",
    "로또 = [3, 5, 15, 33, 41, 44]\n",
    "\n",
    "# 로또 변수에 있는 리스트의 인데스 1번부터 2번까지의 값을 출력해줘.\n",
    "\n",
    "# 로또 변수에 마지막 위치 출력해줘. \n",
    "\n",
    "# 반대로 출력해 보세요. \n",
    "\n",
    "# 로또 리스트안에 33이 있는지 확인해 보세요. \n",
    "\n",
    "# 로또 리스트를 로또2 리스트와 합쳐보세요. \n",
    "\n",
    "# range를 이용해서 1부터 10사이에 짝수만 들어있는 짝수(변수명) 리스트를 만들어 주세요. \n",
    "\n",
    "# 짝수 리스트에 들어있는 값을 2배 늘리고 다시 짝수 변수에 담아줘. \n",
    "\n",
    "# 짝수 리스트에 들어있는 요소의 개수를 구해주세요. \n",
    "\n",
    "# 짝수 리스트에 3번째 인데스를 출력해 주세요. \n",
    "\n",
    "# len() 함수를 이용해 인데스 마지막 값을 출력해 주세요. "
   ]
  },
  {
   "cell_type": "code",
   "execution_count": 12,
   "metadata": {},
   "outputs": [
    {
     "name": "stdout",
     "output_type": "stream",
     "text": [
      "[5, 15]\n",
      "44\n",
      "[44, 41, 33, 15, 5, 3]\n",
      "True\n",
      "[3, 5, 15, 33, 41, 44, 2, 12, 15, 24, 33, 39]\n",
      "[2, 4, 6, 8, 10]\n",
      "[2, 4, 6, 8, 10, 2, 4, 6, 8, 10]\n",
      "10\n",
      "8\n",
      "10\n"
     ]
    }
   ],
   "source": [
    "로또 = [3, 5, 15, 33, 41, 44]\n",
    "\n",
    "# 로또 변수에 있는 리스트의 인데스 1번부터 2번까지의 값을 출력해줘.\n",
    "len(로또)\n",
    "print(로또[1:3]) #슬라이싱으로 해결\n",
    "\n",
    "# 로또 변수에 마지막 위치 출력해줘.\n",
    "print(로또[-1]) \n",
    "\n",
    "# 반대로 출력해 보세요. \n",
    "print(로또[::-1])\n",
    "\n",
    "# 로또 리스트안에 33이 있는지 확인해 보세요. \n",
    "# 로또.index(33) # 다른 방법은 없을까? if? \n",
    "print(33 in 로또) #시퀀스\n",
    "\n",
    "# 로또 리스트를 로또2 리스트와 합쳐보세요. \n",
    "로또2 = [2, 12, 15, 24, 33, 39]\n",
    "\n",
    "# print(로또, 로또2)\n",
    "# print(로또, end = \"\")\n",
    "# print(로또2)\n",
    "print(로또 + 로또2)\n",
    "\n",
    "# range를 이용해서 1부터 10사이에 짝수만 들어있는 짝수(변수명) 리스트를 만들어 주세요. \n",
    "짝수 = list(range(2, 12, 2))\n",
    "print(짝수)\n",
    "\n",
    "# 짝수 리스트에 들어있는 값을 2배 늘리고 다시 짝수 변수에 담아줘. \n",
    "짝수 = 짝수 * 2\n",
    "print(짝수)\n",
    "\n",
    "# 짝수 리스트에 들어있는 요소의 개수를 구해주세요. \n",
    "print(len(짝수))\n",
    "\n",
    "# 짝수 리스트에 3번째 인데스를 출력해 주세요. \n",
    "print(짝수[3])\n",
    "\n",
    "# len() 함수를 이용해 인데스 마지막 값을 출력해 주세요. \n",
    "print(짝수[len(짝수)-1])\n"
   ]
  },
  {
   "cell_type": "code",
   "execution_count": 20,
   "metadata": {},
   "outputs": [
    {
     "name": "stdout",
     "output_type": "stream",
     "text": [
      "['마라', '핫도그', '탕후루', '쌀국수', '고수']\n",
      "['마라', '뷔폐', '핫도그', '탕후루', '쌀국수', '고수']\n",
      "['마라', '뷔폐', '핫도그', '탕후루', '쌀국수']\n",
      "['마라', '핫도그', '탕후루', '쌀국수']\n",
      "['마라', '핫도그', '양꼬치', '쌀국수']\n"
     ]
    }
   ],
   "source": [
    "# list 값 넣고, 바꾸고, 지우고 \n",
    "\n",
    "mzfood = [\"마라\", \"핫도그\", \"탕후루\", \"쌀국수\"]\n",
    "\n",
    "# 값을 넣는 방법 2가지 : append(): 마지막 요소에 값을 넣어, insert() ; 원하는 곳에 값을 넣어요.\n",
    "\n",
    "mzfood.append(\"고수\")\n",
    "print(mzfood)\n",
    "\n",
    "mzfood.insert(1, \"뷔폐\")\n",
    "print(mzfood)\n",
    "\n",
    "# 값 지우고 \n",
    "del mzfood[-1] # 가장 마지막 값 지우기\n",
    "print(mzfood)\n",
    "\n",
    "del mzfood[1]\n",
    "print(mzfood)\n",
    "\n",
    "# 값 바꾸기\n",
    "mzfood[-2] = \"양꼬치\"\n",
    "print(mzfood)"
   ]
  },
  {
   "cell_type": "code",
   "execution_count": null,
   "metadata": {},
   "outputs": [
    {
     "ename": "TypeError",
     "evalue": "'str' object does not support item assignment",
     "output_type": "error",
     "traceback": [
      "\u001b[31m---------------------------------------------------------------------------\u001b[39m",
      "\u001b[31mTypeError\u001b[39m                                 Traceback (most recent call last)",
      "\u001b[36mCell\u001b[39m\u001b[36m \u001b[39m\u001b[32mIn[21]\u001b[39m\u001b[32m, line 4\u001b[39m\n\u001b[32m      1\u001b[39m \u001b[38;5;66;03m# 문자열 시퀀스 아니냐 그럼 저거다 될 듯\u001b[39;00m\n\u001b[32m      3\u001b[39m 인사 = \u001b[33m\"\u001b[39m\u001b[33m반가워\u001b[39m\u001b[33m\"\u001b[39m\n\u001b[32m----> \u001b[39m\u001b[32m4\u001b[39m \u001b[43m인사\u001b[49m\u001b[43m[\u001b[49m\u001b[32;43m2\u001b[39;49m\u001b[43m]\u001b[49m = \u001b[33m\"\u001b[39m\u001b[33m웡\u001b[39m\u001b[33m\"\u001b[39m\n",
      "\u001b[31mTypeError\u001b[39m: 'str' object does not support item assignment"
     ]
    }
   ],
   "source": [
    "# 문자열 시퀀스 아니냐 그럼 저거다 될 듯\n",
    "\n",
    "인사 = \"반가워\"\n",
    "인사[2] = \"웡\" # 문자열엔 쓸 수 없음"
   ]
  },
  {
   "cell_type": "code",
   "execution_count": null,
   "metadata": {},
   "outputs": [
    {
     "name": "stdout",
     "output_type": "stream",
     "text": [
      "['__add__', '__class__', '__class_getitem__', '__contains__', '__delattr__', '__delitem__', '__dir__', '__doc__', '__eq__', '__format__', '__ge__', '__getattribute__', '__getitem__', '__getstate__', '__gt__', '__hash__', '__iadd__', '__imul__', '__init__', '__init_subclass__', '__iter__', '__le__', '__len__', '__lt__', '__mul__', '__ne__', '__new__', '__reduce__', '__reduce_ex__', '__repr__', '__reversed__', '__rmul__', '__setattr__', '__setitem__', '__sizeof__', '__str__', '__subclasshook__', 'append', 'clear', 'copy', 'count', 'extend', 'index', 'insert', 'pop', 'remove', 'reverse', 'sort']\n"
     ]
    }
   ],
   "source": [
    "print(dir(list)) # 많이 활용할 수 있도록 하기 "
   ]
  },
  {
   "cell_type": "code",
   "execution_count": null,
   "metadata": {},
   "outputs": [
    {
     "name": "stdout",
     "output_type": "stream",
     "text": [
      "['쌀국수', '양꼬치', '핫도그', '마라']\n",
      "['마라', '핫도그', '양꼬치', '쌀국수']\n",
      "['마라', '쌀국수', '양꼬치', '핫도그']\n"
     ]
    }
   ],
   "source": [
    "print(mzfood)\n",
    "\n",
    "mzfood.reverse()\n",
    "print(mzfood) # 순서 바꾸기 (역순)\n",
    "\n",
    "mzfood.sort() # ㄱ,ㄴ,ㄷ 순\n",
    "print(mzfood)\n",
    "\n"
   ]
  },
  {
   "cell_type": "code",
   "execution_count": null,
   "metadata": {},
   "outputs": [
    {
     "name": "stdout",
     "output_type": "stream",
     "text": [
      "['마라', '쌀국수', '양꼬치', '핫도그']\n",
      "None\n",
      "None\n"
     ]
    }
   ],
   "source": [
    "print(mzfood)\n",
    "print(mzfood.reverse()) \n",
    "print(mzfood.sort())\n",
    "\n",
    "# reverse 왜 print문을 쓰면 none이 나올까? "
   ]
  },
  {
   "cell_type": "code",
   "execution_count": 34,
   "metadata": {},
   "outputs": [
    {
     "data": {
      "text/plain": [
       "[[2, 0], [3, 1], [4, 1]]"
      ]
     },
     "execution_count": 34,
     "metadata": {},
     "output_type": "execute_result"
    }
   ],
   "source": [
    "# 리스트 양파같은 존재...\n",
    "# 2차원 리스트에 대해서 공부 필수!!! \n",
    "\n",
    "양파같은 = [[2, 0], [3, 1]]\n",
    "양파같은\n",
    "\n",
    "양파같은[1]\n",
    "양파같은[1][0] #인덱스 1에서 0번... 와우\n",
    "\n",
    "양파같은.append([4, 1])\n",
    "양파같은"
   ]
  },
  {
   "cell_type": "code",
   "execution_count": null,
   "metadata": {},
   "outputs": [],
   "source": []
  },
  {
   "cell_type": "code",
   "execution_count": null,
   "metadata": {},
   "outputs": [],
   "source": []
  }
 ],
 "metadata": {
  "kernelspec": {
   "display_name": "Python 3",
   "language": "python",
   "name": "python3"
  },
  "language_info": {
   "codemirror_mode": {
    "name": "ipython",
    "version": 3
   },
   "file_extension": ".py",
   "mimetype": "text/x-python",
   "name": "python",
   "nbconvert_exporter": "python",
   "pygments_lexer": "ipython3",
   "version": "3.12.6"
  }
 },
 "nbformat": 4,
 "nbformat_minor": 2
}
