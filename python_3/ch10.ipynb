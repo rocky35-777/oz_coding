{
 "cells": [
  {
   "cell_type": "markdown",
   "metadata": {},
   "source": [
    "## list 리스트\n",
    "\n",
    "원소들이 연속적으로 저장되는 형태의 자료형이다.  \n",
    "\n",
    "시퀀스 자료형!  \n",
    "str(정복), list(정복 예정), tuple, dict, set  \n",
    "\n",
    "만드는 방법은 쉬운데 만들고 나서가 문제...  \n",
    "\n",
    "\n",
    "대괄호로 묶고, 그 안에 값들은 콤마 (,) 로 구분한다.   "
   ]
  },
  {
   "cell_type": "code",
   "execution_count": 1,
   "metadata": {},
   "outputs": [
    {
     "name": "stdout",
     "output_type": "stream",
     "text": [
      "[]\n"
     ]
    }
   ],
   "source": [
    "# 첫 리스트 두근두근\n",
    "\n",
    "리스트 = []\n",
    "print(리스트)"
   ]
  },
  {
   "cell_type": "code",
   "execution_count": 2,
   "metadata": {},
   "outputs": [
    {
     "name": "stdout",
     "output_type": "stream",
     "text": [
      "[23, '이게 리스트다', 3.23, True, False]\n"
     ]
    }
   ],
   "source": [
    "리스트 = [23, \"이게 리스트다\", 3.23, True, False]\n",
    "print(리스트)"
   ]
  },
  {
   "cell_type": "code",
   "execution_count": 4,
   "metadata": {},
   "outputs": [
    {
     "name": "stdout",
     "output_type": "stream",
     "text": [
      "['이', '렇', '게', '만', '들', '어', '요']\n"
     ]
    }
   ],
   "source": [
    "리스트 = [\"이\", \"렇\", \"게\", \"만\", \"들\", \"어\", \"요\"]\n",
    "print(리스트)"
   ]
  },
  {
   "cell_type": "code",
   "execution_count": 5,
   "metadata": {},
   "outputs": [
    {
     "data": {
      "text/plain": [
       "[]"
      ]
     },
     "execution_count": 5,
     "metadata": {},
     "output_type": "execute_result"
    }
   ],
   "source": [
    "리스트2 = list()\n",
    "리스트2"
   ]
  },
  {
   "cell_type": "code",
   "execution_count": 14,
   "metadata": {},
   "outputs": [
    {
     "data": {
      "text/plain": [
       "[0, 1, 2, 3, 4, 5, 6, 7, 8, 9, 10, 11, 12, 13, 14, 15, 16, 17, 18, 19, 20]"
      ]
     },
     "execution_count": 14,
     "metadata": {},
     "output_type": "execute_result"
    }
   ],
   "source": [
    "# range 연속된 숫자를 생산하는 기능\n",
    "range(10)\n",
    "\n",
    "# list(range(시작, 끝)))\n",
    "리스트_매직 = list(range(0, 21))\n",
    "리스트_매직"
   ]
  },
  {
   "cell_type": "code",
   "execution_count": 23,
   "metadata": {},
   "outputs": [
    {
     "name": "stdout",
     "output_type": "stream",
     "text": [
      "[0, 2, 4, 6, 8, 10, 12, 14, 16, 18, 20]\n",
      "[20, 19, 18, 17, 16, 15, 14, 13, 12, 11, 10, 9, 8, 7, 6, 5, 4, 3, 2, 1]\n",
      "[]\n"
     ]
    }
   ],
   "source": [
    "# list(range(시작, 끝, 증가))\n",
    "\n",
    "리스트_매직2 = list(range(0, 21, 2))\n",
    "print(리스트_매직2)\n",
    "\n",
    "리스트_매직3 = list(range(20, 0, -1))\n",
    "print(리스트_매직3)\n",
    "\n",
    "리스트_매직4 = list(range(20, 0))\n",
    "print(리스트_매직4)\n",
    "# 리스트_매직4 = list(range(0, 21, 2))\n"
   ]
  },
  {
   "cell_type": "code",
   "execution_count": 26,
   "metadata": {},
   "outputs": [
    {
     "name": "stdout",
     "output_type": "stream",
     "text": [
      "들 어 가\n",
      "7 7 8\n",
      "10000 2장, 5000 3장, 1000 1장\n"
     ]
    }
   ],
   "source": [
    "# 리스트를 이용해 변수에 값 넣기\n",
    "\n",
    "a, b, c = [\"들\", \"어\", \"가\"]\n",
    "print(a, b, c)\n",
    "\n",
    "d, e, f = [7, 7, 8]\n",
    "print(d, e, f)\n",
    "\n",
    "지갑 = [10000, 5000, 1000]\n",
    "만원, 오천원, 천원 = 지갑\n",
    "print(f\"{만원} 2장, {오천원} 3장, {천원} 1장\")"
   ]
  },
  {
   "cell_type": "code",
   "execution_count": null,
   "metadata": {},
   "outputs": [],
   "source": [
    "input().split() # 아무것도 입력안하면 띄어쓰기로 나눈다. \n",
    "# 리스트 패킹, 리스트 언패킹 개념 알기 \n",
    "\n"
   ]
  },
  {
   "cell_type": "markdown",
   "metadata": {},
   "source": [
    "## 로또 문제 풀기\n",
    "\n",
    "로또 = [3, 5, 15, 33, 41, 44]\n",
    "\n",
    "# 로또 변수에 있는 리스트의 인데스 1번부터 2번까지의 값을 출력해줘.\n",
    "\n",
    "# 로또 변수에 마지막 위치 출력해줘. \n",
    "\n",
    "# 반대로 출력해 보세요. \n",
    "\n",
    "# 로또 리스트안에 33이 있는지 확인해 보세요. \n",
    "\n",
    "# 로또 리스트를 로또2 리스트와 합쳐보세요. \n",
    "\n",
    "# range를 이용해서 1부터 10사이에 짝수만 들어있는 짝수(변수명) 리스트를 만들어 주세요. \n",
    "\n",
    "# 짝수 리스트에 들어있는 값을 2배 늘리고 다시 짝수 변수에 담아줘. \n",
    "\n",
    "# 짝수 리스트에 들어있는 요소의 개수를 구해주세요. \n",
    "\n",
    "# 짝수 리스트에 3번째 인데스를 출력해 주세요. \n",
    "\n",
    "# len() 함수를 이용해 인데스 마지막 값을 출력해 주세요. "
   ]
  },
  {
   "cell_type": "code",
   "execution_count": null,
   "metadata": {},
   "outputs": [
    {
     "name": "stdout",
     "output_type": "stream",
     "text": [
      "[5, 15]\n",
      "44\n",
      "[44, 41, 33, 15, 5, 3]\n",
      "[3, 5, 15, 33, 41, 44] [2, 12, 15, 24, 33, 39]\n",
      "[3, 5, 15, 33, 41, 44][2, 12, 15, 24, 33, 39]"
     ]
    }
   ],
   "source": [
    "로또 = [3, 5, 15, 33, 41, 44]\n",
    "\n",
    "# 로또 변수에 있는 리스트의 인데스 1번부터 2번까지의 값을 출력해줘.\n",
    "len(로또)\n",
    "print(로또[1:3]) #슬라이싱으로 해결\n",
    "\n",
    "# 로또 변수에 마지막 위치 출력해줘.\n",
    "print(로또[-1]) \n",
    "\n",
    "# 반대로 출력해 보세요. \n",
    "print(로또[::-1])\n",
    "\n",
    "# 로또 리스트안에 33이 있는지 확인해 보세요. \n",
    "로또.index(33) # 다른 방법은 없을까? if? \n",
    "\n",
    "# 로또 리스트를 로또2 리스트와 합쳐보세요. \n",
    "로또2 = [2, 12, 15, 24, 33, 39]\n",
    "\n",
    "print(로또, 로또2)\n",
    "print(로또, end = \"\")\n",
    "print(로또2, end = \"\")\n",
    "\n",
    "\n",
    "\n",
    "# range를 이용해서 1부터 10사이에 짝수만 들어있는 짝수(변수명) 리스트를 만들어 주세요. \n",
    "\n",
    "\n",
    "# 짝수 리스트에 들어있는 값을 2배 늘리고 다시 짝수 변수에 담아줘. \n",
    "\n",
    "# 짝수 리스트에 들어있는 요소의 개수를 구해주세요. \n",
    "\n",
    "# 짝수 리스트에 3번째 인데스를 출력해 주세요. \n",
    "\n",
    "# len() 함수를 이용해 인데스 마지막 값을 출력해 주세요. \n",
    "\n"
   ]
  },
  {
   "cell_type": "markdown",
   "metadata": {},
   "source": []
  }
 ],
 "metadata": {
  "kernelspec": {
   "display_name": "Python 3",
   "language": "python",
   "name": "python3"
  },
  "language_info": {
   "codemirror_mode": {
    "name": "ipython",
    "version": 3
   },
   "file_extension": ".py",
   "mimetype": "text/x-python",
   "name": "python",
   "nbconvert_exporter": "python",
   "pygments_lexer": "ipython3",
   "version": "3.12.6"
  }
 },
 "nbformat": 4,
 "nbformat_minor": 2
}
