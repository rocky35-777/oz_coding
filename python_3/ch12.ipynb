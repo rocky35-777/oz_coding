{
 "cells": [
  {
   "cell_type": "markdown",
   "metadata": {},
   "source": [
    "### dict 딕셔너리\n",
    "\n",
    "list, tuple, str, range 범위안에 연속된 데이터를 만드는 시퀀스  \n",
    "공통점 : 데이터의 연관성이 없음  \n",
    "\n",
    "dict 는 여러개의 값이 일렬로 정렬되면서 값끼리의 연관성 존재함.  \n",
    "\n",
    "예시) 게임 캐릭터 힘 30, 지능 40, 체력 90, 민첩40  \n",
    "\n",
    "dict 생성 방법은 중괄호{}  "
   ]
  },
  {
   "cell_type": "code",
   "execution_count": 4,
   "metadata": {},
   "outputs": [
    {
     "name": "stdout",
     "output_type": "stream",
     "text": [
      "짱짱맨님은 힘이 30입니다.\n"
     ]
    }
   ],
   "source": [
    "# list [], tuple(), dict{}\n",
    "\n",
    "짱짱맨 = {'힘' : 30, \"지능\" : 40, \"체력\" : 90, \"민첩\" : 40 }\n",
    "짱짱맨\n",
    "\n",
    "# {키 : 값}\n",
    "# {키1:벨류1, 키2:벨류}\n",
    "\n",
    "# 시퀀스 데이터는 인덱싱을 이용해 데이터를 찾았습니다. \n",
    "\n",
    "짱짱맨[\"힘\"] # 인덱싱은 안되지만 자동 데이터 불러와서 값을 출력할 수 있다. \n",
    "print(f'짱짱맨님은 힘이 {짱짱맨[\"힘\"]}입니다.')\n"
   ]
  },
  {
   "cell_type": "code",
   "execution_count": 1,
   "metadata": {},
   "outputs": [
    {
     "name": "stdout",
     "output_type": "stream",
     "text": [
      "{}\n",
      "{'힘': 30, '지능': 10}\n",
      "{'힘': 50, '지능': 20}\n"
     ]
    }
   ],
   "source": [
    "# 빈 딕셔너리 만들기\n",
    "\n",
    "딕셔너리 = {}\n",
    "딕셔너리\n",
    "\n",
    "딕셔너리2 = dict()\n",
    "print(딕셔너리2)\n",
    "\n",
    "# 값을 넣어 만드는 방법\n",
    "# dict()로 생성시 값 넣는 기호 \"\", :주의하세요!\n",
    "\n",
    "딕셔너리3 = dict(힘=30, 지능=10)\n",
    "print(딕셔너리3)\n",
    "\n",
    "# zip() 병렬처리 \n",
    "딕셔너리4 = dict(zip([\"힘\", \"지능\"], [50, 20]))\n",
    "print(딕셔너리4)\n"
   ]
  },
  {
   "cell_type": "code",
   "execution_count": 11,
   "metadata": {},
   "outputs": [
    {
     "name": "stdout",
     "output_type": "stream",
     "text": [
      "dict_keys(['힘', '지능', '체력', '민첩'])\n"
     ]
    }
   ],
   "source": [
    "# 키 값 중복 안됨 (가장 마지막에 적은 키 값을 입력)\n",
    "# 키를 통해서 값을 찾을 수 있기 때문에 키 중요!!!\n",
    "\n",
    "print(짱짱맨.keys())"
   ]
  },
  {
   "cell_type": "code",
   "execution_count": null,
   "metadata": {},
   "outputs": [],
   "source": [
    "# 공부\n",
    "\n",
    "# 해시, 해시맵, 해시테이블 자료구조를 활용한 알고리즘 문제가 많기 때문에 공부하기 "
   ]
  }
 ],
 "metadata": {
  "kernelspec": {
   "display_name": "Python 3",
   "language": "python",
   "name": "python3"
  },
  "language_info": {
   "codemirror_mode": {
    "name": "ipython",
    "version": 3
   },
   "file_extension": ".py",
   "mimetype": "text/x-python",
   "name": "python",
   "nbconvert_exporter": "python",
   "pygments_lexer": "ipython3",
   "version": "3.12.6"
  }
 },
 "nbformat": 4,
 "nbformat_minor": 2
}
